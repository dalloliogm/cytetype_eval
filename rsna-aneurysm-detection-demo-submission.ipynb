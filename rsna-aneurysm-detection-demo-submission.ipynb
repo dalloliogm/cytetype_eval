{
 "cells": [
  {
   "cell_type": "code",
   "execution_count": 1,
   "id": "6d8dc092",
   "metadata": {
    "execution": {
     "iopub.execute_input": "2025-07-29T21:22:21.245461Z",
     "iopub.status.busy": "2025-07-29T21:22:21.245072Z",
     "iopub.status.idle": "2025-07-29T21:22:25.518215Z",
     "shell.execute_reply": "2025-07-29T21:22:25.517182Z"
    },
    "papermill": {
     "duration": 4.279405,
     "end_time": "2025-07-29T21:22:25.520044",
     "exception": false,
     "start_time": "2025-07-29T21:22:21.240639",
     "status": "completed"
    },
    "tags": []
   },
   "outputs": [],
   "source": [
    "import os\n",
    "import shutil\n",
    "from collections import defaultdict\n",
    "\n",
    "import pandas as pd\n",
    "import polars as pl\n",
    "import pydicom\n",
    "\n",
    "import kaggle_evaluation.rsna_inference_server"
   ]
  },
  {
   "cell_type": "markdown",
   "id": "9530b71b",
   "metadata": {
    "papermill": {
     "duration": 0.001766,
     "end_time": "2025-07-29T21:22:25.524599",
     "exception": false,
     "start_time": "2025-07-29T21:22:25.522833",
     "status": "completed"
    },
    "tags": []
   },
   "source": [
    "The evaluation API requires that you set up a server which will respond to inference requests. We have already defined the server; you just need write the predict function. When we evaluate your submission on the hidden test set the client defined in `rsna_gateway` will run in a different container with direct access to the hidden test set and hand off the data series by series.\n",
    "\n",
    "Your code will always have access to the published copies of the files."
   ]
  },
  {
   "cell_type": "code",
   "execution_count": 2,
   "id": "23fdb463",
   "metadata": {
    "execution": {
     "iopub.execute_input": "2025-07-29T21:22:25.530345Z",
     "iopub.status.busy": "2025-07-29T21:22:25.529856Z",
     "iopub.status.idle": "2025-07-29T21:22:25.542580Z",
     "shell.execute_reply": "2025-07-29T21:22:25.541616Z"
    },
    "papermill": {
     "duration": 0.017582,
     "end_time": "2025-07-29T21:22:25.544130",
     "exception": false,
     "start_time": "2025-07-29T21:22:25.526548",
     "status": "completed"
    },
    "tags": []
   },
   "outputs": [],
   "source": [
    "ID_COL = 'SeriesInstanceUID'\n",
    "\n",
    "LABEL_COLS = [\n",
    "    'Left Infraclinoid Internal Carotid Artery',\n",
    "    'Right Infraclinoid Internal Carotid Artery',\n",
    "    'Left Supraclinoid Internal Carotid Artery',\n",
    "    'Right Supraclinoid Internal Carotid Artery',\n",
    "    'Left Middle Cerebral Artery',\n",
    "    'Right Middle Cerebral Artery',\n",
    "    'Anterior Communicating Artery',\n",
    "    'Left Anterior Cerebral Artery',\n",
    "    'Right Anterior Cerebral Artery',\n",
    "    'Left Posterior Communicating Artery',\n",
    "    'Right Posterior Communicating Artery',\n",
    "    'Basilar Tip',\n",
    "    'Other Posterior Circulation',\n",
    "    'Aneurysm Present',\n",
    "]\n",
    "\n",
    "# All tags (other than PixelData and SeriesInstanceUID) that may be in a test set dcm file\n",
    "DICOM_TAG_ALLOWLIST = [\n",
    "    'BitsAllocated',\n",
    "    'BitsStored',\n",
    "    'Columns',\n",
    "    'FrameOfReferenceUID',\n",
    "    'HighBit',\n",
    "    'ImageOrientationPatient',\n",
    "    'ImagePositionPatient',\n",
    "    'InstanceNumber',\n",
    "    'Modality',\n",
    "    'PatientID',\n",
    "    'PhotometricInterpretation',\n",
    "    'PixelRepresentation',\n",
    "    'PixelSpacing',\n",
    "    'PlanarConfiguration',\n",
    "    'RescaleIntercept',\n",
    "    'RescaleSlope',\n",
    "    'RescaleType',\n",
    "    'Rows',\n",
    "    'SOPClassUID',\n",
    "    'SOPInstanceUID',\n",
    "    'SamplesPerPixel',\n",
    "    'SliceThickness',\n",
    "    'SpacingBetweenSlices',\n",
    "    'StudyInstanceUID',\n",
    "    'TransferSyntaxUID',\n",
    "]\n",
    "\n",
    "# Replace this function with your inference code.\n",
    "# You can return either a Pandas or Polars dataframe, though Polars is recommended.\n",
    "# Each prediction (except the very first) must be returned within 30 minutes of the series being provided.\n",
    "def predict(series_path: str) -> pl.DataFrame | pd.DataFrame:\n",
    "    \"\"\"Make a prediction.\"\"\"\n",
    "    # --------- Replace this section with your own prediction code ---------\n",
    "    series_id = os.path.basename(series_path)\n",
    "    \n",
    "    all_filepaths = []\n",
    "    for root, _, files in os.walk(series_path):\n",
    "        for file in files:\n",
    "            if file.endswith('.dcm'):\n",
    "                all_filepaths.append(os.path.join(root, file))\n",
    "    all_filepaths.sort()\n",
    "    \n",
    "    # Collect tags from the dicoms\n",
    "    tags = defaultdict(list)\n",
    "    tags['SeriesInstanceUID'] = series_id\n",
    "    global dcms\n",
    "    for filepath in all_filepaths:\n",
    "        ds = pydicom.dcmread(filepath, force=True)\n",
    "        tags['filepath'].append(filepath)\n",
    "        for tag in DICOM_TAG_ALLOWLIST:\n",
    "            tags[tag].append(getattr(ds, tag, None))\n",
    "        # The image is in ds.PixelData\n",
    "\n",
    "    # ... do some machine learning magic ...\n",
    "    predictions = pl.DataFrame(\n",
    "        data=[[series_id] + [0.5] * len(LABEL_COLS)],\n",
    "        schema=[ID_COL, *LABEL_COLS],\n",
    "        orient='row',\n",
    "    )\n",
    "    # ----------------------------------------------------------------------\n",
    "\n",
    "    if isinstance(predictions, pl.DataFrame):\n",
    "        assert predictions.columns == [ID_COL, *LABEL_COLS]\n",
    "    elif isinstance(predictions, pd.DataFrame):\n",
    "        assert (predictions.columns == [ID_COL, *LABEL_COLS]).all()\n",
    "    else:\n",
    "        raise TypeError('The predict function must return a DataFrame')\n",
    "\n",
    "    # ----------------------------- IMPORTANT ------------------------------\n",
    "    # You MUST have the following code in your `predict` function\n",
    "    # to prevent \"out of disk space\" errors. This is a temporary workaround\n",
    "    # as we implement improvements to our evaluation system.\n",
    "    shutil.rmtree('/kaggle/shared', ignore_errors=True)\n",
    "    # ----------------------------------------------------------------------\n",
    "    \n",
    "    return predictions.drop(ID_COL)"
   ]
  },
  {
   "cell_type": "markdown",
   "id": "e6672fba",
   "metadata": {
    "papermill": {
     "duration": 0.001764,
     "end_time": "2025-07-29T21:22:25.548177",
     "exception": false,
     "start_time": "2025-07-29T21:22:25.546413",
     "status": "completed"
    },
    "tags": []
   },
   "source": [
    "When your notebook is run on the hidden test set, `inference_server.serve` must be called within 15 minutes of the notebook starting or the gateway will throw an error. If you need more than 15 minutes to load your model you can do so during the very first `predict` call."
   ]
  },
  {
   "cell_type": "code",
   "execution_count": 3,
   "id": "e899fc9d",
   "metadata": {
    "execution": {
     "iopub.execute_input": "2025-07-29T21:22:25.553256Z",
     "iopub.status.busy": "2025-07-29T21:22:25.552906Z",
     "iopub.status.idle": "2025-07-29T21:22:42.766227Z",
     "shell.execute_reply": "2025-07-29T21:22:42.764771Z"
    },
    "papermill": {
     "duration": 17.218001,
     "end_time": "2025-07-29T21:22:42.768019",
     "exception": false,
     "start_time": "2025-07-29T21:22:25.550018",
     "status": "completed"
    },
    "tags": []
   },
   "outputs": [
    {
     "data": {
      "text/html": [
       "<div><style>\n",
       ".dataframe > thead > tr,\n",
       ".dataframe > tbody > tr {\n",
       "  text-align: right;\n",
       "  white-space: pre-wrap;\n",
       "}\n",
       "</style>\n",
       "<small>shape: (3, 15)</small><table border=\"1\" class=\"dataframe\"><thead><tr><th>SeriesInstanceUID</th><th>Left Infraclinoid Internal Carotid Artery</th><th>Right Infraclinoid Internal Carotid Artery</th><th>Left Supraclinoid Internal Carotid Artery</th><th>Right Supraclinoid Internal Carotid Artery</th><th>Left Middle Cerebral Artery</th><th>Right Middle Cerebral Artery</th><th>Anterior Communicating Artery</th><th>Left Anterior Cerebral Artery</th><th>Right Anterior Cerebral Artery</th><th>Left Posterior Communicating Artery</th><th>Right Posterior Communicating Artery</th><th>Basilar Tip</th><th>Other Posterior Circulation</th><th>Aneurysm Present</th></tr><tr><td>str</td><td>f64</td><td>f64</td><td>f64</td><td>f64</td><td>f64</td><td>f64</td><td>f64</td><td>f64</td><td>f64</td><td>f64</td><td>f64</td><td>f64</td><td>f64</td><td>f64</td></tr></thead><tbody><tr><td>&quot;1.2.826.0.1.3680043.8.498.1007…</td><td>0.5</td><td>0.5</td><td>0.5</td><td>0.5</td><td>0.5</td><td>0.5</td><td>0.5</td><td>0.5</td><td>0.5</td><td>0.5</td><td>0.5</td><td>0.5</td><td>0.5</td><td>0.5</td></tr><tr><td>&quot;1.2.826.0.1.3680043.8.498.1002…</td><td>0.5</td><td>0.5</td><td>0.5</td><td>0.5</td><td>0.5</td><td>0.5</td><td>0.5</td><td>0.5</td><td>0.5</td><td>0.5</td><td>0.5</td><td>0.5</td><td>0.5</td><td>0.5</td></tr><tr><td>&quot;1.2.826.0.1.3680043.8.498.1005…</td><td>0.5</td><td>0.5</td><td>0.5</td><td>0.5</td><td>0.5</td><td>0.5</td><td>0.5</td><td>0.5</td><td>0.5</td><td>0.5</td><td>0.5</td><td>0.5</td><td>0.5</td><td>0.5</td></tr></tbody></table></div>"
      ],
      "text/plain": [
       "shape: (3, 15)\n",
       "┌───────────┬───────────┬───────────┬───────────┬───┬───────────┬───────────┬───────────┬──────────┐\n",
       "│ SeriesIns ┆ Left Infr ┆ Right Inf ┆ Left Supr ┆ … ┆ Right     ┆ Basilar   ┆ Other     ┆ Aneurysm │\n",
       "│ tanceUID  ┆ aclinoid  ┆ raclinoid ┆ aclinoid  ┆   ┆ Posterior ┆ Tip       ┆ Posterior ┆ Present  │\n",
       "│ ---       ┆ Internal  ┆ Internal  ┆ Internal  ┆   ┆ Communica ┆ ---       ┆ Circulati ┆ ---      │\n",
       "│ str       ┆ Car…      ┆ Ca…       ┆ Car…      ┆   ┆ ting …    ┆ f64       ┆ on        ┆ f64      │\n",
       "│           ┆ ---       ┆ ---       ┆ ---       ┆   ┆ ---       ┆           ┆ ---       ┆          │\n",
       "│           ┆ f64       ┆ f64       ┆ f64       ┆   ┆ f64       ┆           ┆ f64       ┆          │\n",
       "╞═══════════╪═══════════╪═══════════╪═══════════╪═══╪═══════════╪═══════════╪═══════════╪══════════╡\n",
       "│ 1.2.826.0 ┆ 0.5       ┆ 0.5       ┆ 0.5       ┆ … ┆ 0.5       ┆ 0.5       ┆ 0.5       ┆ 0.5      │\n",
       "│ .1.368004 ┆           ┆           ┆           ┆   ┆           ┆           ┆           ┆          │\n",
       "│ 3.8.498.1 ┆           ┆           ┆           ┆   ┆           ┆           ┆           ┆          │\n",
       "│ 007…      ┆           ┆           ┆           ┆   ┆           ┆           ┆           ┆          │\n",
       "│ 1.2.826.0 ┆ 0.5       ┆ 0.5       ┆ 0.5       ┆ … ┆ 0.5       ┆ 0.5       ┆ 0.5       ┆ 0.5      │\n",
       "│ .1.368004 ┆           ┆           ┆           ┆   ┆           ┆           ┆           ┆          │\n",
       "│ 3.8.498.1 ┆           ┆           ┆           ┆   ┆           ┆           ┆           ┆          │\n",
       "│ 002…      ┆           ┆           ┆           ┆   ┆           ┆           ┆           ┆          │\n",
       "│ 1.2.826.0 ┆ 0.5       ┆ 0.5       ┆ 0.5       ┆ … ┆ 0.5       ┆ 0.5       ┆ 0.5       ┆ 0.5      │\n",
       "│ .1.368004 ┆           ┆           ┆           ┆   ┆           ┆           ┆           ┆          │\n",
       "│ 3.8.498.1 ┆           ┆           ┆           ┆   ┆           ┆           ┆           ┆          │\n",
       "│ 005…      ┆           ┆           ┆           ┆   ┆           ┆           ┆           ┆          │\n",
       "└───────────┴───────────┴───────────┴───────────┴───┴───────────┴───────────┴───────────┴──────────┘"
      ]
     },
     "metadata": {},
     "output_type": "display_data"
    }
   ],
   "source": [
    "inference_server = kaggle_evaluation.rsna_inference_server.RSNAInferenceServer(predict)\n",
    "\n",
    "if os.getenv('KAGGLE_IS_COMPETITION_RERUN'):\n",
    "    inference_server.serve()\n",
    "else:\n",
    "    inference_server.run_local_gateway()\n",
    "    display(pl.read_parquet('/kaggle/working/submission.parquet'))"
   ]
  }
 ],
 "metadata": {
  "jupytext": {
   "cell_metadata_filter": "-all",
   "main_language": "python",
   "notebook_metadata_filter": "-all"
  },
  "kaggle": {
   "accelerator": "none",
   "dataSources": [
    {
     "databundleVersionId": 13190393,
     "sourceId": 99552,
     "sourceType": "competition"
    }
   ],
   "dockerImageVersionId": 31089,
   "isGpuEnabled": false,
   "isInternetEnabled": false,
   "language": "python",
   "sourceType": "notebook"
  },
  "kernelspec": {
   "display_name": "Python 3",
   "language": "python",
   "name": "python3"
  },
  "language_info": {
   "codemirror_mode": {
    "name": "ipython",
    "version": 3
   },
   "file_extension": ".py",
   "mimetype": "text/x-python",
   "name": "python",
   "nbconvert_exporter": "python",
   "pygments_lexer": "ipython3",
   "version": "3.11.13"
  },
  "papermill": {
   "default_parameters": {},
   "duration": 27.829155,
   "end_time": "2025-07-29T21:22:43.391342",
   "environment_variables": {},
   "exception": null,
   "input_path": "__notebook__.ipynb",
   "output_path": "__notebook__.ipynb",
   "parameters": {},
   "start_time": "2025-07-29T21:22:15.562187",
   "version": "2.6.0"
  }
 },
 "nbformat": 4,
 "nbformat_minor": 5
}
