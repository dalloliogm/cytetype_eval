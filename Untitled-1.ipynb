{
 "cells": [
  {
   "cell_type": "code",
   "execution_count": 1,
   "id": "350a039f",
   "metadata": {},
   "outputs": [],
   "source": [
    "import os\n",
    "import scanpy as sc\n",
    "\n",
    "if not os.path.exists(\"paul15_small.h5ad\"):\n",
    "    adata = sc.datasets.paul15()\n",
    "    adata.write(\"paul15_small.h5ad\")\n",
    "else:\n",
    "    adata = sc.read(\"paul15_small.h5ad\")\n"
   ]
  },
  {
   "cell_type": "code",
   "execution_count": 10,
   "id": "86b7e32d",
   "metadata": {},
   "outputs": [
    {
     "name": "stdout",
     "output_type": "stream",
     "text": [
      "WARNING: adata.X seems to be already log-transformed.\n"
     ]
    }
   ],
   "source": [
    "sc.pp.normalize_total(adata, target_sum=1e4)\n",
    "sc.pp.log1p(adata)\n",
    "sc.pp.pca(adata)\n",
    "sc.pp.neighbors(adata)\n",
    "sc.tl.leiden(adata, key_added = \"clusters\") \n",
    "\n",
    "sc.tl.rank_genes_groups(adata, groupby='clusters', method='t-test')"
   ]
  },
  {
   "cell_type": "code",
   "execution_count": 11,
   "id": "3e5ab1fa",
   "metadata": {},
   "outputs": [
    {
     "data": {
      "text/html": [
       "<div>\n",
       "<style scoped>\n",
       "    .dataframe tbody tr th:only-of-type {\n",
       "        vertical-align: middle;\n",
       "    }\n",
       "\n",
       "    .dataframe tbody tr th {\n",
       "        vertical-align: top;\n",
       "    }\n",
       "\n",
       "    .dataframe thead th {\n",
       "        text-align: right;\n",
       "    }\n",
       "</style>\n",
       "<table border=\"1\" class=\"dataframe\">\n",
       "  <thead>\n",
       "    <tr style=\"text-align: right;\">\n",
       "      <th></th>\n",
       "      <th>paul15_clusters</th>\n",
       "      <th>leiden</th>\n",
       "      <th>clusters</th>\n",
       "    </tr>\n",
       "  </thead>\n",
       "  <tbody>\n",
       "    <tr>\n",
       "      <th>W31105</th>\n",
       "      <td>7MEP</td>\n",
       "      <td>3</td>\n",
       "      <td>5</td>\n",
       "    </tr>\n",
       "    <tr>\n",
       "      <th>W31106</th>\n",
       "      <td>15Mo</td>\n",
       "      <td>2</td>\n",
       "      <td>0</td>\n",
       "    </tr>\n",
       "    <tr>\n",
       "      <th>W31107</th>\n",
       "      <td>3Ery</td>\n",
       "      <td>7</td>\n",
       "      <td>2</td>\n",
       "    </tr>\n",
       "    <tr>\n",
       "      <th>W31108</th>\n",
       "      <td>15Mo</td>\n",
       "      <td>2</td>\n",
       "      <td>7</td>\n",
       "    </tr>\n",
       "    <tr>\n",
       "      <th>W31109</th>\n",
       "      <td>3Ery</td>\n",
       "      <td>0</td>\n",
       "      <td>2</td>\n",
       "    </tr>\n",
       "    <tr>\n",
       "      <th>...</th>\n",
       "      <td>...</td>\n",
       "      <td>...</td>\n",
       "      <td>...</td>\n",
       "    </tr>\n",
       "    <tr>\n",
       "      <th>W39164</th>\n",
       "      <td>2Ery</td>\n",
       "      <td>0</td>\n",
       "      <td>2</td>\n",
       "    </tr>\n",
       "    <tr>\n",
       "      <th>W39165</th>\n",
       "      <td>13Baso</td>\n",
       "      <td>2</td>\n",
       "      <td>0</td>\n",
       "    </tr>\n",
       "    <tr>\n",
       "      <th>W39166</th>\n",
       "      <td>7MEP</td>\n",
       "      <td>3</td>\n",
       "      <td>5</td>\n",
       "    </tr>\n",
       "    <tr>\n",
       "      <th>W39167</th>\n",
       "      <td>15Mo</td>\n",
       "      <td>2</td>\n",
       "      <td>7</td>\n",
       "    </tr>\n",
       "    <tr>\n",
       "      <th>W39168</th>\n",
       "      <td>3Ery</td>\n",
       "      <td>7</td>\n",
       "      <td>2</td>\n",
       "    </tr>\n",
       "  </tbody>\n",
       "</table>\n",
       "<p>2730 rows × 3 columns</p>\n",
       "</div>"
      ],
      "text/plain": [
       "       paul15_clusters leiden clusters\n",
       "W31105            7MEP      3        5\n",
       "W31106            15Mo      2        0\n",
       "W31107            3Ery      7        2\n",
       "W31108            15Mo      2        7\n",
       "W31109            3Ery      0        2\n",
       "...                ...    ...      ...\n",
       "W39164            2Ery      0        2\n",
       "W39165          13Baso      2        0\n",
       "W39166            7MEP      3        5\n",
       "W39167            15Mo      2        7\n",
       "W39168            3Ery      7        2\n",
       "\n",
       "[2730 rows x 3 columns]"
      ]
     },
     "execution_count": 11,
     "metadata": {},
     "output_type": "execute_result"
    }
   ],
   "source": [
    "adata.obs"
   ]
  },
  {
   "cell_type": "code",
   "execution_count": null,
   "id": "e3e9fb9a",
   "metadata": {},
   "outputs": [],
   "source": [
    "# Load and preprocess your data\n",
    "adata.var[\"gene_symbols\"] = adata.var_names\n",
    "\n",
    "# We compute the clusters as suggested by the tutorial\n",
    "# However, this produces 10 clusters. We are going to use the 19 \n",
    "# clusters from the original paper, which are stored in the `paul15_clusters` column.\n",
    "sc.pp.normalize_total(adata, target_sum=1e4)\n",
    "sc.pp.log1p(adata)\n",
    "sc.pp.pca(adata)\n",
    "sc.pp.neighbors(adata)\n",
    "sc.tl.leiden(adata) \n",
    "sc.tl.rank_genes_groups(adata, groupby='paul15_clusters', method='t-test')"
   ]
  }
 ],
 "metadata": {
  "kernelspec": {
   "display_name": "Python 3",
   "language": "python",
   "name": "python3"
  },
  "language_info": {
   "codemirror_mode": {
    "name": "ipython",
    "version": 3
   },
   "file_extension": ".py",
   "mimetype": "text/x-python",
   "name": "python",
   "nbconvert_exporter": "python",
   "pygments_lexer": "ipython3",
   "version": "3.12.10"
  }
 },
 "nbformat": 4,
 "nbformat_minor": 5
}
