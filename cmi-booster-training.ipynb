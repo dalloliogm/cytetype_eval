{
 "cells": [
  {
   "cell_type": "markdown",
   "id": "0677f7e4",
   "metadata": {
    "papermill": {
     "duration": 0.004029,
     "end_time": "2025-07-24T14:22:56.064509",
     "exception": false,
     "start_time": "2025-07-24T14:22:56.060480",
     "status": "completed"
    },
    "tags": []
   },
   "source": [
    "# <div style=\"color:#2d83ed; font-family: 'Segoe UI'; text-align: center; border-top:5px solid green; padding-left:10px; background-color:#F8F9F9; padding:10px; border-radius:5px;font-weight: bold\">🚆 Model Training</div>\n",
    "\n",
    "For Competition notebook visit ---> [https://www.kaggle.com/code/taimour/cmi-deep-dive-eda-boosters](https://www.kaggle.com/code/taimour/cmi-deep-dive-eda-boosters)\n",
    "\n",
    "Due to time limitations, model was trained separately in this notebook."
   ]
  },
  {
   "cell_type": "markdown",
   "id": "52566743",
   "metadata": {
    "papermill": {
     "duration": 0.002822,
     "end_time": "2025-07-24T14:22:56.070680",
     "exception": false,
     "start_time": "2025-07-24T14:22:56.067858",
     "status": "completed"
    },
    "tags": []
   },
   "source": [
    "# <div style=\"color:#2d83ed; font-family: 'Segoe UI'; text-align: center; border-top:5px solid green; padding-left:10px; background-color:#F8F9F9; padding:10px; border-radius:5px;font-weight: bold\">📚 Libraries / Packages</div>"
   ]
  },
  {
   "cell_type": "code",
   "execution_count": 1,
   "id": "52590608",
   "metadata": {
    "_cell_guid": "b1076dfc-b9ad-4769-8c92-a6c4dae69d19",
    "_uuid": "8f2839f25d086af736a60e9eeb907d3b93b6e0e5",
    "execution": {
     "iopub.execute_input": "2025-07-24T14:22:56.077841Z",
     "iopub.status.busy": "2025-07-24T14:22:56.077555Z",
     "iopub.status.idle": "2025-07-24T14:23:00.496208Z",
     "shell.execute_reply": "2025-07-24T14:23:00.495622Z"
    },
    "papermill": {
     "duration": 4.42397,
     "end_time": "2025-07-24T14:23:00.497683",
     "exception": false,
     "start_time": "2025-07-24T14:22:56.073713",
     "status": "completed"
    },
    "tags": []
   },
   "outputs": [],
   "source": [
    "import numpy as np # linear algebra\n",
    "import pandas as pd # data processing, CSV file I/O (e.g. pd.read_csv)\n",
    "\n",
    "import os\n",
    "import polars as pl\n",
    "import kaggle_evaluation.cmi_inference_server\n",
    "import joblib\n",
    "\n",
    "import catboost\n",
    "from catboost import CatBoostClassifier\n",
    "from sklearn.model_selection import StratifiedKFold\n",
    "from sklearn.metrics import accuracy_score, f1_score\n",
    "from scipy.spatial.transform import Rotation as R\n",
    "\n",
    "from sklearn.preprocessing import LabelEncoder"
   ]
  },
  {
   "cell_type": "markdown",
   "id": "e3444c37",
   "metadata": {
    "papermill": {
     "duration": 0.003052,
     "end_time": "2025-07-24T14:23:00.504166",
     "exception": false,
     "start_time": "2025-07-24T14:23:00.501114",
     "status": "completed"
    },
    "tags": []
   },
   "source": [
    "# <div style=\"color:#2d83ed; font-family: 'Segoe UI'; text-align: center; border-top:5px solid green; padding-left:10px; background-color:#F8F9F9; padding:10px; border-radius:5px;font-weight: bold\">📖 Load Data</div>"
   ]
  },
  {
   "cell_type": "code",
   "execution_count": 2,
   "id": "eb34615a",
   "metadata": {
    "execution": {
     "iopub.execute_input": "2025-07-24T14:23:00.511464Z",
     "iopub.status.busy": "2025-07-24T14:23:00.510815Z",
     "iopub.status.idle": "2025-07-24T14:23:12.929375Z",
     "shell.execute_reply": "2025-07-24T14:23:12.928710Z"
    },
    "papermill": {
     "duration": 12.423565,
     "end_time": "2025-07-24T14:23:12.930744",
     "exception": false,
     "start_time": "2025-07-24T14:23:00.507179",
     "status": "completed"
    },
    "tags": []
   },
   "outputs": [],
   "source": [
    "train = pl.read_csv('/kaggle/input/cmi-detect-behavior-with-sensor-data/train.csv')\n",
    "train_demo = pl.read_csv('/kaggle/input/cmi-detect-behavior-with-sensor-data/train_demographics.csv')\n",
    "\n",
    "# Drop these columns from training data\n",
    "train = train.drop(['phase', 'orientation', 'behavior', 'sequence_type'])\n",
    "\n",
    "data = train.join(train_demo,on=\"subject\",how=\"left\")\n",
    "# data = train"
   ]
  },
  {
   "cell_type": "markdown",
   "id": "608b6733",
   "metadata": {
    "papermill": {
     "duration": 0.002881,
     "end_time": "2025-07-24T14:23:12.937144",
     "exception": false,
     "start_time": "2025-07-24T14:23:12.934263",
     "status": "completed"
    },
    "tags": []
   },
   "source": [
    "# <div style=\"color:#2d83ed; font-family: 'Segoe UI'; text-align: center; border-top:5px solid green; padding-left:10px; background-color:#F8F9F9; padding:10px; border-radius:5px;font-weight: bold\">💎 Feature Engineering</div>\n",
    "\n",
    "**Helper Functions**"
   ]
  },
  {
   "cell_type": "code",
   "execution_count": 3,
   "id": "2c137354",
   "metadata": {
    "execution": {
     "iopub.execute_input": "2025-07-24T14:23:12.944690Z",
     "iopub.status.busy": "2025-07-24T14:23:12.944450Z",
     "iopub.status.idle": "2025-07-24T14:23:12.955725Z",
     "shell.execute_reply": "2025-07-24T14:23:12.955015Z"
    },
    "papermill": {
     "duration": 0.016789,
     "end_time": "2025-07-24T14:23:12.956861",
     "exception": false,
     "start_time": "2025-07-24T14:23:12.940072",
     "status": "completed"
    },
    "tags": []
   },
   "outputs": [],
   "source": [
    "def remove_gravity_from_acc(acc_data, rot_data):\n",
    "\n",
    "    if isinstance(acc_data, pd.DataFrame):\n",
    "        acc_values = acc_data[['acc_x', 'acc_y', 'acc_z']].values\n",
    "    else:\n",
    "        acc_values = acc_data\n",
    "\n",
    "    if isinstance(rot_data, pd.DataFrame):\n",
    "        quat_values = rot_data[['rot_x', 'rot_y', 'rot_z', 'rot_w']].values\n",
    "    else:\n",
    "        quat_values = rot_data\n",
    "\n",
    "    num_samples = acc_values.shape[0]\n",
    "    linear_accel = np.zeros_like(acc_values)\n",
    "    \n",
    "    gravity_world = np.array([0, 0, 9.81])\n",
    "\n",
    "    for i in range(num_samples):\n",
    "        if np.all(np.isnan(quat_values[i])) or np.all(np.isclose(quat_values[i], 0)):\n",
    "            linear_accel[i, :] = acc_values[i, :] \n",
    "            continue\n",
    "\n",
    "        try:\n",
    "            rotation = R.from_quat(quat_values[i])\n",
    "            gravity_sensor_frame = rotation.apply(gravity_world, inverse=True)\n",
    "            linear_accel[i, :] = acc_values[i, :] - gravity_sensor_frame\n",
    "        except ValueError:\n",
    "             linear_accel[i, :] = acc_values[i, :]\n",
    "             \n",
    "    return linear_accel\n",
    "\n",
    "def calculate_angular_velocity_from_quat(rot_data, time_delta=1/200): # Assuming 200Hz sampling rate\n",
    "    if isinstance(rot_data, pd.DataFrame):\n",
    "        quat_values = rot_data[['rot_x', 'rot_y', 'rot_z', 'rot_w']].values\n",
    "    else:\n",
    "        quat_values = rot_data\n",
    "\n",
    "    num_samples = quat_values.shape[0]\n",
    "    angular_vel = np.zeros((num_samples, 3))\n",
    "\n",
    "    for i in range(num_samples - 1):\n",
    "        q_t = quat_values[i]\n",
    "        q_t_plus_dt = quat_values[i+1]\n",
    "\n",
    "        if np.all(np.isnan(q_t)) or np.all(np.isclose(q_t, 0)) or \\\n",
    "           np.all(np.isnan(q_t_plus_dt)) or np.all(np.isclose(q_t_plus_dt, 0)):\n",
    "            continue\n",
    "\n",
    "        try:\n",
    "            rot_t = R.from_quat(q_t)\n",
    "            rot_t_plus_dt = R.from_quat(q_t_plus_dt)\n",
    "\n",
    "            # Calculate the relative rotation\n",
    "            delta_rot = rot_t.inv() * rot_t_plus_dt\n",
    "            \n",
    "            # Convert delta rotation to angular velocity vector\n",
    "            # The rotation vector (Euler axis * angle) scaled by 1/dt\n",
    "            # is a good approximation for small delta_rot\n",
    "            angular_vel[i, :] = delta_rot.as_rotvec() / time_delta\n",
    "        except ValueError:\n",
    "            # If quaternion is invalid, angular velocity remains zero\n",
    "            pass\n",
    "            \n",
    "    return angular_vel\n",
    "\n",
    "def calculate_angular_distance(rot_data):\n",
    "    if isinstance(rot_data, pd.DataFrame):\n",
    "        quat_values = rot_data[['rot_x', 'rot_y', 'rot_z', 'rot_w']].values\n",
    "    else:\n",
    "        quat_values = rot_data\n",
    "\n",
    "    num_samples = quat_values.shape[0]\n",
    "    angular_dist = np.zeros(num_samples)\n",
    "\n",
    "    for i in range(num_samples - 1):\n",
    "        q1 = quat_values[i]\n",
    "        q2 = quat_values[i+1]\n",
    "\n",
    "        if np.all(np.isnan(q1)) or np.all(np.isclose(q1, 0)) or \\\n",
    "           np.all(np.isnan(q2)) or np.all(np.isclose(q2, 0)):\n",
    "            angular_dist[i] = 0 # Или np.nan, в зависимости от желаемого поведения\n",
    "            continue\n",
    "        try:\n",
    "            # Converting quaternions to Rotation objects\n",
    "            r1 = R.from_quat(q1)\n",
    "            r2 = R.from_quat(q2)\n",
    "\n",
    "            # Calculating the angular distance: 2 * arccos(|real(p * q*)|)\n",
    "            # where q* is the conjugate of quaternion q\n",
    "            # In scipy.spatial.transform.Rotation, r1.inv() * r2 gives the relative rotation.\n",
    "            # The angle of this relative rotation is the angular distance.\n",
    "            relative_rotation = r1.inv() * r2\n",
    "            \n",
    "            # The angle of the rotation vector corresponds to the angular distance\n",
    "            # The norm of the rotation vector is the angle in radians\n",
    "            angle = np.linalg.norm(relative_rotation.as_rotvec())\n",
    "            angular_dist[i] = angle\n",
    "        except ValueError:\n",
    "            angular_dist[i] = 0 # In case of invalid quaternions\n",
    "            pass\n",
    "            \n",
    "    return angular_dist"
   ]
  },
  {
   "cell_type": "markdown",
   "id": "2ecdd763",
   "metadata": {
    "papermill": {
     "duration": 0.002777,
     "end_time": "2025-07-24T14:23:12.962635",
     "exception": false,
     "start_time": "2025-07-24T14:23:12.959858",
     "status": "completed"
    },
    "tags": []
   },
   "source": [
    "**IMU**"
   ]
  },
  {
   "cell_type": "code",
   "execution_count": 4,
   "id": "7eeeeb99",
   "metadata": {
    "execution": {
     "iopub.execute_input": "2025-07-24T14:23:12.970112Z",
     "iopub.status.busy": "2025-07-24T14:23:12.969932Z",
     "iopub.status.idle": "2025-07-24T14:23:12.976958Z",
     "shell.execute_reply": "2025-07-24T14:23:12.976476Z"
    },
    "papermill": {
     "duration": 0.011562,
     "end_time": "2025-07-24T14:23:12.977922",
     "exception": false,
     "start_time": "2025-07-24T14:23:12.966360",
     "status": "completed"
    },
    "tags": []
   },
   "outputs": [],
   "source": [
    "def feature_engineering_imu(data:pl.DataFrame):\n",
    "    data = data.to_pandas()\n",
    "    data['acc_mag'] = np.sqrt(data['acc_x']**2 + data['acc_y']**2 + data['acc_z']**2)\n",
    "    data['rot_angle'] = 2 * np.arccos(data['rot_w'].clip(-1, 1))\n",
    "    data['acc_mag_jerk'] = data.groupby('sequence_id')['acc_mag'].diff().fillna(0)\n",
    "    data['rot_angle_vel'] = data.groupby('sequence_id')['rot_angle'].diff().fillna(0)\n",
    "\n",
    "    linear_accel_list = []\n",
    "    for _, group in data.groupby('sequence_id'):\n",
    "        acc_data_group = group[['acc_x', 'acc_y', 'acc_z']]\n",
    "        rot_data_group = group[['rot_x', 'rot_y', 'rot_z', 'rot_w']]\n",
    "        linear_accel_group = remove_gravity_from_acc(acc_data_group, rot_data_group)\n",
    "        linear_accel_list.append(pd.DataFrame(linear_accel_group, columns=['linear_acc_x', 'linear_acc_y', 'linear_acc_z'], index=group.index))\n",
    "    \n",
    "    df_linear_accel = pd.concat(linear_accel_list)\n",
    "    data = pd.concat([data, df_linear_accel], axis=1)\n",
    "    data['linear_acc_mag'] = np.sqrt(data['linear_acc_x']**2 + data['linear_acc_y']**2 + data['linear_acc_z']**2)\n",
    "    data['linear_acc_mag_jerk'] = data.groupby('sequence_id')['linear_acc_mag'].diff().fillna(0)\n",
    "    angular_vel_list = []\n",
    "    for _, group in data.groupby('sequence_id'):\n",
    "        rot_data_group = group[['rot_x', 'rot_y', 'rot_z', 'rot_w']]\n",
    "        angular_vel_group = calculate_angular_velocity_from_quat(rot_data_group)\n",
    "        angular_vel_list.append(pd.DataFrame(angular_vel_group, columns=['angular_vel_x', 'angular_vel_y', 'angular_vel_z'], index=group.index))\n",
    "    \n",
    "    df_angular_vel = pd.concat(angular_vel_list)\n",
    "    data = pd.concat([data, df_angular_vel], axis=1)\n",
    "    \n",
    "    print(\"  Calculating angular distance between successive quaternions...\")\n",
    "    angular_distance_list = []\n",
    "    for _, group in data.groupby('sequence_id'):\n",
    "        rot_data_group = group[['rot_x', 'rot_y', 'rot_z', 'rot_w']]\n",
    "        angular_dist_group = calculate_angular_distance(rot_data_group)\n",
    "        angular_distance_list.append(pd.DataFrame(angular_dist_group, columns=['angular_distance'], index=group.index))\n",
    "    \n",
    "    df_angular_distance = pd.concat(angular_distance_list)\n",
    "    data = pd.concat([data, df_angular_distance], axis=1)\n",
    "    data = pl.from_pandas(data)\n",
    "    return data"
   ]
  },
  {
   "cell_type": "code",
   "execution_count": 5,
   "id": "23240809",
   "metadata": {
    "execution": {
     "iopub.execute_input": "2025-07-24T14:23:12.984805Z",
     "iopub.status.busy": "2025-07-24T14:23:12.984613Z",
     "iopub.status.idle": "2025-07-24T14:26:24.776146Z",
     "shell.execute_reply": "2025-07-24T14:26:24.775366Z"
    },
    "papermill": {
     "duration": 191.796672,
     "end_time": "2025-07-24T14:26:24.777700",
     "exception": false,
     "start_time": "2025-07-24T14:23:12.981028",
     "status": "completed"
    },
    "tags": []
   },
   "outputs": [
    {
     "name": "stderr",
     "output_type": "stream",
     "text": [
      "/usr/local/lib/python3.11/dist-packages/pandas/core/computation/expressions.py:73: RuntimeWarning: invalid value encountered in greater_equal\n",
      "  return op(a, b)\n",
      "/usr/local/lib/python3.11/dist-packages/pandas/core/computation/expressions.py:73: RuntimeWarning: invalid value encountered in less_equal\n",
      "  return op(a, b)\n",
      "/usr/local/lib/python3.11/dist-packages/pandas/core/arraylike.py:399: RuntimeWarning: invalid value encountered in arccos\n",
      "  result = getattr(ufunc, method)(*inputs, **kwargs)\n"
     ]
    },
    {
     "name": "stdout",
     "output_type": "stream",
     "text": [
      "  Calculating angular distance between successive quaternions...\n"
     ]
    }
   ],
   "source": [
    "train = feature_engineering_imu(train)"
   ]
  },
  {
   "cell_type": "code",
   "execution_count": 6,
   "id": "5771c775",
   "metadata": {
    "execution": {
     "iopub.execute_input": "2025-07-24T14:26:24.786195Z",
     "iopub.status.busy": "2025-07-24T14:26:24.785459Z",
     "iopub.status.idle": "2025-07-24T14:26:24.799790Z",
     "shell.execute_reply": "2025-07-24T14:26:24.799185Z"
    },
    "papermill": {
     "duration": 0.019265,
     "end_time": "2025-07-24T14:26:24.800811",
     "exception": false,
     "start_time": "2025-07-24T14:26:24.781546",
     "status": "completed"
    },
    "tags": []
   },
   "outputs": [
    {
     "data": {
      "text/html": [
       "<div><style>\n",
       ".dataframe > thead > tr,\n",
       ".dataframe > tbody > tr {\n",
       "  text-align: right;\n",
       "  white-space: pre-wrap;\n",
       "}\n",
       "</style>\n",
       "<small>shape: (2, 350)</small><table border=\"1\" class=\"dataframe\"><thead><tr><th>row_id</th><th>sequence_id</th><th>sequence_counter</th><th>subject</th><th>gesture</th><th>acc_x</th><th>acc_y</th><th>acc_z</th><th>rot_w</th><th>rot_x</th><th>rot_y</th><th>rot_z</th><th>thm_1</th><th>thm_2</th><th>thm_3</th><th>thm_4</th><th>thm_5</th><th>tof_1_v0</th><th>tof_1_v1</th><th>tof_1_v2</th><th>tof_1_v3</th><th>tof_1_v4</th><th>tof_1_v5</th><th>tof_1_v6</th><th>tof_1_v7</th><th>tof_1_v8</th><th>tof_1_v9</th><th>tof_1_v10</th><th>tof_1_v11</th><th>tof_1_v12</th><th>tof_1_v13</th><th>tof_1_v14</th><th>tof_1_v15</th><th>tof_1_v16</th><th>tof_1_v17</th><th>tof_1_v18</th><th>tof_1_v19</th><th>&hellip;</th><th>tof_5_v40</th><th>tof_5_v41</th><th>tof_5_v42</th><th>tof_5_v43</th><th>tof_5_v44</th><th>tof_5_v45</th><th>tof_5_v46</th><th>tof_5_v47</th><th>tof_5_v48</th><th>tof_5_v49</th><th>tof_5_v50</th><th>tof_5_v51</th><th>tof_5_v52</th><th>tof_5_v53</th><th>tof_5_v54</th><th>tof_5_v55</th><th>tof_5_v56</th><th>tof_5_v57</th><th>tof_5_v58</th><th>tof_5_v59</th><th>tof_5_v60</th><th>tof_5_v61</th><th>tof_5_v62</th><th>tof_5_v63</th><th>acc_mag</th><th>rot_angle</th><th>acc_mag_jerk</th><th>rot_angle_vel</th><th>linear_acc_x</th><th>linear_acc_y</th><th>linear_acc_z</th><th>linear_acc_mag</th><th>linear_acc_mag_jerk</th><th>angular_vel_x</th><th>angular_vel_y</th><th>angular_vel_z</th><th>angular_distance</th></tr><tr><td>str</td><td>str</td><td>i64</td><td>str</td><td>str</td><td>f64</td><td>f64</td><td>f64</td><td>f64</td><td>f64</td><td>f64</td><td>f64</td><td>f64</td><td>f64</td><td>f64</td><td>f64</td><td>f64</td><td>f64</td><td>f64</td><td>f64</td><td>f64</td><td>f64</td><td>f64</td><td>f64</td><td>f64</td><td>f64</td><td>f64</td><td>f64</td><td>f64</td><td>f64</td><td>f64</td><td>f64</td><td>f64</td><td>f64</td><td>f64</td><td>f64</td><td>f64</td><td>&hellip;</td><td>f64</td><td>f64</td><td>f64</td><td>f64</td><td>f64</td><td>f64</td><td>f64</td><td>f64</td><td>f64</td><td>f64</td><td>f64</td><td>f64</td><td>f64</td><td>f64</td><td>f64</td><td>f64</td><td>f64</td><td>f64</td><td>f64</td><td>f64</td><td>f64</td><td>f64</td><td>f64</td><td>f64</td><td>f64</td><td>f64</td><td>f64</td><td>f64</td><td>f64</td><td>f64</td><td>f64</td><td>f64</td><td>f64</td><td>f64</td><td>f64</td><td>f64</td><td>f64</td></tr></thead><tbody><tr><td>&quot;SEQ_000007_000000&quot;</td><td>&quot;SEQ_000007&quot;</td><td>0</td><td>&quot;SUBJ_059520&quot;</td><td>&quot;Cheek - pinch skin&quot;</td><td>6.683594</td><td>6.214844</td><td>3.355469</td><td>0.134399</td><td>-0.355164</td><td>-0.447327</td><td>-0.809753</td><td>28.943842</td><td>31.822186</td><td>29.553024</td><td>28.592863</td><td>28.310535</td><td>131.0</td><td>134.0</td><td>132.0</td><td>135.0</td><td>98.0</td><td>74.0</td><td>64.0</td><td>60.0</td><td>-1.0</td><td>-1.0</td><td>152.0</td><td>153.0</td><td>141.0</td><td>89.0</td><td>68.0</td><td>63.0</td><td>-1.0</td><td>-1.0</td><td>-1.0</td><td>-1.0</td><td>&hellip;</td><td>113.0</td><td>124.0</td><td>122.0</td><td>131.0</td><td>-1.0</td><td>-1.0</td><td>-1.0</td><td>-1.0</td><td>120.0</td><td>127.0</td><td>-1.0</td><td>-1.0</td><td>-1.0</td><td>-1.0</td><td>-1.0</td><td>-1.0</td><td>-1.0</td><td>-1.0</td><td>-1.0</td><td>-1.0</td><td>-1.0</td><td>-1.0</td><td>-1.0</td><td>-1.0</td><td>9.723882</td><td>2.871978</td><td>0.0</td><td>0.0</td><td>-0.13854</td><td>0.044578</td><td>-0.053696</td><td>0.155125</td><td>0.0</td><td>-6.600812</td><td>9.554974</td><td>2.140512</td><td>0.059044</td></tr><tr><td>&quot;SEQ_000007_000001&quot;</td><td>&quot;SEQ_000007&quot;</td><td>1</td><td>&quot;SUBJ_059520&quot;</td><td>&quot;Cheek - pinch skin&quot;</td><td>6.949219</td><td>6.214844</td><td>3.125</td><td>0.143494</td><td>-0.340271</td><td>-0.42865</td><td>-0.824524</td><td>29.340816</td><td>31.874645</td><td>29.79174</td><td>28.663383</td><td>28.406172</td><td>130.0</td><td>138.0</td><td>131.0</td><td>135.0</td><td>101.0</td><td>76.0</td><td>66.0</td><td>61.0</td><td>-1.0</td><td>-1.0</td><td>156.0</td><td>155.0</td><td>141.0</td><td>93.0</td><td>74.0</td><td>64.0</td><td>-1.0</td><td>-1.0</td><td>-1.0</td><td>-1.0</td><td>&hellip;</td><td>116.0</td><td>122.0</td><td>123.0</td><td>126.0</td><td>-1.0</td><td>-1.0</td><td>-1.0</td><td>-1.0</td><td>122.0</td><td>129.0</td><td>-1.0</td><td>-1.0</td><td>-1.0</td><td>-1.0</td><td>-1.0</td><td>-1.0</td><td>-1.0</td><td>-1.0</td><td>-1.0</td><td>-1.0</td><td>-1.0</td><td>-1.0</td><td>-1.0</td><td>-1.0</td><td>9.832678</td><td>2.853611</td><td>0.108796</td><td>-0.018367</td><td>0.237503</td><td>0.238219</td><td>-0.808055</td><td>0.875276</td><td>0.720151</td><td>-16.678839</td><td>44.579519</td><td>21.057952</td><td>0.260238</td></tr></tbody></table></div>"
      ],
      "text/plain": [
       "shape: (2, 350)\n",
       "┌───────────┬───────────┬───────────┬───────────┬───┬───────────┬───────────┬───────────┬──────────┐\n",
       "│ row_id    ┆ sequence_ ┆ sequence_ ┆ subject   ┆ … ┆ angular_v ┆ angular_v ┆ angular_v ┆ angular_ │\n",
       "│ ---       ┆ id        ┆ counter   ┆ ---       ┆   ┆ el_x      ┆ el_y      ┆ el_z      ┆ distance │\n",
       "│ str       ┆ ---       ┆ ---       ┆ str       ┆   ┆ ---       ┆ ---       ┆ ---       ┆ ---      │\n",
       "│           ┆ str       ┆ i64       ┆           ┆   ┆ f64       ┆ f64       ┆ f64       ┆ f64      │\n",
       "╞═══════════╪═══════════╪═══════════╪═══════════╪═══╪═══════════╪═══════════╪═══════════╪══════════╡\n",
       "│ SEQ_00000 ┆ SEQ_00000 ┆ 0         ┆ SUBJ_0595 ┆ … ┆ -6.600812 ┆ 9.554974  ┆ 2.140512  ┆ 0.059044 │\n",
       "│ 7_000000  ┆ 7         ┆           ┆ 20        ┆   ┆           ┆           ┆           ┆          │\n",
       "│ SEQ_00000 ┆ SEQ_00000 ┆ 1         ┆ SUBJ_0595 ┆ … ┆ -16.67883 ┆ 44.579519 ┆ 21.057952 ┆ 0.260238 │\n",
       "│ 7_000001  ┆ 7         ┆           ┆ 20        ┆   ┆ 9         ┆           ┆           ┆          │\n",
       "└───────────┴───────────┴───────────┴───────────┴───┴───────────┴───────────┴───────────┴──────────┘"
      ]
     },
     "execution_count": 6,
     "metadata": {},
     "output_type": "execute_result"
    }
   ],
   "source": [
    "train.head(2)"
   ]
  },
  {
   "cell_type": "markdown",
   "id": "534be26e",
   "metadata": {
    "papermill": {
     "duration": 0.003257,
     "end_time": "2025-07-24T14:26:24.807651",
     "exception": false,
     "start_time": "2025-07-24T14:26:24.804394",
     "status": "completed"
    },
    "tags": []
   },
   "source": [
    "**Statistical**"
   ]
  },
  {
   "cell_type": "code",
   "execution_count": 7,
   "id": "ffda72de",
   "metadata": {
    "execution": {
     "iopub.execute_input": "2025-07-24T14:26:24.815084Z",
     "iopub.status.busy": "2025-07-24T14:26:24.814872Z",
     "iopub.status.idle": "2025-07-24T14:26:24.823843Z",
     "shell.execute_reply": "2025-07-24T14:26:24.823357Z"
    },
    "papermill": {
     "duration": 0.013893,
     "end_time": "2025-07-24T14:26:24.824850",
     "exception": false,
     "start_time": "2025-07-24T14:26:24.810957",
     "status": "completed"
    },
    "tags": []
   },
   "outputs": [],
   "source": [
    "def feature_engineering_stat(data:pl.DataFrame):\n",
    "    non_sensor_cols = []\n",
    "    if \"gesture\" in data.columns:\n",
    "        non_sensor_cols = [\"gesture\"]\n",
    "        \n",
    "    # All numeric sensor columns (everything except id, demo, target)\n",
    "    stat_cols = [\n",
    "        c for c in data.columns\n",
    "        if c not in non_sensor_cols + [\"sequence_id\", \"row_id\",\"sequence_counter\",\"subject\"]\n",
    "    ]\n",
    "    \n",
    "    # Build aggregation expressions\n",
    "    agg_exprs = []\n",
    "    \n",
    "    # full-stats bundle for sensor columns\n",
    "    for c in stat_cols:\n",
    "        agg_exprs += [\n",
    "            pl.col(c).mean().alias(f\"{c}_mean\"),\n",
    "            pl.col(c).std().alias(f\"{c}_std\"),\n",
    "            pl.col(c).var().alias(f\"{c}_var\"),\n",
    "            pl.col(c).quantile(0.25).alias(f\"{c}_q25\"),\n",
    "            pl.col(c).median().alias(f\"{c}_q50\"),\n",
    "            pl.col(c).quantile(0.75).alias(f\"{c}_q75\"),\n",
    "            pl.col(c).max().alias(f\"{c}_max\"),\n",
    "            pl.col(c).min().alias(f\"{c}_min\"),\n",
    "            pl.col(c).first().alias(f\"{c}_first\"),\n",
    "            pl.col(c).last().alias(f\"{c}_last\"),\n",
    "            pl.col(c).quantile(0.25, \"nearest\").alias(f\"{c}_t25\"),\n",
    "            pl.col(c).quantile(0.75, \"nearest\").alias(f\"{c}_t75\"),\n",
    "            (pl.col(c).last() - pl.col(c).first()).alias(f\"{c}_delta\"),\n",
    "            pl.corr(\"sequence_counter\", c).alias(f\"{c}_corr_time\"),\n",
    "            pl.col(c).diff().mean().alias(f\"{c}_diff_mean\"),\n",
    "            pl.col(c).diff().std().alias(f\"{c}_diff_std\"),\n",
    "            pl.col(c).skew().alias(f\"{c}_skew\"),\n",
    "            pl.col(c).kurtosis().alias(f\"{c}_kurt\"),\n",
    "            pl.col(c).diff().abs().gt(0).sum().alias(f\"{c}_n_changes\")\n",
    "        ]\n",
    "        agg_exprs += [\n",
    "            pl.when(pl.col(\"sequence_counter\") < 0.1 * pl.max(\"sequence_counter\"))\n",
    "              .then(pl.col(c)).otherwise(None).mean().alias(f\"{c}_seg1_mean\"),\n",
    "            pl.when(pl.col(\"sequence_counter\") > 0.9 * pl.max(\"sequence_counter\"))\n",
    "              .then(pl.col(c)).otherwise(None).mean().alias(f\"{c}_seg3_mean\"),\n",
    "        ]\n",
    "    \n",
    "    # first() for demographics and target\n",
    "    agg_exprs += [\n",
    "        pl.col(c).first().alias(c) for c in non_sensor_cols\n",
    "    ]\n",
    "    \n",
    "    # Group-by and aggregate\n",
    "    cleaned_data = (\n",
    "        data\n",
    "        .group_by(\"sequence_id\", maintain_order=True)\n",
    "        .agg(agg_exprs)\n",
    "    )\n",
    "    return cleaned_data"
   ]
  },
  {
   "cell_type": "code",
   "execution_count": 8,
   "id": "b254c00c",
   "metadata": {
    "execution": {
     "iopub.execute_input": "2025-07-24T14:26:24.832917Z",
     "iopub.status.busy": "2025-07-24T14:26:24.832487Z",
     "iopub.status.idle": "2025-07-24T14:27:01.933463Z",
     "shell.execute_reply": "2025-07-24T14:27:01.932660Z"
    },
    "papermill": {
     "duration": 37.111247,
     "end_time": "2025-07-24T14:27:01.939674",
     "exception": false,
     "start_time": "2025-07-24T14:26:24.828427",
     "status": "completed"
    },
    "tags": []
   },
   "outputs": [
    {
     "data": {
      "text/plain": [
       "(8151, 7121)"
      ]
     },
     "execution_count": 8,
     "metadata": {},
     "output_type": "execute_result"
    }
   ],
   "source": [
    "train_demographic_target_cols = [\n",
    "    \"gesture\"\n",
    "    ]\n",
    "cleaned_data = feature_engineering_stat(data)\n",
    "cleaned_data.shape"
   ]
  },
  {
   "cell_type": "markdown",
   "id": "d5dc3c1d",
   "metadata": {
    "papermill": {
     "duration": 0.004198,
     "end_time": "2025-07-24T14:27:01.948500",
     "exception": false,
     "start_time": "2025-07-24T14:27:01.944302",
     "status": "completed"
    },
    "tags": []
   },
   "source": [
    "# <div style=\"color:#2d83ed; font-family: 'Segoe UI'; text-align: center; border-top:5px solid green; padding-left:10px; background-color:#F8F9F9; padding:10px; border-radius:5px;font-weight: bold\">🎯 Target Label Encoding</div>"
   ]
  },
  {
   "cell_type": "code",
   "execution_count": 9,
   "id": "e49cd960",
   "metadata": {
    "execution": {
     "iopub.execute_input": "2025-07-24T14:27:01.958550Z",
     "iopub.status.busy": "2025-07-24T14:27:01.958000Z",
     "iopub.status.idle": "2025-07-24T14:27:02.533476Z",
     "shell.execute_reply": "2025-07-24T14:27:02.532756Z"
    },
    "papermill": {
     "duration": 0.581886,
     "end_time": "2025-07-24T14:27:02.534689",
     "exception": false,
     "start_time": "2025-07-24T14:27:01.952803",
     "status": "completed"
    },
    "tags": []
   },
   "outputs": [
    {
     "data": {
      "text/plain": [
       "['Target_LabelEncoder.joblib']"
      ]
     },
     "execution_count": 9,
     "metadata": {},
     "output_type": "execute_result"
    }
   ],
   "source": [
    "# Assume cleaned_data is already a Polars DataFrame\n",
    "target_col = \"gesture\"\n",
    "\n",
    "# --- Convert Polars DataFrame to Pandas only if needed ---\n",
    "# CatBoost does not yet fully support Polars directly\n",
    "df = cleaned_data.to_pandas()\n",
    "\n",
    "# --- Define X and y properly ---\n",
    "X = df.drop(columns=[target_col, \"sequence_id\"])  # Feature matrix\n",
    "y = df[target_col].values # Target\n",
    "\n",
    "# Encode target\n",
    "le = LabelEncoder()\n",
    "y = le.fit_transform(y)\n",
    "\n",
    "joblib.dump(le, 'Target_LabelEncoder.joblib')"
   ]
  },
  {
   "cell_type": "markdown",
   "id": "b5fa67bd",
   "metadata": {
    "papermill": {
     "duration": 0.004015,
     "end_time": "2025-07-24T14:27:02.543259",
     "exception": false,
     "start_time": "2025-07-24T14:27:02.539244",
     "status": "completed"
    },
    "tags": []
   },
   "source": [
    "# <div style=\"color:#2d83ed; font-family: 'Segoe UI'; text-align: center; border-top:5px solid green; padding-left:10px; background-color:#F8F9F9; padding:10px; border-radius:5px;font-weight: bold\">🚅 Train the Model</div>"
   ]
  },
  {
   "cell_type": "code",
   "execution_count": 10,
   "id": "7497bfde",
   "metadata": {
    "execution": {
     "iopub.execute_input": "2025-07-24T14:27:02.552228Z",
     "iopub.status.busy": "2025-07-24T14:27:02.552012Z",
     "iopub.status.idle": "2025-07-24T15:00:47.270384Z",
     "shell.execute_reply": "2025-07-24T15:00:47.269549Z"
    },
    "papermill": {
     "duration": 2024.733089,
     "end_time": "2025-07-24T15:00:47.280367",
     "exception": false,
     "start_time": "2025-07-24T14:27:02.547278",
     "status": "completed"
    },
    "tags": []
   },
   "outputs": [
    {
     "name": "stdout",
     "output_type": "stream",
     "text": [
      "Fold 1: Accuracy=0.6450, Macro-F1=0.6564\n",
      "Fold 2: Accuracy=0.6454, Macro-F1=0.6440\n",
      "Fold 3: Accuracy=0.6485, Macro-F1=0.6577\n",
      "Fold 4: Accuracy=0.6313, Macro-F1=0.6467\n",
      "Fold 5: Accuracy=0.6509, Macro-F1=0.6531\n",
      "\n",
      "======  5-Fold Summary  ======\n",
      "Accuracy:  mean=0.6442  std=0.0068\n",
      "Macro-F1 : mean=0.6516  std=0.0054\n"
     ]
    }
   ],
   "source": [
    "# CAT Set up stratified KFold\n",
    "kfold = StratifiedKFold(n_splits=5, shuffle=True, random_state=42)\n",
    "\n",
    "fold_acc, fold_f1 = [], []\n",
    "\n",
    "for fold, (train_idx, val_idx) in enumerate(kfold.split(X, y), start=1):\n",
    "    X_train, X_val = X.iloc[train_idx], X.iloc[val_idx]\n",
    "    y_train, y_val = y[train_idx], y[val_idx]\n",
    "\n",
    "    final_model = CatBoostClassifier(\n",
    "        iterations=2000,\n",
    "        learning_rate=0.06,\n",
    "        loss_function='MultiClass',\n",
    "        task_type=\"GPU\",\n",
    "        devices='0',\n",
    "        verbose=False\n",
    "    )\n",
    "\n",
    "    final_model.fit(X_train, y_train, eval_set=[(X_val, y_val)])\n",
    "    y_pred = final_model.predict(X_val)\n",
    "\n",
    "    acc = accuracy_score(y_val, y_pred)\n",
    "    f1 = f1_score(y_val, y_pred, average=\"macro\")\n",
    "\n",
    "    fold_acc.append(acc)\n",
    "    fold_f1.append(f1)\n",
    "    print(f\"Fold {fold}: Accuracy={acc:.4f}, Macro-F1={f1:.4f}\")\n",
    "\n",
    "print(\"\\n======  5-Fold Summary  ======\")\n",
    "print(f\"Accuracy:  mean={np.mean(fold_acc):.4f}  std={np.std(fold_acc):.4f}\")\n",
    "print(f\"Macro-F1 : mean={np.mean(fold_f1):.4f}  std={np.std(fold_f1):.4f}\")"
   ]
  },
  {
   "cell_type": "code",
   "execution_count": 11,
   "id": "e4e0adba",
   "metadata": {
    "execution": {
     "iopub.execute_input": "2025-07-24T15:00:47.297285Z",
     "iopub.status.busy": "2025-07-24T15:00:47.296860Z",
     "iopub.status.idle": "2025-07-24T15:07:39.131975Z",
     "shell.execute_reply": "2025-07-24T15:07:39.131366Z"
    },
    "papermill": {
     "duration": 411.852897,
     "end_time": "2025-07-24T15:07:39.141485",
     "exception": false,
     "start_time": "2025-07-24T15:00:47.288588",
     "status": "completed"
    },
    "tags": []
   },
   "outputs": [
    {
     "data": {
      "text/plain": [
       "<catboost.core.CatBoostClassifier at 0x7e64f97e4550>"
      ]
     },
     "execution_count": 11,
     "metadata": {},
     "output_type": "execute_result"
    }
   ],
   "source": [
    "final_model = CatBoostClassifier(\n",
    "    iterations=2000,\n",
    "    learning_rate=0.06,\n",
    "    loss_function='MultiClass',\n",
    "    task_type=\"GPU\",\n",
    "    devices='0',\n",
    "    verbose=False\n",
    ")\n",
    "final_model.fit(X, y)"
   ]
  },
  {
   "cell_type": "markdown",
   "id": "762ad1bb",
   "metadata": {
    "papermill": {
     "duration": 0.004091,
     "end_time": "2025-07-24T15:07:39.150149",
     "exception": false,
     "start_time": "2025-07-24T15:07:39.146058",
     "status": "completed"
    },
    "tags": []
   },
   "source": [
    "# <div style=\"color:#2d83ed; font-family: 'Segoe UI'; text-align: center; border-top:5px solid green; padding-left:10px; background-color:#F8F9F9; padding:10px; border-radius:5px;font-weight: bold\">💾 Save the Model</div>"
   ]
  },
  {
   "cell_type": "code",
   "execution_count": 12,
   "id": "a5966291",
   "metadata": {
    "execution": {
     "iopub.execute_input": "2025-07-24T15:07:39.159860Z",
     "iopub.status.busy": "2025-07-24T15:07:39.159233Z",
     "iopub.status.idle": "2025-07-24T15:07:39.348042Z",
     "shell.execute_reply": "2025-07-24T15:07:39.347335Z"
    },
    "papermill": {
     "duration": 0.195248,
     "end_time": "2025-07-24T15:07:39.349540",
     "exception": false,
     "start_time": "2025-07-24T15:07:39.154292",
     "status": "completed"
    },
    "tags": []
   },
   "outputs": [
    {
     "data": {
      "text/plain": [
       "['model_catboost.joblib']"
      ]
     },
     "execution_count": 12,
     "metadata": {},
     "output_type": "execute_result"
    }
   ],
   "source": [
    "joblib.dump(final_model, f'model_catboost.joblib')"
   ]
  },
  {
   "cell_type": "markdown",
   "id": "efbdd293",
   "metadata": {
    "papermill": {
     "duration": 0.013642,
     "end_time": "2025-07-24T15:07:39.374285",
     "exception": false,
     "start_time": "2025-07-24T15:07:39.360643",
     "status": "completed"
    },
    "tags": []
   },
   "source": [
    "# <div style=\"color:#2d83ed; font-family: 'Segoe UI'; text-align: center; border-top:5px solid green; padding-left:10px; background-color:#F8F9F9; padding:10px; border-radius:5px;font-weight: bold\">🌟 Predict</div>\n",
    "\n",
    "Not needed as we are just trainig the model. It is only kept here to be used for testing only, whenever needed."
   ]
  },
  {
   "cell_type": "code",
   "execution_count": 13,
   "id": "84df3f6c",
   "metadata": {
    "execution": {
     "iopub.execute_input": "2025-07-24T15:07:39.386015Z",
     "iopub.status.busy": "2025-07-24T15:07:39.385763Z",
     "iopub.status.idle": "2025-07-24T15:07:39.389158Z",
     "shell.execute_reply": "2025-07-24T15:07:39.388749Z"
    },
    "papermill": {
     "duration": 0.009715,
     "end_time": "2025-07-24T15:07:39.390409",
     "exception": false,
     "start_time": "2025-07-24T15:07:39.380694",
     "status": "completed"
    },
    "tags": []
   },
   "outputs": [],
   "source": [
    "# def predict(sequence: pl.DataFrame, demographics: pl.DataFrame) -> str:\n",
    "#     # data =sequence\n",
    "#     data = sequence.join(demographics,on=\"subject\",how=\"left\")\n",
    "#     # print(data.schema)\n",
    "#     cleaned_data = feature_engineering_stat(data)\n",
    "#     pdf = cleaned_data.to_pandas().drop(columns=[\"sequence_id\"])\n",
    "#     predictions = final_model.predict(pdf).ravel()\n",
    "#     predictions = le.inverse_transform(predictions)\n",
    "#     return predictions[0]"
   ]
  },
  {
   "cell_type": "markdown",
   "id": "850a2fba",
   "metadata": {
    "papermill": {
     "duration": 0.004226,
     "end_time": "2025-07-24T15:07:39.399679",
     "exception": false,
     "start_time": "2025-07-24T15:07:39.395453",
     "status": "completed"
    },
    "tags": []
   },
   "source": [
    "# <div style=\"color:#2d83ed; font-family: 'Segoe UI'; text-align: center; border-top:5px solid green; padding-left:10px; background-color:#F8F9F9; padding:10px; border-radius:5px;font-weight: bold\">🪐 Inference Server</div>\n",
    "Not needed as we are just trainig the model. It is only kept here to be used for testing only, whenever needed."
   ]
  },
  {
   "cell_type": "code",
   "execution_count": 14,
   "id": "d7586789",
   "metadata": {
    "execution": {
     "iopub.execute_input": "2025-07-24T15:07:39.409219Z",
     "iopub.status.busy": "2025-07-24T15:07:39.409013Z",
     "iopub.status.idle": "2025-07-24T15:07:39.412001Z",
     "shell.execute_reply": "2025-07-24T15:07:39.411549Z"
    },
    "papermill": {
     "duration": 0.008925,
     "end_time": "2025-07-24T15:07:39.413069",
     "exception": false,
     "start_time": "2025-07-24T15:07:39.404144",
     "status": "completed"
    },
    "tags": []
   },
   "outputs": [],
   "source": [
    "# inference_server = kaggle_evaluation.cmi_inference_server.CMIInferenceServer(predict)\n",
    "\n",
    "# if os.getenv('KAGGLE_IS_COMPETITION_RERUN'):\n",
    "#     inference_server.serve()\n",
    "# else:\n",
    "#     inference_server.run_local_gateway(\n",
    "#         data_paths=(\n",
    "#             '/kaggle/input/cmi-detect-behavior-with-sensor-data/test.csv',\n",
    "#             '/kaggle/input/cmi-detect-behavior-with-sensor-data/test_demographics.csv',\n",
    "#         )\n",
    "#     )"
   ]
  }
 ],
 "metadata": {
  "kaggle": {
   "accelerator": "gpu",
   "dataSources": [
    {
     "databundleVersionId": 12518947,
     "sourceId": 102335,
     "sourceType": "competition"
    }
   ],
   "dockerImageVersionId": 31090,
   "isGpuEnabled": true,
   "isInternetEnabled": false,
   "language": "python",
   "sourceType": "notebook"
  },
  "kernelspec": {
   "display_name": "Python 3",
   "language": "python",
   "name": "python3"
  },
  "language_info": {
   "codemirror_mode": {
    "name": "ipython",
    "version": 3
   },
   "file_extension": ".py",
   "mimetype": "text/x-python",
   "name": "python",
   "nbconvert_exporter": "python",
   "pygments_lexer": "ipython3",
   "version": "3.11.13"
  },
  "papermill": {
   "default_parameters": {},
   "duration": 2689.320964,
   "end_time": "2025-07-24T15:07:41.144052",
   "environment_variables": {},
   "exception": null,
   "input_path": "__notebook__.ipynb",
   "output_path": "__notebook__.ipynb",
   "parameters": {},
   "start_time": "2025-07-24T14:22:51.823088",
   "version": "2.6.0"
  }
 },
 "nbformat": 4,
 "nbformat_minor": 5
}
