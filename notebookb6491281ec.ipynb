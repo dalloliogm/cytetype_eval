{
 "cells": [
  {
   "cell_type": "code",
   "execution_count": 1,
   "id": "6027865f",
   "metadata": {
    "execution": {
     "iopub.execute_input": "2025-08-06T07:35:32.118585Z",
     "iopub.status.busy": "2025-08-06T07:35:32.118230Z",
     "iopub.status.idle": "2025-08-06T07:35:32.611119Z",
     "shell.execute_reply": "2025-08-06T07:35:32.610062Z"
    },
    "papermill": {
     "duration": 0.499996,
     "end_time": "2025-08-06T07:35:32.612798",
     "exception": false,
     "start_time": "2025-08-06T07:35:32.112802",
     "status": "completed"
    },
    "tags": []
   },
   "outputs": [
    {
     "name": "stdout",
     "output_type": "stream",
     "text": [
      "Path to dataset files /kaggle/input/rdkit-2025-3-3-cp311\n"
     ]
    }
   ],
   "source": [
    "import kagglehub\n",
    "path = kagglehub.dataset_download(\"senkin13/rdkit-2025-3-3-cp311\")\n",
    "print(\"Path to dataset files\", path)"
   ]
  },
  {
   "cell_type": "code",
   "execution_count": 2,
   "id": "577fab3a",
   "metadata": {
    "execution": {
     "iopub.execute_input": "2025-08-06T07:35:32.621391Z",
     "iopub.status.busy": "2025-08-06T07:35:32.621024Z",
     "iopub.status.idle": "2025-08-06T07:35:39.951637Z",
     "shell.execute_reply": "2025-08-06T07:35:39.950530Z"
    },
    "papermill": {
     "duration": 7.336814,
     "end_time": "2025-08-06T07:35:39.953487",
     "exception": false,
     "start_time": "2025-08-06T07:35:32.616673",
     "status": "completed"
    },
    "tags": []
   },
   "outputs": [
    {
     "name": "stdout",
     "output_type": "stream",
     "text": [
      "Processing /kaggle/input/rdkit-2025-3-3-cp311/rdkit-2025.3.3-cp311-cp311-manylinux_2_28_x86_64.whl\r\n",
      "Requirement already satisfied: numpy in /usr/local/lib/python3.11/dist-packages (from rdkit==2025.3.3) (1.26.4)\r\n",
      "Requirement already satisfied: Pillow in /usr/local/lib/python3.11/dist-packages (from rdkit==2025.3.3) (11.2.1)\r\n",
      "Requirement already satisfied: mkl_fft in /usr/local/lib/python3.11/dist-packages (from numpy->rdkit==2025.3.3) (1.3.8)\r\n",
      "Requirement already satisfied: mkl_random in /usr/local/lib/python3.11/dist-packages (from numpy->rdkit==2025.3.3) (1.2.4)\r\n",
      "Requirement already satisfied: mkl_umath in /usr/local/lib/python3.11/dist-packages (from numpy->rdkit==2025.3.3) (0.1.1)\r\n",
      "Requirement already satisfied: mkl in /usr/local/lib/python3.11/dist-packages (from numpy->rdkit==2025.3.3) (2025.2.0)\r\n",
      "Requirement already satisfied: tbb4py in /usr/local/lib/python3.11/dist-packages (from numpy->rdkit==2025.3.3) (2022.2.0)\r\n",
      "Requirement already satisfied: mkl-service in /usr/local/lib/python3.11/dist-packages (from numpy->rdkit==2025.3.3) (2.4.1)\r\n",
      "Requirement already satisfied: intel-openmp<2026,>=2024 in /usr/local/lib/python3.11/dist-packages (from mkl->numpy->rdkit==2025.3.3) (2024.2.0)\r\n",
      "Requirement already satisfied: tbb==2022.* in /usr/local/lib/python3.11/dist-packages (from mkl->numpy->rdkit==2025.3.3) (2022.2.0)\r\n",
      "Requirement already satisfied: tcmlib==1.* in /usr/local/lib/python3.11/dist-packages (from tbb==2022.*->mkl->numpy->rdkit==2025.3.3) (1.4.0)\r\n",
      "Requirement already satisfied: intel-cmplr-lib-rt in /usr/local/lib/python3.11/dist-packages (from mkl_umath->numpy->rdkit==2025.3.3) (2024.2.0)\r\n",
      "Requirement already satisfied: intel-cmplr-lib-ur==2024.2.0 in /usr/local/lib/python3.11/dist-packages (from intel-openmp<2026,>=2024->mkl->numpy->rdkit==2025.3.3) (2024.2.0)\r\n",
      "Installing collected packages: rdkit\r\n",
      "Successfully installed rdkit-2025.3.3\r\n"
     ]
    }
   ],
   "source": [
    "!pip install /kaggle/input/rdkit-2025-3-3-cp311/rdkit-2025.3.3-cp311-cp311-manylinux_2_28_x86_64.whl"
   ]
  },
  {
   "cell_type": "code",
   "execution_count": 3,
   "id": "c68ccae2",
   "metadata": {
    "execution": {
     "iopub.execute_input": "2025-08-06T07:35:39.962958Z",
     "iopub.status.busy": "2025-08-06T07:35:39.962627Z",
     "iopub.status.idle": "2025-08-06T07:35:45.655251Z",
     "shell.execute_reply": "2025-08-06T07:35:45.654271Z"
    },
    "papermill": {
     "duration": 5.699622,
     "end_time": "2025-08-06T07:35:45.657222",
     "exception": false,
     "start_time": "2025-08-06T07:35:39.957600",
     "status": "completed"
    },
    "tags": []
   },
   "outputs": [],
   "source": [
    "import pandas as pd\n",
    "import numpy as np\n",
    "from sklearn.ensemble import ExtraTreesRegressor\n",
    "from sklearn.model_selection import train_test_split\n",
    "from sklearn.metrics import mean_absolute_error\n",
    "\n",
    "\n",
    "import networkx as nx\n",
    "from rdkit.Chem import AllChem\n",
    "from rdkit.Chem import Descriptors\n",
    "from rdkit.Chem import rdmolops\n",
    "from rdkit import Chem\n",
    "\n",
    "import warnings\n",
    "warnings.filterwarnings(\"ignore\")\n",
    "pd.set_option('display.max_columns', None)"
   ]
  },
  {
   "cell_type": "code",
   "execution_count": 4,
   "id": "207df622",
   "metadata": {
    "execution": {
     "iopub.execute_input": "2025-08-06T07:35:45.667213Z",
     "iopub.status.busy": "2025-08-06T07:35:45.666277Z",
     "iopub.status.idle": "2025-08-06T07:35:45.673159Z",
     "shell.execute_reply": "2025-08-06T07:35:45.672347Z"
    },
    "papermill": {
     "duration": 0.013538,
     "end_time": "2025-08-06T07:35:45.674931",
     "exception": false,
     "start_time": "2025-08-06T07:35:45.661393",
     "status": "completed"
    },
    "tags": []
   },
   "outputs": [],
   "source": [
    "useless_cols = [   \n",
    "    \n",
    "    'MaxPartialCharge', \n",
    "    # Nan data\n",
    "    'BCUT2D_MWHI',\n",
    "    'BCUT2D_MWLOW',\n",
    "    'BCUT2D_CHGHI',\n",
    "    'BCUT2D_CHGLO',\n",
    "    'BCUT2D_LOGPHI',\n",
    "    'BCUT2D_LOGPLOW',\n",
    "    'BCUT2D_MRHI',\n",
    "    'BCUT2D_MRLOW',\n",
    "\n",
    "    # Constant data\n",
    "    'NumRadicalElectrons',\n",
    "    'SMR_VSA8',\n",
    "    'SlogP_VSA9',\n",
    "    'fr_barbitur',\n",
    "    'fr_benzodiazepine',\n",
    "    'fr_dihydropyridine',\n",
    "    'fr_epoxide',\n",
    "    'fr_isothiocyan',\n",
    "    'fr_lactam',\n",
    "    'fr_nitroso',\n",
    "    'fr_prisulfonamd',\n",
    "    'fr_thiocyan',\n",
    "\n",
    "    # High correlated data >0.95\n",
    "    'MaxEStateIndex',\n",
    "    'HeavyAtomMolWt',\n",
    "    'ExactMolWt',\n",
    "    'NumValenceElectrons',\n",
    "    'Chi0',\n",
    "    'Chi0n',\n",
    "    'Chi0v',\n",
    "    'Chi1',\n",
    "    'Chi1n',\n",
    "    'Chi1v',\n",
    "    'Chi2n',\n",
    "    'Kappa1',\n",
    "    'LabuteASA',\n",
    "    'HeavyAtomCount',\n",
    "    'MolMR',\n",
    "    'Chi3n',\n",
    "    'BertzCT',\n",
    "    'Chi2v',\n",
    "    'Chi4n',\n",
    "    'HallKierAlpha',\n",
    "    'Chi3v',\n",
    "    'Chi4v',\n",
    "    'MinAbsPartialCharge',\n",
    "    'MinPartialCharge',\n",
    "    'MaxAbsPartialCharge',\n",
    "    'FpDensityMorgan2',\n",
    "    'FpDensityMorgan3',\n",
    "    'Phi',\n",
    "    'Kappa3',\n",
    "    'fr_nitrile',\n",
    "    'SlogP_VSA6',\n",
    "    'NumAromaticCarbocycles',\n",
    "    'NumAromaticRings',\n",
    "    'fr_benzene',\n",
    "    'VSA_EState6',\n",
    "    'NOCount',\n",
    "    'fr_C_O',\n",
    "    'fr_C_O_noCOO',\n",
    "    'NumHDonors',\n",
    "    'fr_amide',\n",
    "    'fr_Nhpyrrole',\n",
    "    'fr_phenol',\n",
    "    'fr_phenol_noOrthoHbond',\n",
    "    'fr_COO2',\n",
    "    'fr_halogen',\n",
    "    'fr_diazo',\n",
    "    'fr_nitro_arom',\n",
    "    'fr_phos_ester'\n",
    "]\n"
   ]
  },
  {
   "cell_type": "code",
   "execution_count": 5,
   "id": "af86f24f",
   "metadata": {
    "execution": {
     "iopub.execute_input": "2025-08-06T07:35:45.683584Z",
     "iopub.status.busy": "2025-08-06T07:35:45.683253Z",
     "iopub.status.idle": "2025-08-06T07:35:46.150659Z",
     "shell.execute_reply": "2025-08-06T07:35:46.149545Z"
    },
    "papermill": {
     "duration": 0.473579,
     "end_time": "2025-08-06T07:35:46.152376",
     "exception": false,
     "start_time": "2025-08-06T07:35:45.678797",
     "status": "completed"
    },
    "tags": []
   },
   "outputs": [],
   "source": [
    "tg=pd.read_csv('/kaggle/input/neurips-dataset/tg.csv')\n",
    "rg=pd.read_csv('/kaggle/input/neurips-dataset/rg.csv')\n",
    "tc=pd.read_csv('/kaggle/input/neurips-dataset/tc.csv')\n",
    "ffv=pd.read_csv('/kaggle/input/neurips-dataset/ffv.csv')\n",
    "density=pd.read_csv('/kaggle/input/neurips-dataset/density.csv')\n",
    "test=pd.read_csv('/kaggle/input/neurips-open-polymer-prediction-2025/test.csv')\n",
    "ID=test['id'].copy()"
   ]
  },
  {
   "cell_type": "code",
   "execution_count": 6,
   "id": "cdadccc7",
   "metadata": {
    "execution": {
     "iopub.execute_input": "2025-08-06T07:35:46.161606Z",
     "iopub.status.busy": "2025-08-06T07:35:46.160996Z",
     "iopub.status.idle": "2025-08-06T07:35:46.170300Z",
     "shell.execute_reply": "2025-08-06T07:35:46.169316Z"
    },
    "papermill": {
     "duration": 0.015856,
     "end_time": "2025-08-06T07:35:46.172066",
     "exception": false,
     "start_time": "2025-08-06T07:35:46.156210",
     "status": "completed"
    },
    "tags": []
   },
   "outputs": [],
   "source": [
    "def make_smile_canonical(smile): # To avoid duplicates, for example: canonical '*C=C(*)C' == '*C(=C*)C'\n",
    "    try:\n",
    "        mol = Chem.MolFromSmiles(smile)\n",
    "        canon_smile = Chem.MolToSmiles(mol, canonical=True)\n",
    "        return canon_smile\n",
    "    except:\n",
    "        return np.nan\n",
    "test['SMILES'] = test['SMILES'].apply(lambda s: make_smile_canonical(s))"
   ]
  },
  {
   "cell_type": "code",
   "execution_count": 7,
   "id": "760bf82d",
   "metadata": {
    "execution": {
     "iopub.execute_input": "2025-08-06T07:35:46.180822Z",
     "iopub.status.busy": "2025-08-06T07:35:46.180514Z",
     "iopub.status.idle": "2025-08-06T07:35:46.187546Z",
     "shell.execute_reply": "2025-08-06T07:35:46.186532Z"
    },
    "papermill": {
     "duration": 0.013282,
     "end_time": "2025-08-06T07:35:46.189312",
     "exception": false,
     "start_time": "2025-08-06T07:35:46.176030",
     "status": "completed"
    },
    "tags": []
   },
   "outputs": [],
   "source": [
    "def preprocessing(df):\n",
    "    desc_names = [desc[0] for desc in Descriptors.descList if desc[0] not in useless_cols]\n",
    "    descriptors = [compute_all_descriptors(smi) for smi in df['SMILES'].to_list()]\n",
    "\n",
    "    graph_feats = {'graph_diameter': [], 'avg_shortest_path': [], 'num_cycles': []}\n",
    "    for smile in df['SMILES']:\n",
    "         compute_graph_features(smile, graph_feats)\n",
    "        \n",
    "    result = pd.concat(\n",
    "        [\n",
    "            pd.DataFrame(descriptors, columns=desc_names),\n",
    "            pd.DataFrame(graph_feats)\n",
    "        ],\n",
    "        axis=1\n",
    "    )\n",
    "\n",
    "    result = result.replace([-np.inf, np.inf], np.nan)\n",
    "    return result"
   ]
  },
  {
   "cell_type": "code",
   "execution_count": 8,
   "id": "73bac69b",
   "metadata": {
    "execution": {
     "iopub.execute_input": "2025-08-06T07:35:46.198046Z",
     "iopub.status.busy": "2025-08-06T07:35:46.197731Z",
     "iopub.status.idle": "2025-08-06T07:35:46.309163Z",
     "shell.execute_reply": "2025-08-06T07:35:46.308230Z"
    },
    "papermill": {
     "duration": 0.11783,
     "end_time": "2025-08-06T07:35:46.310980",
     "exception": false,
     "start_time": "2025-08-06T07:35:46.193150",
     "status": "completed"
    },
    "tags": []
   },
   "outputs": [],
   "source": [
    "def compute_all_descriptors(smiles):\n",
    "    mol = Chem.MolFromSmiles(smiles)\n",
    "    if mol is None:\n",
    "        return [None] * len(desc_names)\n",
    "    return [desc[1](mol) for desc in Descriptors.descList if desc[0] not in useless_cols]\n",
    "\n",
    "def compute_graph_features(smiles, graph_feats):\n",
    "    mol = Chem.MolFromSmiles(smiles)\n",
    "    adj = rdmolops.GetAdjacencyMatrix(mol)\n",
    "    G = nx.from_numpy_array(adj)\n",
    "\n",
    "    graph_feats['graph_diameter'].append(nx.diameter(G) if nx.is_connected(G) else 0)\n",
    "    graph_feats['avg_shortest_path'].append(nx.average_shortest_path_length(G) if nx.is_connected(G) else 0)\n",
    "    graph_feats['num_cycles'].append(len(list(nx.cycle_basis(G))))\n",
    "\n",
    "test = pd.concat([test, preprocessing(test)], axis=1)\n",
    "test['Ipc']=np.log10(test['Ipc'])\n",
    "\n",
    "test=test.drop(['id','SMILES'],axis=1)"
   ]
  },
  {
   "cell_type": "code",
   "execution_count": 9,
   "id": "b6c92c90",
   "metadata": {
    "execution": {
     "iopub.execute_input": "2025-08-06T07:35:46.319846Z",
     "iopub.status.busy": "2025-08-06T07:35:46.319503Z",
     "iopub.status.idle": "2025-08-06T07:35:46.325956Z",
     "shell.execute_reply": "2025-08-06T07:35:46.325013Z"
    },
    "papermill": {
     "duration": 0.012631,
     "end_time": "2025-08-06T07:35:46.327492",
     "exception": false,
     "start_time": "2025-08-06T07:35:46.314861",
     "status": "completed"
    },
    "tags": []
   },
   "outputs": [],
   "source": [
    "from sklearn.model_selection import train_test_split\n",
    "from sklearn.metrics import mean_absolute_error\n",
    "\n",
    "def model_seed_all(train_d, test_d, model, target, seed_id=1, submission=False):\n",
    "    X = train_d.drop(columns=[target])\n",
    "    y = train_d[target]\n",
    "\n",
    "    X_train, X_val, y_train, y_val = train_test_split(X, y, test_size=0.2, random_state=10)\n",
    "\n",
    "    Model = model(random_state=seed_id)\n",
    "\n",
    "    if not submission:\n",
    "        Model.fit(X_train, y_train)\n",
    "        y_pred = Model.predict(X_val)\n",
    "        return mean_absolute_error(y_val, y_pred)\n",
    "    else:\n",
    "        Model.fit(X, y)\n",
    "        return Model.predict(test_d)"
   ]
  },
  {
   "cell_type": "code",
   "execution_count": 10,
   "id": "2c9a4f17",
   "metadata": {
    "execution": {
     "iopub.execute_input": "2025-08-06T07:35:46.336660Z",
     "iopub.status.busy": "2025-08-06T07:35:46.335803Z",
     "iopub.status.idle": "2025-08-06T07:35:46.341670Z",
     "shell.execute_reply": "2025-08-06T07:35:46.340843Z"
    },
    "papermill": {
     "duration": 0.011837,
     "end_time": "2025-08-06T07:35:46.343096",
     "exception": false,
     "start_time": "2025-08-06T07:35:46.331259",
     "status": "completed"
    },
    "tags": []
   },
   "outputs": [],
   "source": [
    "import numpy as np\n",
    "from sklearn.ensemble import ExtraTreesRegressor\n",
    "\n",
    "def average_predictions(train_df, test_df, target_col):\n",
    "    seeds = [i * 100 for i in range(1, 151)]  \n",
    "    preds = [\n",
    "        model_seed_all(train_df, test_df, ExtraTreesRegressor, target_col, seed_id=seed, submission=True)\n",
    "        for seed in seeds\n",
    "    ]\n",
    "    return np.mean(preds, axis=0)"
   ]
  },
  {
   "cell_type": "code",
   "execution_count": 11,
   "id": "d969d79b",
   "metadata": {
    "execution": {
     "iopub.execute_input": "2025-08-06T07:35:46.352365Z",
     "iopub.status.busy": "2025-08-06T07:35:46.352058Z",
     "iopub.status.idle": "2025-08-06T08:32:35.972733Z",
     "shell.execute_reply": "2025-08-06T08:32:35.971548Z"
    },
    "papermill": {
     "duration": 3409.627068,
     "end_time": "2025-08-06T08:32:35.974714",
     "exception": false,
     "start_time": "2025-08-06T07:35:46.347646",
     "status": "completed"
    },
    "tags": []
   },
   "outputs": [],
   "source": [
    "tg_result      = average_predictions(tg,      test, 'Tg')\n",
    "ffv_result     = average_predictions(ffv,     test, 'FFV')\n",
    "tc_result      = average_predictions(tc,      test, 'Tc')\n",
    "density_result = average_predictions(density, test, 'Density')\n",
    "rg_result      = average_predictions(rg,      test, 'Rg')"
   ]
  },
  {
   "cell_type": "code",
   "execution_count": 12,
   "id": "298958b6",
   "metadata": {
    "execution": {
     "iopub.execute_input": "2025-08-06T08:32:35.984007Z",
     "iopub.status.busy": "2025-08-06T08:32:35.983191Z",
     "iopub.status.idle": "2025-08-06T08:32:35.987894Z",
     "shell.execute_reply": "2025-08-06T08:32:35.987043Z"
    },
    "papermill": {
     "duration": 0.010821,
     "end_time": "2025-08-06T08:32:35.989531",
     "exception": false,
     "start_time": "2025-08-06T08:32:35.978710",
     "status": "completed"
    },
    "tags": []
   },
   "outputs": [],
   "source": [
    " # Finally, we use the model to predict on the test set and prepare the submission file.\n",
    "\n",
    "sub={'id':ID,'Tg':tg_result,\n",
    "     'FFV':ffv_result,\n",
    "     'Tc':tc_result,\n",
    "     'Density':density_result,\n",
    "     'Rg':rg_result}"
   ]
  },
  {
   "cell_type": "code",
   "execution_count": 13,
   "id": "6c67ef35",
   "metadata": {
    "execution": {
     "iopub.execute_input": "2025-08-06T08:32:35.998277Z",
     "iopub.status.busy": "2025-08-06T08:32:35.997952Z",
     "iopub.status.idle": "2025-08-06T08:32:36.003313Z",
     "shell.execute_reply": "2025-08-06T08:32:36.002398Z"
    },
    "papermill": {
     "duration": 0.011508,
     "end_time": "2025-08-06T08:32:36.004862",
     "exception": false,
     "start_time": "2025-08-06T08:32:35.993354",
     "status": "completed"
    },
    "tags": []
   },
   "outputs": [],
   "source": [
    "submission=pd.DataFrame(sub)"
   ]
  },
  {
   "cell_type": "code",
   "execution_count": 14,
   "id": "393ce65a",
   "metadata": {
    "execution": {
     "iopub.execute_input": "2025-08-06T08:32:36.013419Z",
     "iopub.status.busy": "2025-08-06T08:32:36.013059Z",
     "iopub.status.idle": "2025-08-06T08:32:36.035712Z",
     "shell.execute_reply": "2025-08-06T08:32:36.034814Z"
    },
    "papermill": {
     "duration": 0.028502,
     "end_time": "2025-08-06T08:32:36.037132",
     "exception": false,
     "start_time": "2025-08-06T08:32:36.008630",
     "status": "completed"
    },
    "tags": []
   },
   "outputs": [
    {
     "data": {
      "text/html": [
       "<div>\n",
       "<style scoped>\n",
       "    .dataframe tbody tr th:only-of-type {\n",
       "        vertical-align: middle;\n",
       "    }\n",
       "\n",
       "    .dataframe tbody tr th {\n",
       "        vertical-align: top;\n",
       "    }\n",
       "\n",
       "    .dataframe thead th {\n",
       "        text-align: right;\n",
       "    }\n",
       "</style>\n",
       "<table border=\"1\" class=\"dataframe\">\n",
       "  <thead>\n",
       "    <tr style=\"text-align: right;\">\n",
       "      <th></th>\n",
       "      <th>id</th>\n",
       "      <th>Tg</th>\n",
       "      <th>FFV</th>\n",
       "      <th>Tc</th>\n",
       "      <th>Density</th>\n",
       "      <th>Rg</th>\n",
       "    </tr>\n",
       "  </thead>\n",
       "  <tbody>\n",
       "    <tr>\n",
       "      <th>0</th>\n",
       "      <td>1109053969</td>\n",
       "      <td>157.101131</td>\n",
       "      <td>0.372830</td>\n",
       "      <td>0.182914</td>\n",
       "      <td>1.143151</td>\n",
       "      <td>20.707845</td>\n",
       "    </tr>\n",
       "    <tr>\n",
       "      <th>1</th>\n",
       "      <td>1422188626</td>\n",
       "      <td>164.981382</td>\n",
       "      <td>0.374475</td>\n",
       "      <td>0.237560</td>\n",
       "      <td>1.111623</td>\n",
       "      <td>20.034134</td>\n",
       "    </tr>\n",
       "    <tr>\n",
       "      <th>2</th>\n",
       "      <td>2032016830</td>\n",
       "      <td>96.928664</td>\n",
       "      <td>0.350464</td>\n",
       "      <td>0.265847</td>\n",
       "      <td>1.088267</td>\n",
       "      <td>20.566959</td>\n",
       "    </tr>\n",
       "  </tbody>\n",
       "</table>\n",
       "</div>"
      ],
      "text/plain": [
       "           id          Tg       FFV        Tc   Density         Rg\n",
       "0  1109053969  157.101131  0.372830  0.182914  1.143151  20.707845\n",
       "1  1422188626  164.981382  0.374475  0.237560  1.111623  20.034134\n",
       "2  2032016830   96.928664  0.350464  0.265847  1.088267  20.566959"
      ]
     },
     "execution_count": 14,
     "metadata": {},
     "output_type": "execute_result"
    }
   ],
   "source": [
    "submission"
   ]
  },
  {
   "cell_type": "code",
   "execution_count": 15,
   "id": "575dd0bc",
   "metadata": {
    "execution": {
     "iopub.execute_input": "2025-08-06T08:32:36.045854Z",
     "iopub.status.busy": "2025-08-06T08:32:36.045528Z",
     "iopub.status.idle": "2025-08-06T08:32:36.056070Z",
     "shell.execute_reply": "2025-08-06T08:32:36.055126Z"
    },
    "papermill": {
     "duration": 0.016788,
     "end_time": "2025-08-06T08:32:36.057830",
     "exception": false,
     "start_time": "2025-08-06T08:32:36.041042",
     "status": "completed"
    },
    "tags": []
   },
   "outputs": [],
   "source": [
    "submission.to_csv('submission.csv',index=False)"
   ]
  },
  {
   "cell_type": "code",
   "execution_count": null,
   "id": "6b9f01b5",
   "metadata": {
    "papermill": {
     "duration": 0.003429,
     "end_time": "2025-08-06T08:32:36.065110",
     "exception": false,
     "start_time": "2025-08-06T08:32:36.061681",
     "status": "completed"
    },
    "tags": []
   },
   "outputs": [],
   "source": []
  }
 ],
 "metadata": {
  "kaggle": {
   "accelerator": "none",
   "dataSources": [
    {
     "databundleVersionId": 12966160,
     "sourceId": 74608,
     "sourceType": "competition"
    },
    {
     "datasetId": 7678100,
     "isSourceIdPinned": false,
     "sourceId": 12189904,
     "sourceType": "datasetVersion"
    },
    {
     "datasetId": 7824094,
     "sourceId": 12406655,
     "sourceType": "datasetVersion"
    }
   ],
   "dockerImageVersionId": 31089,
   "isGpuEnabled": false,
   "isInternetEnabled": false,
   "language": "python",
   "sourceType": "notebook"
  },
  "kernelspec": {
   "display_name": "Python 3",
   "language": "python",
   "name": "python3"
  },
  "language_info": {
   "codemirror_mode": {
    "name": "ipython",
    "version": 3
   },
   "file_extension": ".py",
   "mimetype": "text/x-python",
   "name": "python",
   "nbconvert_exporter": "python",
   "pygments_lexer": "ipython3",
   "version": "3.11.13"
  },
  "papermill": {
   "default_parameters": {},
   "duration": 3429.740773,
   "end_time": "2025-08-06T08:32:36.893430",
   "environment_variables": {},
   "exception": null,
   "input_path": "__notebook__.ipynb",
   "output_path": "__notebook__.ipynb",
   "parameters": {},
   "start_time": "2025-08-06T07:35:27.152657",
   "version": "2.6.0"
  }
 },
 "nbformat": 4,
 "nbformat_minor": 5
}
