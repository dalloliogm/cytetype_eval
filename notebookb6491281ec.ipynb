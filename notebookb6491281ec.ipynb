{
 "cells": [
  {
   "cell_type": "code",
   "execution_count": 1,
   "id": "cbcce673",
   "metadata": {
    "execution": {
     "iopub.execute_input": "2025-08-05T07:02:14.693867Z",
     "iopub.status.busy": "2025-08-05T07:02:14.693341Z",
     "iopub.status.idle": "2025-08-05T07:02:15.271064Z",
     "shell.execute_reply": "2025-08-05T07:02:15.269930Z"
    },
    "papermill": {
     "duration": 0.585177,
     "end_time": "2025-08-05T07:02:15.272835",
     "exception": false,
     "start_time": "2025-08-05T07:02:14.687658",
     "status": "completed"
    },
    "tags": []
   },
   "outputs": [
    {
     "name": "stdout",
     "output_type": "stream",
     "text": [
      "Path to dataset files /kaggle/input/rdkit-2025-3-3-cp311\n"
     ]
    }
   ],
   "source": [
    "import kagglehub\n",
    "path = kagglehub.dataset_download(\"senkin13/rdkit-2025-3-3-cp311\")\n",
    "print(\"Path to dataset files\", path)"
   ]
  },
  {
   "cell_type": "code",
   "execution_count": 2,
   "id": "646bdb69",
   "metadata": {
    "execution": {
     "iopub.execute_input": "2025-08-05T07:02:15.281649Z",
     "iopub.status.busy": "2025-08-05T07:02:15.281285Z",
     "iopub.status.idle": "2025-08-05T07:02:22.932143Z",
     "shell.execute_reply": "2025-08-05T07:02:22.931036Z"
    },
    "papermill": {
     "duration": 7.657109,
     "end_time": "2025-08-05T07:02:22.933891",
     "exception": false,
     "start_time": "2025-08-05T07:02:15.276782",
     "status": "completed"
    },
    "tags": []
   },
   "outputs": [
    {
     "name": "stdout",
     "output_type": "stream",
     "text": [
      "Processing /kaggle/input/rdkit-2025-3-3-cp311/rdkit-2025.3.3-cp311-cp311-manylinux_2_28_x86_64.whl\r\n",
      "Requirement already satisfied: numpy in /usr/local/lib/python3.11/dist-packages (from rdkit==2025.3.3) (1.26.4)\r\n",
      "Requirement already satisfied: Pillow in /usr/local/lib/python3.11/dist-packages (from rdkit==2025.3.3) (11.2.1)\r\n",
      "Requirement already satisfied: mkl_fft in /usr/local/lib/python3.11/dist-packages (from numpy->rdkit==2025.3.3) (1.3.8)\r\n",
      "Requirement already satisfied: mkl_random in /usr/local/lib/python3.11/dist-packages (from numpy->rdkit==2025.3.3) (1.2.4)\r\n",
      "Requirement already satisfied: mkl_umath in /usr/local/lib/python3.11/dist-packages (from numpy->rdkit==2025.3.3) (0.1.1)\r\n",
      "Requirement already satisfied: mkl in /usr/local/lib/python3.11/dist-packages (from numpy->rdkit==2025.3.3) (2025.2.0)\r\n",
      "Requirement already satisfied: tbb4py in /usr/local/lib/python3.11/dist-packages (from numpy->rdkit==2025.3.3) (2022.2.0)\r\n",
      "Requirement already satisfied: mkl-service in /usr/local/lib/python3.11/dist-packages (from numpy->rdkit==2025.3.3) (2.4.1)\r\n",
      "Requirement already satisfied: intel-openmp<2026,>=2024 in /usr/local/lib/python3.11/dist-packages (from mkl->numpy->rdkit==2025.3.3) (2024.2.0)\r\n",
      "Requirement already satisfied: tbb==2022.* in /usr/local/lib/python3.11/dist-packages (from mkl->numpy->rdkit==2025.3.3) (2022.2.0)\r\n",
      "Requirement already satisfied: tcmlib==1.* in /usr/local/lib/python3.11/dist-packages (from tbb==2022.*->mkl->numpy->rdkit==2025.3.3) (1.4.0)\r\n",
      "Requirement already satisfied: intel-cmplr-lib-rt in /usr/local/lib/python3.11/dist-packages (from mkl_umath->numpy->rdkit==2025.3.3) (2024.2.0)\r\n",
      "Requirement already satisfied: intel-cmplr-lib-ur==2024.2.0 in /usr/local/lib/python3.11/dist-packages (from intel-openmp<2026,>=2024->mkl->numpy->rdkit==2025.3.3) (2024.2.0)\r\n",
      "Installing collected packages: rdkit\r\n",
      "Successfully installed rdkit-2025.3.3\r\n"
     ]
    }
   ],
   "source": [
    "!pip install /kaggle/input/rdkit-2025-3-3-cp311/rdkit-2025.3.3-cp311-cp311-manylinux_2_28_x86_64.whl"
   ]
  },
  {
   "cell_type": "code",
   "execution_count": 3,
   "id": "c461a323",
   "metadata": {
    "execution": {
     "iopub.execute_input": "2025-08-05T07:02:22.943242Z",
     "iopub.status.busy": "2025-08-05T07:02:22.942913Z",
     "iopub.status.idle": "2025-08-05T07:02:28.763220Z",
     "shell.execute_reply": "2025-08-05T07:02:28.762188Z"
    },
    "papermill": {
     "duration": 5.827071,
     "end_time": "2025-08-05T07:02:28.765201",
     "exception": false,
     "start_time": "2025-08-05T07:02:22.938130",
     "status": "completed"
    },
    "tags": []
   },
   "outputs": [],
   "source": [
    "import pandas as pd\n",
    "import numpy as np\n",
    "from sklearn.ensemble import ExtraTreesRegressor\n",
    "from sklearn.model_selection import train_test_split\n",
    "from sklearn.metrics import mean_absolute_error\n",
    "\n",
    "\n",
    "import networkx as nx\n",
    "from rdkit.Chem import AllChem\n",
    "from rdkit.Chem import Descriptors\n",
    "from rdkit.Chem import rdmolops\n",
    "from rdkit import Chem\n",
    "\n",
    "import warnings\n",
    "warnings.filterwarnings(\"ignore\")\n",
    "pd.set_option('display.max_columns', None)"
   ]
  },
  {
   "cell_type": "code",
   "execution_count": 4,
   "id": "03886de3",
   "metadata": {
    "execution": {
     "iopub.execute_input": "2025-08-05T07:02:28.774947Z",
     "iopub.status.busy": "2025-08-05T07:02:28.774376Z",
     "iopub.status.idle": "2025-08-05T07:02:28.781360Z",
     "shell.execute_reply": "2025-08-05T07:02:28.780429Z"
    },
    "papermill": {
     "duration": 0.013741,
     "end_time": "2025-08-05T07:02:28.782866",
     "exception": false,
     "start_time": "2025-08-05T07:02:28.769125",
     "status": "completed"
    },
    "tags": []
   },
   "outputs": [],
   "source": [
    "useless_cols = [   \n",
    "    \n",
    "    'MaxPartialCharge', \n",
    "    # Nan data\n",
    "    'BCUT2D_MWHI',\n",
    "    'BCUT2D_MWLOW',\n",
    "    'BCUT2D_CHGHI',\n",
    "    'BCUT2D_CHGLO',\n",
    "    'BCUT2D_LOGPHI',\n",
    "    'BCUT2D_LOGPLOW',\n",
    "    'BCUT2D_MRHI',\n",
    "    'BCUT2D_MRLOW',\n",
    "\n",
    "    # Constant data\n",
    "    'NumRadicalElectrons',\n",
    "    'SMR_VSA8',\n",
    "    'SlogP_VSA9',\n",
    "    'fr_barbitur',\n",
    "    'fr_benzodiazepine',\n",
    "    'fr_dihydropyridine',\n",
    "    'fr_epoxide',\n",
    "    'fr_isothiocyan',\n",
    "    'fr_lactam',\n",
    "    'fr_nitroso',\n",
    "    'fr_prisulfonamd',\n",
    "    'fr_thiocyan',\n",
    "\n",
    "    # High correlated data >0.95\n",
    "    'MaxEStateIndex',\n",
    "    'HeavyAtomMolWt',\n",
    "    'ExactMolWt',\n",
    "    'NumValenceElectrons',\n",
    "    'Chi0',\n",
    "    'Chi0n',\n",
    "    'Chi0v',\n",
    "    'Chi1',\n",
    "    'Chi1n',\n",
    "    'Chi1v',\n",
    "    'Chi2n',\n",
    "    'Kappa1',\n",
    "    'LabuteASA',\n",
    "    'HeavyAtomCount',\n",
    "    'MolMR',\n",
    "    'Chi3n',\n",
    "    'BertzCT',\n",
    "    'Chi2v',\n",
    "    'Chi4n',\n",
    "    'HallKierAlpha',\n",
    "    'Chi3v',\n",
    "    'Chi4v',\n",
    "    'MinAbsPartialCharge',\n",
    "    'MinPartialCharge',\n",
    "    'MaxAbsPartialCharge',\n",
    "    'FpDensityMorgan2',\n",
    "    'FpDensityMorgan3',\n",
    "    'Phi',\n",
    "    'Kappa3',\n",
    "    'fr_nitrile',\n",
    "    'SlogP_VSA6',\n",
    "    'NumAromaticCarbocycles',\n",
    "    'NumAromaticRings',\n",
    "    'fr_benzene',\n",
    "    'VSA_EState6',\n",
    "    'NOCount',\n",
    "    'fr_C_O',\n",
    "    'fr_C_O_noCOO',\n",
    "    'NumHDonors',\n",
    "    'fr_amide',\n",
    "    'fr_Nhpyrrole',\n",
    "    'fr_phenol',\n",
    "    'fr_phenol_noOrthoHbond',\n",
    "    'fr_COO2',\n",
    "    'fr_halogen',\n",
    "    'fr_diazo',\n",
    "    'fr_nitro_arom',\n",
    "    'fr_phos_ester'\n",
    "]\n"
   ]
  },
  {
   "cell_type": "code",
   "execution_count": 5,
   "id": "66bb9a95",
   "metadata": {
    "execution": {
     "iopub.execute_input": "2025-08-05T07:02:28.792435Z",
     "iopub.status.busy": "2025-08-05T07:02:28.791514Z",
     "iopub.status.idle": "2025-08-05T07:02:29.236058Z",
     "shell.execute_reply": "2025-08-05T07:02:29.235211Z"
    },
    "papermill": {
     "duration": 0.451138,
     "end_time": "2025-08-05T07:02:29.238126",
     "exception": false,
     "start_time": "2025-08-05T07:02:28.786988",
     "status": "completed"
    },
    "tags": []
   },
   "outputs": [],
   "source": [
    "tg=pd.read_csv('/kaggle/input/neurips-dataset/tg.csv')\n",
    "rg=pd.read_csv('/kaggle/input/neurips-dataset/rg.csv')\n",
    "tc=pd.read_csv('/kaggle/input/neurips-dataset/tc.csv')\n",
    "ffv=pd.read_csv('/kaggle/input/neurips-dataset/ffv.csv')\n",
    "density=pd.read_csv('/kaggle/input/neurips-dataset/density.csv')\n",
    "test=pd.read_csv('/kaggle/input/neurips-open-polymer-prediction-2025/test.csv')\n",
    "ID=test['id'].copy()"
   ]
  },
  {
   "cell_type": "code",
   "execution_count": 6,
   "id": "c02ddf3a",
   "metadata": {
    "execution": {
     "iopub.execute_input": "2025-08-05T07:02:29.246744Z",
     "iopub.status.busy": "2025-08-05T07:02:29.246398Z",
     "iopub.status.idle": "2025-08-05T07:02:29.255814Z",
     "shell.execute_reply": "2025-08-05T07:02:29.254871Z"
    },
    "papermill": {
     "duration": 0.015574,
     "end_time": "2025-08-05T07:02:29.257501",
     "exception": false,
     "start_time": "2025-08-05T07:02:29.241927",
     "status": "completed"
    },
    "tags": []
   },
   "outputs": [],
   "source": [
    "def make_smile_canonical(smile): # To avoid duplicates, for example: canonical '*C=C(*)C' == '*C(=C*)C'\n",
    "    try:\n",
    "        mol = Chem.MolFromSmiles(smile)\n",
    "        canon_smile = Chem.MolToSmiles(mol, canonical=True)\n",
    "        return canon_smile\n",
    "    except:\n",
    "        return np.nan\n",
    "test['SMILES'] = test['SMILES'].apply(lambda s: make_smile_canonical(s))"
   ]
  },
  {
   "cell_type": "code",
   "execution_count": 7,
   "id": "2d1f2e4f",
   "metadata": {
    "execution": {
     "iopub.execute_input": "2025-08-05T07:02:29.266683Z",
     "iopub.status.busy": "2025-08-05T07:02:29.266327Z",
     "iopub.status.idle": "2025-08-05T07:02:29.272581Z",
     "shell.execute_reply": "2025-08-05T07:02:29.271681Z"
    },
    "papermill": {
     "duration": 0.012732,
     "end_time": "2025-08-05T07:02:29.274119",
     "exception": false,
     "start_time": "2025-08-05T07:02:29.261387",
     "status": "completed"
    },
    "tags": []
   },
   "outputs": [],
   "source": [
    "def preprocessing(df):\n",
    "    desc_names = [desc[0] for desc in Descriptors.descList if desc[0] not in useless_cols]\n",
    "    descriptors = [compute_all_descriptors(smi) for smi in df['SMILES'].to_list()]\n",
    "\n",
    "    graph_feats = {'graph_diameter': [], 'avg_shortest_path': [], 'num_cycles': []}\n",
    "    for smile in df['SMILES']:\n",
    "         compute_graph_features(smile, graph_feats)\n",
    "        \n",
    "    result = pd.concat(\n",
    "        [\n",
    "            pd.DataFrame(descriptors, columns=desc_names),\n",
    "            pd.DataFrame(graph_feats)\n",
    "        ],\n",
    "        axis=1\n",
    "    )\n",
    "\n",
    "    result = result.replace([-np.inf, np.inf], np.nan)\n",
    "    return result"
   ]
  },
  {
   "cell_type": "code",
   "execution_count": 8,
   "id": "3921b603",
   "metadata": {
    "execution": {
     "iopub.execute_input": "2025-08-05T07:02:29.283884Z",
     "iopub.status.busy": "2025-08-05T07:02:29.283524Z",
     "iopub.status.idle": "2025-08-05T07:02:29.392267Z",
     "shell.execute_reply": "2025-08-05T07:02:29.391285Z"
    },
    "papermill": {
     "duration": 0.115863,
     "end_time": "2025-08-05T07:02:29.394100",
     "exception": false,
     "start_time": "2025-08-05T07:02:29.278237",
     "status": "completed"
    },
    "tags": []
   },
   "outputs": [],
   "source": [
    "def compute_all_descriptors(smiles):\n",
    "    mol = Chem.MolFromSmiles(smiles)\n",
    "    if mol is None:\n",
    "        return [None] * len(desc_names)\n",
    "    return [desc[1](mol) for desc in Descriptors.descList if desc[0] not in useless_cols]\n",
    "\n",
    "def compute_graph_features(smiles, graph_feats):\n",
    "    mol = Chem.MolFromSmiles(smiles)\n",
    "    adj = rdmolops.GetAdjacencyMatrix(mol)\n",
    "    G = nx.from_numpy_array(adj)\n",
    "\n",
    "    graph_feats['graph_diameter'].append(nx.diameter(G) if nx.is_connected(G) else 0)\n",
    "    graph_feats['avg_shortest_path'].append(nx.average_shortest_path_length(G) if nx.is_connected(G) else 0)\n",
    "    graph_feats['num_cycles'].append(len(list(nx.cycle_basis(G))))\n",
    "\n",
    "test = pd.concat([test, preprocessing(test)], axis=1)\n",
    "test['Ipc']=np.log10(test['Ipc'])\n",
    "\n",
    "test=test.drop(['id','SMILES'],axis=1)"
   ]
  },
  {
   "cell_type": "code",
   "execution_count": 9,
   "id": "2f46516c",
   "metadata": {
    "execution": {
     "iopub.execute_input": "2025-08-05T07:02:29.403217Z",
     "iopub.status.busy": "2025-08-05T07:02:29.402889Z",
     "iopub.status.idle": "2025-08-05T07:02:29.409728Z",
     "shell.execute_reply": "2025-08-05T07:02:29.408687Z"
    },
    "papermill": {
     "duration": 0.013243,
     "end_time": "2025-08-05T07:02:29.411335",
     "exception": false,
     "start_time": "2025-08-05T07:02:29.398092",
     "status": "completed"
    },
    "tags": []
   },
   "outputs": [],
   "source": [
    "from sklearn.model_selection import train_test_split\n",
    "from sklearn.metrics import mean_absolute_error\n",
    "\n",
    "def model_seed_all(train_d, test_d, model, target, seed_id=1, submission=False):\n",
    "    X = train_d.drop(columns=[target])\n",
    "    y = train_d[target]\n",
    "\n",
    "    X_train, X_val, y_train, y_val = train_test_split(X, y, test_size=0.2, random_state=10)\n",
    "\n",
    "    Model = model(random_state=seed_id)\n",
    "\n",
    "    if not submission:\n",
    "        Model.fit(X_train, y_train)\n",
    "        y_pred = Model.predict(X_val)\n",
    "        return mean_absolute_error(y_val, y_pred)\n",
    "    else:\n",
    "        Model.fit(X, y)\n",
    "        return Model.predict(test_d)"
   ]
  },
  {
   "cell_type": "code",
   "execution_count": 10,
   "id": "eb0b0c74",
   "metadata": {
    "execution": {
     "iopub.execute_input": "2025-08-05T07:02:29.420783Z",
     "iopub.status.busy": "2025-08-05T07:02:29.420416Z",
     "iopub.status.idle": "2025-08-05T07:02:29.426330Z",
     "shell.execute_reply": "2025-08-05T07:02:29.425427Z"
    },
    "papermill": {
     "duration": 0.012358,
     "end_time": "2025-08-05T07:02:29.428093",
     "exception": false,
     "start_time": "2025-08-05T07:02:29.415735",
     "status": "completed"
    },
    "tags": []
   },
   "outputs": [],
   "source": [
    "import numpy as np\n",
    "from sklearn.ensemble import ExtraTreesRegressor\n",
    "\n",
    "def average_predictions(train_df, test_df, target_col):\n",
    "    seeds = [i * 100 for i in range(1, 151)]  \n",
    "    preds = [\n",
    "        model_seed_all(train_df, test_df, ExtraTreesRegressor, target_col, seed_id=seed, submission=True)\n",
    "        for seed in seeds\n",
    "    ]\n",
    "    return np.mean(preds, axis=0)"
   ]
  },
  {
   "cell_type": "code",
   "execution_count": 11,
   "id": "b6002770",
   "metadata": {
    "execution": {
     "iopub.execute_input": "2025-08-05T07:02:29.438104Z",
     "iopub.status.busy": "2025-08-05T07:02:29.437777Z",
     "iopub.status.idle": "2025-08-05T07:59:23.485047Z",
     "shell.execute_reply": "2025-08-05T07:59:23.483979Z"
    },
    "papermill": {
     "duration": 3414.053793,
     "end_time": "2025-08-05T07:59:23.486818",
     "exception": false,
     "start_time": "2025-08-05T07:02:29.433025",
     "status": "completed"
    },
    "tags": []
   },
   "outputs": [],
   "source": [
    "tg_result      = average_predictions(tg,      test, 'Tg')\n",
    "ffv_result     = average_predictions(ffv,     test, 'FFV')\n",
    "tc_result      = average_predictions(tc,      test, 'Tc')\n",
    "density_result = average_predictions(density, test, 'Density')\n",
    "rg_result      = average_predictions(rg,      test, 'Rg')"
   ]
  },
  {
   "cell_type": "code",
   "execution_count": 12,
   "id": "b4389e83",
   "metadata": {
    "execution": {
     "iopub.execute_input": "2025-08-05T07:59:23.496732Z",
     "iopub.status.busy": "2025-08-05T07:59:23.496398Z",
     "iopub.status.idle": "2025-08-05T07:59:23.501498Z",
     "shell.execute_reply": "2025-08-05T07:59:23.500633Z"
    },
    "papermill": {
     "duration": 0.011854,
     "end_time": "2025-08-05T07:59:23.503099",
     "exception": false,
     "start_time": "2025-08-05T07:59:23.491245",
     "status": "completed"
    },
    "tags": []
   },
   "outputs": [],
   "source": [
    " # Finally, we use the model to predict on the test set and prepare the submission file.\n",
    "\n",
    "sub={'id':ID,'Tg':tg_result,\n",
    "     'FFV':ffv_result,\n",
    "     'Tc':tc_result,\n",
    "     'Density':density_result,\n",
    "     'Rg':rg_result}"
   ]
  },
  {
   "cell_type": "code",
   "execution_count": 13,
   "id": "5fcd1803",
   "metadata": {
    "execution": {
     "iopub.execute_input": "2025-08-05T07:59:23.511776Z",
     "iopub.status.busy": "2025-08-05T07:59:23.511454Z",
     "iopub.status.idle": "2025-08-05T07:59:23.516903Z",
     "shell.execute_reply": "2025-08-05T07:59:23.515830Z"
    },
    "papermill": {
     "duration": 0.011615,
     "end_time": "2025-08-05T07:59:23.518504",
     "exception": false,
     "start_time": "2025-08-05T07:59:23.506889",
     "status": "completed"
    },
    "tags": []
   },
   "outputs": [],
   "source": [
    "submission=pd.DataFrame(sub)"
   ]
  },
  {
   "cell_type": "code",
   "execution_count": 14,
   "id": "bb781f5a",
   "metadata": {
    "execution": {
     "iopub.execute_input": "2025-08-05T07:59:23.527576Z",
     "iopub.status.busy": "2025-08-05T07:59:23.527282Z",
     "iopub.status.idle": "2025-08-05T07:59:23.551194Z",
     "shell.execute_reply": "2025-08-05T07:59:23.550102Z"
    },
    "papermill": {
     "duration": 0.029985,
     "end_time": "2025-08-05T07:59:23.552660",
     "exception": false,
     "start_time": "2025-08-05T07:59:23.522675",
     "status": "completed"
    },
    "tags": []
   },
   "outputs": [
    {
     "data": {
      "text/html": [
       "<div>\n",
       "<style scoped>\n",
       "    .dataframe tbody tr th:only-of-type {\n",
       "        vertical-align: middle;\n",
       "    }\n",
       "\n",
       "    .dataframe tbody tr th {\n",
       "        vertical-align: top;\n",
       "    }\n",
       "\n",
       "    .dataframe thead th {\n",
       "        text-align: right;\n",
       "    }\n",
       "</style>\n",
       "<table border=\"1\" class=\"dataframe\">\n",
       "  <thead>\n",
       "    <tr style=\"text-align: right;\">\n",
       "      <th></th>\n",
       "      <th>id</th>\n",
       "      <th>Tg</th>\n",
       "      <th>FFV</th>\n",
       "      <th>Tc</th>\n",
       "      <th>Density</th>\n",
       "      <th>Rg</th>\n",
       "    </tr>\n",
       "  </thead>\n",
       "  <tbody>\n",
       "    <tr>\n",
       "      <th>0</th>\n",
       "      <td>1109053969</td>\n",
       "      <td>157.101131</td>\n",
       "      <td>0.372830</td>\n",
       "      <td>0.182914</td>\n",
       "      <td>1.143151</td>\n",
       "      <td>20.707845</td>\n",
       "    </tr>\n",
       "    <tr>\n",
       "      <th>1</th>\n",
       "      <td>1422188626</td>\n",
       "      <td>164.981382</td>\n",
       "      <td>0.374475</td>\n",
       "      <td>0.237560</td>\n",
       "      <td>1.111623</td>\n",
       "      <td>20.034134</td>\n",
       "    </tr>\n",
       "    <tr>\n",
       "      <th>2</th>\n",
       "      <td>2032016830</td>\n",
       "      <td>96.928664</td>\n",
       "      <td>0.350464</td>\n",
       "      <td>0.265847</td>\n",
       "      <td>1.088267</td>\n",
       "      <td>20.566959</td>\n",
       "    </tr>\n",
       "  </tbody>\n",
       "</table>\n",
       "</div>"
      ],
      "text/plain": [
       "           id          Tg       FFV        Tc   Density         Rg\n",
       "0  1109053969  157.101131  0.372830  0.182914  1.143151  20.707845\n",
       "1  1422188626  164.981382  0.374475  0.237560  1.111623  20.034134\n",
       "2  2032016830   96.928664  0.350464  0.265847  1.088267  20.566959"
      ]
     },
     "execution_count": 14,
     "metadata": {},
     "output_type": "execute_result"
    }
   ],
   "source": [
    "submission"
   ]
  },
  {
   "cell_type": "code",
   "execution_count": 15,
   "id": "468da1b1",
   "metadata": {
    "execution": {
     "iopub.execute_input": "2025-08-05T07:59:23.561554Z",
     "iopub.status.busy": "2025-08-05T07:59:23.561203Z",
     "iopub.status.idle": "2025-08-05T07:59:23.571570Z",
     "shell.execute_reply": "2025-08-05T07:59:23.570762Z"
    },
    "papermill": {
     "duration": 0.016875,
     "end_time": "2025-08-05T07:59:23.573429",
     "exception": false,
     "start_time": "2025-08-05T07:59:23.556554",
     "status": "completed"
    },
    "tags": []
   },
   "outputs": [],
   "source": [
    "submission.to_csv('submission.csv',index=False)"
   ]
  },
  {
   "cell_type": "code",
   "execution_count": null,
   "id": "6d2fdac0",
   "metadata": {
    "papermill": {
     "duration": 0.003556,
     "end_time": "2025-08-05T07:59:23.580853",
     "exception": false,
     "start_time": "2025-08-05T07:59:23.577297",
     "status": "completed"
    },
    "tags": []
   },
   "outputs": [],
   "source": []
  }
 ],
 "metadata": {
  "kaggle": {
   "accelerator": "none",
   "dataSources": [
    {
     "databundleVersionId": 12966160,
     "sourceId": 74608,
     "sourceType": "competition"
    },
    {
     "datasetId": 7678100,
     "isSourceIdPinned": false,
     "sourceId": 12189904,
     "sourceType": "datasetVersion"
    },
    {
     "datasetId": 7824094,
     "sourceId": 12406655,
     "sourceType": "datasetVersion"
    }
   ],
   "dockerImageVersionId": 31089,
   "isGpuEnabled": false,
   "isInternetEnabled": false,
   "language": "python",
   "sourceType": "notebook"
  },
  "kernelspec": {
   "display_name": "Python 3",
   "language": "python",
   "name": "python3"
  },
  "language_info": {
   "codemirror_mode": {
    "name": "ipython",
    "version": 3
   },
   "file_extension": ".py",
   "mimetype": "text/x-python",
   "name": "python",
   "nbconvert_exporter": "python",
   "pygments_lexer": "ipython3",
   "version": "3.11.13"
  },
  "papermill": {
   "default_parameters": {},
   "duration": 3434.917028,
   "end_time": "2025-08-05T07:59:24.409248",
   "environment_variables": {},
   "exception": null,
   "input_path": "__notebook__.ipynb",
   "output_path": "__notebook__.ipynb",
   "parameters": {},
   "start_time": "2025-08-05T07:02:09.492220",
   "version": "2.6.0"
  }
 },
 "nbformat": 4,
 "nbformat_minor": 5
}
