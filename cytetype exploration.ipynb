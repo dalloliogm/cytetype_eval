{
 "cells": [
  {
   "cell_type": "markdown",
   "id": "8b3a36c3",
   "metadata": {},
   "source": [
    "# Evaluation of CyteType\n",
    "\n",
    "CyteType is a tool for automatic curation of cell types in single cell, using an LLM Annotator Agent.\n",
    "\n",
    "In this notebook, I try the tool on a few datasets and compare it with other annotation tools."
   ]
  },
  {
   "cell_type": "markdown",
   "id": "7aeb740b",
   "metadata": {},
   "source": [
    "### Install Libraries"
   ]
  },
  {
   "cell_type": "code",
   "execution_count": null,
   "id": "3743c932",
   "metadata": {},
   "outputs": [
    {
     "name": "stdout",
     "output_type": "stream",
     "text": [
      "Defaulting to user installation because normal site-packages is not writeable\n",
      "Requirement already satisfied: cytetype in c:\\users\\dallo\\appdata\\local\\packages\\pythonsoftwarefoundation.python.3.12_qbz5n2kfra8p0\\localcache\\local-packages\\python312\\site-packages (0.3.5)\n",
      "Requirement already satisfied: anndata>=0.11.4 in c:\\users\\dallo\\appdata\\local\\packages\\pythonsoftwarefoundation.python.3.12_qbz5n2kfra8p0\\localcache\\local-packages\\python312\\site-packages (from cytetype) (0.11.4)\n",
      "Requirement already satisfied: loguru>=0.7.3 in c:\\users\\dallo\\appdata\\local\\packages\\pythonsoftwarefoundation.python.3.12_qbz5n2kfra8p0\\localcache\\local-packages\\python312\\site-packages (from cytetype) (0.7.3)\n",
      "Requirement already satisfied: requests>=2.32.3 in c:\\users\\dallo\\appdata\\local\\packages\\pythonsoftwarefoundation.python.3.12_qbz5n2kfra8p0\\localcache\\local-packages\\python312\\site-packages (from cytetype) (2.32.3)\n",
      "Requirement already satisfied: pydantic>=2.0.0 in c:\\users\\dallo\\appdata\\local\\packages\\pythonsoftwarefoundation.python.3.12_qbz5n2kfra8p0\\localcache\\local-packages\\python312\\site-packages (from cytetype) (2.10.5)\n",
      "Requirement already satisfied: session-info>=1.0.1 in c:\\users\\dallo\\appdata\\local\\packages\\pythonsoftwarefoundation.python.3.12_qbz5n2kfra8p0\\localcache\\local-packages\\python312\\site-packages (from cytetype) (1.0.1)\n",
      "Requirement already satisfied: python-dotenv>=1.1.0 in c:\\users\\dallo\\appdata\\local\\packages\\pythonsoftwarefoundation.python.3.12_qbz5n2kfra8p0\\localcache\\local-packages\\python312\\site-packages (from cytetype) (1.1.0)\n",
      "Requirement already satisfied: array-api-compat!=1.5,>1.4 in c:\\users\\dallo\\appdata\\local\\packages\\pythonsoftwarefoundation.python.3.12_qbz5n2kfra8p0\\localcache\\local-packages\\python312\\site-packages (from anndata>=0.11.4->cytetype) (1.10.0)\n",
      "Requirement already satisfied: h5py>=3.7 in c:\\users\\dallo\\appdata\\local\\packages\\pythonsoftwarefoundation.python.3.12_qbz5n2kfra8p0\\localcache\\local-packages\\python312\\site-packages (from anndata>=0.11.4->cytetype) (3.12.1)\n",
      "Requirement already satisfied: natsort in c:\\users\\dallo\\appdata\\local\\packages\\pythonsoftwarefoundation.python.3.12_qbz5n2kfra8p0\\localcache\\local-packages\\python312\\site-packages (from anndata>=0.11.4->cytetype) (8.4.0)\n",
      "Requirement already satisfied: numpy>=1.23 in c:\\users\\dallo\\appdata\\local\\packages\\pythonsoftwarefoundation.python.3.12_qbz5n2kfra8p0\\localcache\\local-packages\\python312\\site-packages (from anndata>=0.11.4->cytetype) (1.26.4)\n",
      "Requirement already satisfied: packaging>=24.2 in c:\\users\\dallo\\appdata\\local\\packages\\pythonsoftwarefoundation.python.3.12_qbz5n2kfra8p0\\localcache\\local-packages\\python312\\site-packages (from anndata>=0.11.4->cytetype) (24.2)\n",
      "Requirement already satisfied: pandas!=2.1.0rc0,!=2.1.2,>=1.4 in c:\\users\\dallo\\appdata\\local\\packages\\pythonsoftwarefoundation.python.3.12_qbz5n2kfra8p0\\localcache\\local-packages\\python312\\site-packages (from anndata>=0.11.4->cytetype) (2.2.2)\n",
      "Requirement already satisfied: scipy>1.8 in c:\\users\\dallo\\appdata\\local\\packages\\pythonsoftwarefoundation.python.3.12_qbz5n2kfra8p0\\localcache\\local-packages\\python312\\site-packages (from anndata>=0.11.4->cytetype) (1.13.1)\n",
      "Requirement already satisfied: colorama>=0.3.4 in c:\\users\\dallo\\appdata\\local\\packages\\pythonsoftwarefoundation.python.3.12_qbz5n2kfra8p0\\localcache\\local-packages\\python312\\site-packages (from loguru>=0.7.3->cytetype) (0.4.6)\n",
      "Requirement already satisfied: win32-setctime>=1.0.0 in c:\\users\\dallo\\appdata\\local\\packages\\pythonsoftwarefoundation.python.3.12_qbz5n2kfra8p0\\localcache\\local-packages\\python312\\site-packages (from loguru>=0.7.3->cytetype) (1.2.0)\n",
      "Requirement already satisfied: annotated-types>=0.6.0 in c:\\users\\dallo\\appdata\\local\\packages\\pythonsoftwarefoundation.python.3.12_qbz5n2kfra8p0\\localcache\\local-packages\\python312\\site-packages (from pydantic>=2.0.0->cytetype) (0.7.0)\n",
      "Requirement already satisfied: pydantic-core==2.27.2 in c:\\users\\dallo\\appdata\\local\\packages\\pythonsoftwarefoundation.python.3.12_qbz5n2kfra8p0\\localcache\\local-packages\\python312\\site-packages (from pydantic>=2.0.0->cytetype) (2.27.2)\n",
      "Requirement already satisfied: typing-extensions>=4.12.2 in c:\\users\\dallo\\appdata\\local\\packages\\pythonsoftwarefoundation.python.3.12_qbz5n2kfra8p0\\localcache\\local-packages\\python312\\site-packages (from pydantic>=2.0.0->cytetype) (4.12.2)\n",
      "Requirement already satisfied: charset-normalizer<4,>=2 in c:\\users\\dallo\\appdata\\local\\packages\\pythonsoftwarefoundation.python.3.12_qbz5n2kfra8p0\\localcache\\local-packages\\python312\\site-packages (from requests>=2.32.3->cytetype) (3.4.1)\n",
      "Requirement already satisfied: idna<4,>=2.5 in c:\\users\\dallo\\appdata\\local\\packages\\pythonsoftwarefoundation.python.3.12_qbz5n2kfra8p0\\localcache\\local-packages\\python312\\site-packages (from requests>=2.32.3->cytetype) (3.10)\n",
      "Requirement already satisfied: urllib3<3,>=1.21.1 in c:\\users\\dallo\\appdata\\local\\packages\\pythonsoftwarefoundation.python.3.12_qbz5n2kfra8p0\\localcache\\local-packages\\python312\\site-packages (from requests>=2.32.3->cytetype) (2.3.0)\n",
      "Requirement already satisfied: certifi>=2017.4.17 in c:\\users\\dallo\\appdata\\local\\packages\\pythonsoftwarefoundation.python.3.12_qbz5n2kfra8p0\\localcache\\local-packages\\python312\\site-packages (from requests>=2.32.3->cytetype) (2024.12.14)\n",
      "Requirement already satisfied: stdlib_list in c:\\users\\dallo\\appdata\\local\\packages\\pythonsoftwarefoundation.python.3.12_qbz5n2kfra8p0\\localcache\\local-packages\\python312\\site-packages (from session-info>=1.0.1->cytetype) (0.11.0)\n",
      "Requirement already satisfied: python-dateutil>=2.8.2 in c:\\users\\dallo\\appdata\\local\\packages\\pythonsoftwarefoundation.python.3.12_qbz5n2kfra8p0\\localcache\\local-packages\\python312\\site-packages (from pandas!=2.1.0rc0,!=2.1.2,>=1.4->anndata>=0.11.4->cytetype) (2.9.0.post0)\n",
      "Requirement already satisfied: pytz>=2020.1 in c:\\users\\dallo\\appdata\\local\\packages\\pythonsoftwarefoundation.python.3.12_qbz5n2kfra8p0\\localcache\\local-packages\\python312\\site-packages (from pandas!=2.1.0rc0,!=2.1.2,>=1.4->anndata>=0.11.4->cytetype) (2024.2)\n",
      "Requirement already satisfied: tzdata>=2022.7 in c:\\users\\dallo\\appdata\\local\\packages\\pythonsoftwarefoundation.python.3.12_qbz5n2kfra8p0\\localcache\\local-packages\\python312\\site-packages (from pandas!=2.1.0rc0,!=2.1.2,>=1.4->anndata>=0.11.4->cytetype) (2024.2)\n",
      "Requirement already satisfied: six>=1.5 in c:\\users\\dallo\\appdata\\local\\packages\\pythonsoftwarefoundation.python.3.12_qbz5n2kfra8p0\\localcache\\local-packages\\python312\\site-packages (from python-dateutil>=2.8.2->pandas!=2.1.0rc0,!=2.1.2,>=1.4->anndata>=0.11.4->cytetype) (1.17.0)\n"
     ]
    },
    {
     "name": "stderr",
     "output_type": "stream",
     "text": [
      "\n",
      "[notice] A new release of pip is available: 25.0.1 -> 25.1.1\n",
      "[notice] To update, run: C:\\Users\\dallo\\AppData\\Local\\Microsoft\\WindowsApps\\PythonSoftwareFoundation.Python.3.12_qbz5n2kfra8p0\\python.exe -m pip install --upgrade pip\n"
     ]
    }
   ],
   "source": [
    "!python -m pip install -q cytetype scanpy"
   ]
  },
  {
   "cell_type": "code",
   "execution_count": null,
   "id": "f52ea36a",
   "metadata": {},
   "outputs": [],
   "source": [
    "import anndata\n",
    "import scanpy as sc\n",
    "import cytetype\n",
    "import pandas as pd\n",
    "import seaborn as sns\n",
    "import matplotlib.pyplot as plt"
   ]
  },
  {
   "cell_type": "markdown",
   "id": "c1e74b79",
   "metadata": {},
   "source": [
    "## Initialize Paul15 dataset\n",
    "\n",
    "The Paul et al 2015 dataset is a small single-cell dataset of myeloid cells, available from scanpy. The Cell types have been manually annotated, meaning we can compare cytetype's predictions against the true values."
   ]
  },
  {
   "cell_type": "code",
   "execution_count": null,
   "id": "93535096",
   "metadata": {},
   "outputs": [
    {
     "data": {
      "application/vnd.jupyter.widget-view+json": {
       "model_id": "dfe7dd50ba864de099e43c852333961b",
       "version_major": 2,
       "version_minor": 0
      },
      "text/plain": [
       "  0%|          | 0.00/9.82M [00:00<?, ?B/s]"
      ]
     },
     "metadata": {},
     "output_type": "display_data"
    }
   ],
   "source": [
    "#adata = sc.datasets.paul15()\n"
   ]
  },
  {
   "cell_type": "code",
   "execution_count": null,
   "id": "b3db6bcc",
   "metadata": {},
   "outputs": [],
   "source": [
    "import os\n",
    "import scanpy as sc\n",
    "\n",
    "if not os.path.exists(\"paul15_small.h5ad\"):\n",
    "    adata = sc.datasets.paul15()\n",
    "    adata.write(\"paul15_small.h5ad\")\n",
    "else:\n",
    "    adata = sc.read(\"paul15_small.h5ad\")\n"
   ]
  },
  {
   "cell_type": "markdown",
   "id": "c9d2828e",
   "metadata": {},
   "source": [
    "### Process the data - compute clusters, etc"
   ]
  },
  {
   "cell_type": "code",
   "execution_count": null,
   "id": "77748c7c",
   "metadata": {},
   "outputs": [],
   "source": [
    "\n",
    "# Load and preprocess your data\n",
    "adata.var[\"gene_symbols\"] = adata.var_names\n",
    "\n",
    "sc.pp.normalize_total(adata, target_sum=1e4)\n",
    "sc.pp.log1p(adata)\n",
    "sc.pp.pca(adata)\n",
    "sc.pp.neighbors(adata)\n",
    "sc.tl.leiden(adata) \n",
    "sc.tl.rank_genes_groups(adata, groupby='leiden', method='t-test')\n",
    "\n",
    "# Initialize CyteType (performs data preparation)\n",
    "annotator = cytetype.CyteType(adata, group_key='leiden')\n",
    "\n"
   ]
  },
  {
   "cell_type": "code",
   "execution_count": 25,
   "id": "3b3092a0",
   "metadata": {},
   "outputs": [
    {
     "name": "stdout",
     "output_type": "stream",
     "text": [
      "Number of clusters: 10\n"
     ]
    },
    {
     "data": {
      "text/plain": [
       "leiden\n",
       "0    376\n",
       "1    372\n",
       "2    364\n",
       "3    339\n",
       "4    322\n",
       "5    309\n",
       "6    299\n",
       "7    290\n",
       "8     31\n",
       "9     28\n",
       "Name: count, dtype: int64"
      ]
     },
     "execution_count": 25,
     "metadata": {},
     "output_type": "execute_result"
    }
   ],
   "source": [
    "# How many clusters are there?\n",
    "print(f\"Number of clusters: {len(adata.obs['leiden'].unique())}\")\n",
    "adata.obs['leiden'].value_counts().sort_index()\n"
   ]
  },
  {
   "cell_type": "code",
   "execution_count": 27,
   "id": "1f0f146a",
   "metadata": {},
   "outputs": [
    {
     "data": {
      "text/plain": [
       "W31105      7MEP\n",
       "W31106      15Mo\n",
       "W31107      3Ery\n",
       "W31108      15Mo\n",
       "W31109      3Ery\n",
       "           ...  \n",
       "W39164      2Ery\n",
       "W39165    13Baso\n",
       "W39166      7MEP\n",
       "W39167      15Mo\n",
       "W39168      3Ery\n",
       "Name: paul15_clusters, Length: 2730, dtype: category\n",
       "Categories (19, object): ['1Ery', '2Ery', '3Ery', '4Ery', ..., '16Neu', '17Neu', '18Eos', '19Lymph']"
      ]
     },
     "execution_count": 27,
     "metadata": {},
     "output_type": "execute_result"
    }
   ],
   "source": [
    "# Cluster annotation from original paper \n",
    "adata.obs[\"paul15_clusters\"]\n"
   ]
  },
  {
   "cell_type": "markdown",
   "id": "e410f355",
   "metadata": {},
   "source": [
    "### Call the Agent! Run the annotation"
   ]
  },
  {
   "cell_type": "code",
   "execution_count": null,
   "id": "edabe29a",
   "metadata": {},
   "outputs": [
    {
     "name": "stdout",
     "output_type": "stream",
     "text": [
      "Waiting for results for job ID: 228e448a-f156-4eec-93ea-2abe231a3a26\n",
      "View the automatically updating visualization report at: https://nygen-labs-prod--cell-annotation-agent-fastapi-app.modal.run/report/228e448a-f156-4eec-93ea-2abe231a3a26\n",
      "250603:1856:11 |INFO| [STARTING WORKFLOWS]: Job ID: 228e448a-f156-4eec-93ea-2abe231a3a26\n",
      "250603:1856:11 |INFO| [WORKFLOW STEP 1/3]: Generating context summary\n",
      "250603:1856:29 |INFO| [WORKFLOW STEP 2/3]: Running cluster contextualization, annotation, review, and ontology assignment\n",
      "250603:1856:31 |INFO| [Cluster: 1] Generating cluster-specific context...\n",
      "250603:1856:33 |INFO| [Cluster: 10] Generating cluster-specific context...\n",
      "250603:1856:34 |INFO| [Cluster: 2] Generating cluster-specific context...\n",
      "250603:1856:36 |INFO| [Cluster: 3] Generating cluster-specific context...\n",
      "250603:1856:38 |INFO| [Cluster: 4] Generating cluster-specific context...\n",
      "250603:1856:48 |INFO| [Cluster: 2] Annotating cluster...\n",
      "250603:1856:53 |INFO| [Cluster: 1] Annotating cluster...\n",
      "250603:1857:07 |INFO| [Cluster: 3] Annotating cluster...\n",
      "250603:1857:24 |INFO| [Cluster: 4] Annotating cluster...\n",
      "250603:1857:35 |INFO| [Cluster: 1] Reviewing cluster annotation...\n",
      "250603:1857:40 |INFO| [Cluster: 10] Annotating cluster...\n",
      "250603:1857:56 |INFO| [Cluster: 1] ReAnnotating using reviewer feedback\n",
      "250603:1858:15 |INFO| [Cluster: 2] Reviewing cluster annotation...\n",
      "250603:1858:40 |INFO| [Cluster: 3] Reviewing cluster annotation...\n",
      "250603:1858:44 |INFO| [Cluster: 2] ReAnnotating using reviewer feedback\n",
      "250603:1859:37 |INFO| [Cluster: 3] Finding ontology term for annotation...\n",
      "250603:1900:01 |SUCCESS| [Cluster: 3] Annotation (Qwen/Qwen3-235B-A22B) completed in 204.67s\n",
      "250603:1900:01 |INFO| [Cluster: 3] Saving partial result (1/10)\n",
      "250603:1900:04 |INFO| [Cluster: 5] Generating cluster-specific context...\n",
      "250603:1900:23 |INFO| [Cluster: 1] Reviewing cluster annotation...\n",
      "250603:1900:36 |INFO| [Cluster: 1] Finding ontology term for annotation...\n",
      "250603:1900:55 |SUCCESS| [Cluster: 1] Annotation (grok-3-mini-fast-latest) completed in 264.13s\n",
      "250603:1900:55 |INFO| [Cluster: 1] Saving partial result (2/10)\n",
      "250603:1900:58 |INFO| [Cluster: 6] Generating cluster-specific context...\n",
      "250603:1901:16 |INFO| [Cluster: 5] Annotating cluster...\n",
      "250603:1901:30 |INFO| [Cluster: 10] Reviewing cluster annotation...\n",
      "250603:1901:41 |INFO| [Cluster: 6] Annotating cluster...\n",
      "250603:1901:47 |INFO| [Cluster: 10] Finding ontology term for annotation...\n",
      "250603:1902:04 |SUCCESS| [Cluster: 10] Annotation (Qwen/Qwen3-235B-A22B) completed in 331.12s\n",
      "250603:1902:04 |INFO| [Cluster: 10] Saving partial result (3/10)\n",
      "250603:1902:08 |INFO| [Cluster: 7] Generating cluster-specific context...\n",
      "250603:1902:22 |INFO| [Cluster: 2] Reviewing cluster annotation...\n",
      "250603:1902:29 |INFO| [Cluster: 7] Annotating cluster...\n",
      "250603:1902:46 |INFO| [Cluster: 5] Reviewing cluster annotation...\n",
      "250603:1903:10 |INFO| [Cluster: 6] Reviewing cluster annotation...\n",
      "250603:1903:19 |INFO| [Cluster: 2] Finding ontology term for annotation...\n",
      "250603:1903:23 |INFO| [Cluster: 5] Annotating cluster...\n",
      "250603:1903:39 |SUCCESS| [Cluster: 2] Annotation (grok-3-mini-fast-latest) completed in 424.82s\n",
      "250603:1903:39 |INFO| [Cluster: 2] Saving partial result (4/10)\n",
      "250603:1903:42 |INFO| [Cluster: 8] Generating cluster-specific context...\n",
      "250603:1903:49 |INFO| [Cluster: 5] Reviewing cluster annotation...\n",
      "250603:1904:00 |INFO| [Cluster: 6] Finding ontology term for annotation...\n",
      "250603:1904:01 |INFO| [Cluster: 8] Annotating cluster...\n",
      "250603:1904:07 |INFO| [Cluster: 5] Finding ontology term for annotation...\n",
      "250603:1904:12 |SUCCESS| [Cluster: 6] Annotation (Qwen/Qwen3-235B-A22B) completed in 194.14s\n",
      "250603:1904:12 |INFO| [Cluster: 6] Saving partial result (5/10)\n",
      "250603:1904:16 |INFO| [Cluster: 9] Generating cluster-specific context...\n",
      "250603:1904:16 |SUCCESS| [Cluster: 5] Annotation () completed in 251.69s\n",
      "250603:1904:16 |INFO| [Cluster: 5] Saving partial result (6/10)\n",
      "250603:1904:26 |INFO| [Cluster: 9] Annotating cluster...\n",
      "250603:1907:28 |INFO| [Cluster: 8] Reviewing cluster annotation...\n",
      "250603:1907:36 |INFO| [Cluster: 4] Reviewing cluster annotation...\n",
      "250603:1908:00 |INFO| [Cluster: 8] ReAnnotating using reviewer feedback\n",
      "250603:1908:00 |INFO| [Cluster: 4] Finding ontology term for annotation...\n",
      "250603:1908:41 |SUCCESS| [Cluster: 4] Annotation (grok-3-mini-fast-latest) completed in 722.88s\n",
      "250603:1908:41 |INFO| [Cluster: 4] Saving partial result (7/10)\n",
      "250603:1909:26 |INFO| [Cluster: 9] Reviewing cluster annotation...\n",
      "250603:1909:43 |INFO| [Cluster: 8] Reviewing cluster annotation...\n",
      "250603:1909:46 |INFO| [Cluster: 9] ReAnnotating using reviewer feedback\n",
      "250603:1909:59 |INFO| [Cluster: 8] Finding ontology term for annotation...\n",
      "250603:1910:15 |SUCCESS| [Cluster: 8] Annotation (o4-mini-2025-04-16) completed in 392.89s\n",
      "250603:1910:15 |INFO| [Cluster: 8] Saving partial result (8/10)\n",
      "250603:1911:50 |INFO| [Cluster: 7] Reviewing cluster annotation...\n",
      "250603:1912:40 |INFO| [Cluster: 7] ReAnnotating using reviewer feedback\n",
      "250603:1915:00 |INFO| [Cluster: 9] Reviewing cluster annotation...\n",
      "250603:1915:13 |INFO| [Cluster: 9] Finding ontology term for annotation...\n",
      "250603:1915:45 |INFO| [Cluster: 7] Reviewing cluster annotation...\n",
      "250603:1915:47 |SUCCESS| [Cluster: 9] Annotation (Qwen/Qwen3-235B-A22B) completed in 690.70s\n",
      "250603:1915:47 |INFO| [Cluster: 9] Saving partial result (9/10)\n",
      "250603:1916:56 |INFO| [Cluster: 7] Finding ontology term for annotation...\n",
      "250603:1917:18 |SUCCESS| [Cluster: 7] Annotation (Qwen/Qwen3-235B-A22B) completed in 910.72s\n",
      "250603:1917:18 |INFO| [Cluster: 7] Saving partial result (10/10)\n",
      "250603:1917:20 |INFO| [WORKFLOW STEP 3/3]: Generating summary\n",
      "Job 228e448a-f156-4eec-93ea-2abe231a3a26 completed successfully.\n",
      "Annotations successfully added to `adata.obs['cytetype_leiden']` and `adata.uns['cytetype_results']`.\n",
      "W31105                          \n",
      "W31106                 Microglia\n",
      "W31107    Erythroid lineage cell\n",
      "W31108                Neutrophil\n",
      "W31109    Erythroid lineage cell\n",
      "                   ...          \n",
      "W39164           Erythroid cells\n",
      "W39165                Neutrophil\n",
      "W39166                          \n",
      "W39167                Neutrophil\n",
      "W39168    Erythroid lineage cell\n",
      "Name: cytetype_leiden, Length: 2730, dtype: category\n",
      "Categories (8, object): ['', 'Erythrocyte', 'Erythroid cells', 'Erythroid lineage cell', 'Hematopoietic progenitor cell', 'Microglia', 'Natural killer cell', 'Neutrophil']\n"
     ]
    }
   ],
   "source": [
    "# Run annotation\n",
    "adata = annotator.run(\n",
    "    study_context=\"Mouse bone marrow cells undergoing myeloid differentiation\"\n",
    ")\n",
    "\n",
    "# View results\n",
    "print(adata.obs.cytetype_leiden)"
   ]
  },
  {
   "cell_type": "markdown",
   "id": "83befa5b",
   "metadata": {},
   "source": [
    "### Compare annotation with existing one"
   ]
  },
  {
   "cell_type": "code",
   "execution_count": 14,
   "id": "1a089031",
   "metadata": {},
   "outputs": [
    {
     "name": "stdout",
     "output_type": "stream",
     "text": [
      "W31105                          \n",
      "W31106                 Microglia\n",
      "W31107    Erythroid lineage cell\n",
      "W31108                Neutrophil\n",
      "W31109    Erythroid lineage cell\n",
      "                   ...          \n",
      "W39164           Erythroid cells\n",
      "W39165                Neutrophil\n",
      "W39166                          \n",
      "W39167                Neutrophil\n",
      "W39168    Erythroid lineage cell\n",
      "Name: cytetype_leiden, Length: 2730, dtype: category\n",
      "Categories (8, object): ['', 'Erythrocyte', 'Erythroid cells', 'Erythroid lineage cell', 'Hematopoietic progenitor cell', 'Microglia', 'Natural killer cell', 'Neutrophil']\n"
     ]
    }
   ],
   "source": [
    "print(adata.obs.cytetype_leiden)"
   ]
  },
  {
   "cell_type": "code",
   "execution_count": 17,
   "id": "cbc08091",
   "metadata": {},
   "outputs": [
    {
     "name": "stdout",
     "output_type": "stream",
     "text": [
      "W31105      7MEP\n",
      "W31106      15Mo\n",
      "W31107      3Ery\n",
      "W31108      15Mo\n",
      "W31109      3Ery\n",
      "           ...  \n",
      "W39164      2Ery\n",
      "W39165    13Baso\n",
      "W39166      7MEP\n",
      "W39167      15Mo\n",
      "W39168      3Ery\n",
      "Name: paul15_clusters, Length: 2730, dtype: category\n",
      "Categories (19, object): ['1Ery', '2Ery', '3Ery', '4Ery', ..., '16Neu', '17Neu', '18Eos', '19Lymph']\n"
     ]
    }
   ],
   "source": [
    "print(adata.obs.paul15_clusters)"
   ]
  },
  {
   "cell_type": "code",
   "execution_count": 18,
   "id": "2df79c08",
   "metadata": {},
   "outputs": [],
   "source": [
    "label_map = {\n",
    "    '1Ery': 'Erythroid lineage cell',\n",
    "    '2Ery': 'Erythroid lineage cell',\n",
    "    '3Ery': 'Erythroid lineage cell',\n",
    "    '4Ery': 'Erythroid lineage cell',\n",
    "    '5MEP': 'Hematopoietic progenitor cell',\n",
    "    '6MEP': 'Hematopoietic progenitor cell',\n",
    "    '7MEP': 'Hematopoietic progenitor cell',\n",
    "    '8GMP': 'Hematopoietic progenitor cell',\n",
    "    '9DC': 'Hematopoietic progenitor cell',\n",
    "    '10Baso': 'Hematopoietic progenitor cell',\n",
    "    '11Mo': 'Hematopoietic progenitor cell',\n",
    "    '12Mo': 'Hematopoietic progenitor cell',\n",
    "    '13Baso': 'Hematopoietic progenitor cell',\n",
    "    '14Mo': 'Hematopoietic progenitor cell',\n",
    "    '15Mo': 'Hematopoietic progenitor cell',\n",
    "    '16Neu': 'Neutrophil',\n",
    "    '17Neu': 'Neutrophil',\n",
    "    '18Eos': 'Hematopoietic progenitor cell',\n",
    "    '19Lymph': 'Natural killer cell'  # could be NK/T-cell; best-effort match\n",
    "}\n"
   ]
  },
  {
   "cell_type": "code",
   "execution_count": 21,
   "id": "fb65c71c",
   "metadata": {},
   "outputs": [
    {
     "data": {
      "text/html": [
       "<div>\n",
       "<style scoped>\n",
       "    .dataframe tbody tr th:only-of-type {\n",
       "        vertical-align: middle;\n",
       "    }\n",
       "\n",
       "    .dataframe tbody tr th {\n",
       "        vertical-align: top;\n",
       "    }\n",
       "\n",
       "    .dataframe thead th {\n",
       "        text-align: right;\n",
       "    }\n",
       "</style>\n",
       "<table border=\"1\" class=\"dataframe\">\n",
       "  <thead>\n",
       "    <tr style=\"text-align: right;\">\n",
       "      <th>cytetype_leiden</th>\n",
       "      <th></th>\n",
       "      <th>Erythrocyte</th>\n",
       "      <th>Erythroid cells</th>\n",
       "      <th>Erythroid lineage cell</th>\n",
       "      <th>Hematopoietic progenitor cell</th>\n",
       "      <th>Microglia</th>\n",
       "      <th>Natural killer cell</th>\n",
       "      <th>Neutrophil</th>\n",
       "    </tr>\n",
       "    <tr>\n",
       "      <th>true_broad</th>\n",
       "      <th></th>\n",
       "      <th></th>\n",
       "      <th></th>\n",
       "      <th></th>\n",
       "      <th></th>\n",
       "      <th></th>\n",
       "      <th></th>\n",
       "      <th></th>\n",
       "    </tr>\n",
       "  </thead>\n",
       "  <tbody>\n",
       "    <tr>\n",
       "      <th>Erythroid lineage cell</th>\n",
       "      <td>0.017520</td>\n",
       "      <td>0.082210</td>\n",
       "      <td>0.45283</td>\n",
       "      <td>0.447439</td>\n",
       "      <td>0.000000</td>\n",
       "      <td>0.000000</td>\n",
       "      <td>0.000000</td>\n",
       "      <td>0.000000</td>\n",
       "    </tr>\n",
       "    <tr>\n",
       "      <th>Hematopoietic progenitor cell</th>\n",
       "      <td>0.159420</td>\n",
       "      <td>0.004831</td>\n",
       "      <td>0.00000</td>\n",
       "      <td>0.000000</td>\n",
       "      <td>0.088889</td>\n",
       "      <td>0.287923</td>\n",
       "      <td>0.000000</td>\n",
       "      <td>0.458937</td>\n",
       "    </tr>\n",
       "    <tr>\n",
       "      <th>Natural killer cell</th>\n",
       "      <td>0.032258</td>\n",
       "      <td>0.000000</td>\n",
       "      <td>0.00000</td>\n",
       "      <td>0.000000</td>\n",
       "      <td>0.000000</td>\n",
       "      <td>0.000000</td>\n",
       "      <td>0.967742</td>\n",
       "      <td>0.000000</td>\n",
       "    </tr>\n",
       "    <tr>\n",
       "      <th>Neutrophil</th>\n",
       "      <td>0.048387</td>\n",
       "      <td>0.000000</td>\n",
       "      <td>0.00000</td>\n",
       "      <td>0.000000</td>\n",
       "      <td>0.069892</td>\n",
       "      <td>0.059140</td>\n",
       "      <td>0.000000</td>\n",
       "      <td>0.822581</td>\n",
       "    </tr>\n",
       "  </tbody>\n",
       "</table>\n",
       "</div>"
      ],
      "text/plain": [
       "cytetype_leiden                          Erythrocyte  Erythroid cells  \\\n",
       "true_broad                                                              \n",
       "Erythroid lineage cell         0.017520     0.082210          0.45283   \n",
       "Hematopoietic progenitor cell  0.159420     0.004831          0.00000   \n",
       "Natural killer cell            0.032258     0.000000          0.00000   \n",
       "Neutrophil                     0.048387     0.000000          0.00000   \n",
       "\n",
       "cytetype_leiden                Erythroid lineage cell  \\\n",
       "true_broad                                              \n",
       "Erythroid lineage cell                       0.447439   \n",
       "Hematopoietic progenitor cell                0.000000   \n",
       "Natural killer cell                          0.000000   \n",
       "Neutrophil                                   0.000000   \n",
       "\n",
       "cytetype_leiden                Hematopoietic progenitor cell  Microglia  \\\n",
       "true_broad                                                                \n",
       "Erythroid lineage cell                              0.000000   0.000000   \n",
       "Hematopoietic progenitor cell                       0.088889   0.287923   \n",
       "Natural killer cell                                 0.000000   0.000000   \n",
       "Neutrophil                                          0.069892   0.059140   \n",
       "\n",
       "cytetype_leiden                Natural killer cell  Neutrophil  \n",
       "true_broad                                                      \n",
       "Erythroid lineage cell                    0.000000    0.000000  \n",
       "Hematopoietic progenitor cell             0.000000    0.458937  \n",
       "Natural killer cell                       0.967742    0.000000  \n",
       "Neutrophil                                0.000000    0.822581  "
      ]
     },
     "execution_count": 21,
     "metadata": {},
     "output_type": "execute_result"
    }
   ],
   "source": [
    "adata.obs[\"true_broad\"] = adata.obs[\"paul15_clusters\"].map(label_map)\n",
    "\n",
    "pd.crosstab(adata.obs[\"true_broad\"], adata.obs[\"cytetype_leiden\"], normalize='index')\n"
   ]
  },
  {
   "cell_type": "code",
   "execution_count": 30,
   "id": "41b84c36",
   "metadata": {},
   "outputs": [
    {
     "data": {
      "image/png": "[encoded data removed]",
      "text/plain": [
       "<Figure size 1000x600 with 2 Axes>"
      ]
     },
     "metadata": {},
     "output_type": "display_data"
    }
   ],
   "source": [
    "# Create normalized confusion matrix\n",
    "conf_mat = pd.crosstab(\n",
    "    adata.obs[\"true_broad\"], \n",
    "    adata.obs[\"cytetype_leiden\"], \n",
    "    normalize='index'\n",
    ")\n",
    "\n",
    "# Plot with seaborn\n",
    "plt.figure(figsize=(10, 6))\n",
    "sns.heatmap(conf_mat, annot=True, cmap=\"Blues\", fmt=\".2f\", cbar=True)\n",
    "plt.title(\"CyteType vs Paul15 Broad Cell Type Mapping\")\n",
    "plt.ylabel(\"True Label (Paul15 Broad)\")\n",
    "plt.xlabel(\"Predicted Label (CyteType)\")\n",
    "plt.tight_layout()\n",
    "plt.show()"
   ]
  }
 ],
 "metadata": {
  "kernelspec": {
   "display_name": "Python 3",
   "language": "python",
   "name": "python3"
  },
  "language_info": {
   "codemirror_mode": {
    "name": "ipython",
    "version": 3
   },
   "file_extension": ".py",
   "mimetype": "text/x-python",
   "name": "python",
   "nbconvert_exporter": "python",
   "pygments_lexer": "ipython3",
   "version": "3.12.10"
  }
 },
 "nbformat": 4,
 "nbformat_minor": 5
}
