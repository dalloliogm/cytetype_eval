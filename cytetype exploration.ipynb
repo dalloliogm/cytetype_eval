{
 "cells": [
  {
   "cell_type": "code",
   "execution_count": 1,
   "id": "3743c932",
   "metadata": {},
   "outputs": [
    {
     "name": "stderr",
     "output_type": "stream",
     "text": [
      "ERROR: Ignored the following versions that require a different python version: 0.1.1 Requires-Python >=3.12; 0.1.2 Requires-Python >=3.12; 0.1.3 Requires-Python >=3.12; 0.1.4 Requires-Python >=3.12; 0.2.0 Requires-Python >=3.12; 0.2.1 Requires-Python >=3.12; 0.3.0 Requires-Python >=3.12; 0.3.1 Requires-Python >=3.12; 0.3.2 Requires-Python >=3.12; 0.3.3 Requires-Python >=3.12; 0.3.4 Requires-Python >=3.12; 0.3.5 Requires-Python >=3.12\n",
      "ERROR: Could not find a version that satisfies the requirement cytetype (from versions: none)\n",
      "ERROR: No matching distribution found for cytetype\n"
     ]
    }
   ],
   "source": [
    "!python -m pip install cytetype"
   ]
  }
 ],
 "metadata": {
  "kernelspec": {
   "display_name": "Python 3",
   "language": "python",
   "name": "python3"
  },
  "language_info": {
   "codemirror_mode": {
    "name": "ipython",
    "version": 3
   },
   "file_extension": ".py",
   "mimetype": "text/x-python",
   "name": "python",
   "nbconvert_exporter": "python",
   "pygments_lexer": "ipython3",
   "version": "3.11.11"
  }
 },
 "nbformat": 4,
 "nbformat_minor": 5
}
