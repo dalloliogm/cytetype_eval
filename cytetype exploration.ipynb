{
 "cells": [
  {
   "cell_type": "markdown",
   "id": "8b3a36c3",
   "metadata": {},
   "source": [
    "# Evaluation of CyteType\n",
    "\n",
    "CyteType is a tool for automatic curation of cell types in single cell, using an LLM Annotator Agent.\n",
    "\n",
    "In this notebook, I try the tool on a few datasets and compare it with other annotation tools."
   ]
  },
  {
   "cell_type": "markdown",
   "id": "7aeb740b",
   "metadata": {},
   "source": [
    "### Install Libraries"
   ]
  },
  {
   "cell_type": "code",
   "execution_count": 31,
   "id": "3743c932",
   "metadata": {},
   "outputs": [
    {
     "name": "stderr",
     "output_type": "stream",
     "text": [
      "\n",
      "[notice] A new release of pip is available: 25.0.1 -> 25.1.1\n",
      "[notice] To update, run: C:\\Users\\dallo\\AppData\\Local\\Microsoft\\WindowsApps\\PythonSoftwareFoundation.Python.3.12_qbz5n2kfra8p0\\python.exe -m pip install --upgrade pip\n"
     ]
    }
   ],
   "source": [
    "!python -m pip install -q cytetype scanpy"
   ]
  },
  {
   "cell_type": "code",
   "execution_count": 32,
   "id": "f52ea36a",
   "metadata": {},
   "outputs": [],
   "source": [
    "import anndata\n",
    "import scanpy as sc\n",
    "import cytetype\n",
    "import pandas as pd\n",
    "import seaborn as sns\n",
    "import matplotlib.pyplot as plt"
   ]
  },
  {
   "cell_type": "markdown",
   "id": "c1e74b79",
   "metadata": {},
   "source": [
    "## Initialize Paul15 dataset\n",
    "\n",
    "The Paul et al 2015 dataset is a small single-cell dataset of myeloid cells, available from scanpy. The Cell types have been manually annotated, meaning we can compare cytetype's predictions against the true values."
   ]
  },
  {
   "cell_type": "code",
   "execution_count": 33,
   "id": "93535096",
   "metadata": {},
   "outputs": [],
   "source": [
    "#adata = sc.datasets.paul15()\n"
   ]
  },
  {
   "cell_type": "code",
   "execution_count": 53,
   "id": "b3db6bcc",
   "metadata": {},
   "outputs": [],
   "source": [
    "import os\n",
    "import scanpy as sc\n",
    "\n",
    "if not os.path.exists(\"paul15_small.h5ad\"):\n",
    "    adata = sc.datasets.paul15()\n",
    "    adata.write(\"paul15_small.h5ad\")\n",
    "else:\n",
    "    adata = sc.read(\"paul15_small.h5ad\")\n"
   ]
  },
  {
   "cell_type": "markdown",
   "id": "c9d2828e",
   "metadata": {},
   "source": [
    "### Process the data - compute clusters, etc"
   ]
  },
  {
   "cell_type": "code",
   "execution_count": 54,
   "id": "0c5233da",
   "metadata": {},
   "outputs": [
    {
     "data": {
      "text/plain": [
       "W31105      7MEP\n",
       "W31106      15Mo\n",
       "W31107      3Ery\n",
       "W31108      15Mo\n",
       "W31109      3Ery\n",
       "           ...  \n",
       "W39164      2Ery\n",
       "W39165    13Baso\n",
       "W39166      7MEP\n",
       "W39167      15Mo\n",
       "W39168      3Ery\n",
       "Name: paul15_clusters, Length: 2730, dtype: category\n",
       "Categories (19, object): ['1Ery', '2Ery', '3Ery', '4Ery', ..., '16Neu', '17Neu', '18Eos', '19Lymph']"
      ]
     },
     "execution_count": 54,
     "metadata": {},
     "output_type": "execute_result"
    }
   ],
   "source": [
    "adata.obs[\"paul15_clusters\"]"
   ]
  },
  {
   "cell_type": "code",
   "execution_count": 56,
   "id": "77748c7c",
   "metadata": {},
   "outputs": [
    {
     "name": "stdout",
     "output_type": "stream",
     "text": [
      "WARNING: adata.X seems to be already log-transformed.\n"
     ]
    },
    {
     "name": "stdout",
     "output_type": "stream",
     "text": [
      "Calculating expression percentages.\n",
      "Extracting marker genes.\n",
      "Data preparation completed. Ready for submitting jobs.\n"
     ]
    }
   ],
   "source": [
    "\n",
    "# Load and preprocess your data\n",
    "adata.var[\"gene_symbols\"] = adata.var_names\n",
    "\n",
    "# We compute the clusters as suggested by the tutorial\n",
    "# However, this produces 10 clusters. We are going to use the 19 \n",
    "# clusters from the original paper, which are stored in the `paul15_clusters` column.\n",
    "sc.pp.normalize_total(adata, target_sum=1e4)\n",
    "sc.pp.log1p(adata)\n",
    "sc.pp.pca(adata)\n",
    "sc.pp.neighbors(adata)\n",
    "sc.tl.leiden(adata) \n",
    "sc.tl.rank_genes_groups(adata, groupby='paul15_clusters', method='t-test')\n",
    "\n",
    "# Initialize CyteType (performs data preparation)\n",
    "annotator = cytetype.CyteType(adata, group_key='paul15_clusters')\n",
    "\n"
   ]
  },
  {
   "cell_type": "code",
   "execution_count": 58,
   "id": "3e638c78",
   "metadata": {},
   "outputs": [
    {
     "data": {
      "text/html": [
       "<div>\n",
       "<style scoped>\n",
       "    .dataframe tbody tr th:only-of-type {\n",
       "        vertical-align: middle;\n",
       "    }\n",
       "\n",
       "    .dataframe tbody tr th {\n",
       "        vertical-align: top;\n",
       "    }\n",
       "\n",
       "    .dataframe thead th {\n",
       "        text-align: right;\n",
       "    }\n",
       "</style>\n",
       "<table border=\"1\" class=\"dataframe\">\n",
       "  <thead>\n",
       "    <tr style=\"text-align: right;\">\n",
       "      <th></th>\n",
       "      <th>paul15_clusters</th>\n",
       "      <th>leiden</th>\n",
       "    </tr>\n",
       "  </thead>\n",
       "  <tbody>\n",
       "    <tr>\n",
       "      <th>W31105</th>\n",
       "      <td>7MEP</td>\n",
       "      <td>4</td>\n",
       "    </tr>\n",
       "    <tr>\n",
       "      <th>W31106</th>\n",
       "      <td>15Mo</td>\n",
       "      <td>5</td>\n",
       "    </tr>\n",
       "    <tr>\n",
       "      <th>W31107</th>\n",
       "      <td>3Ery</td>\n",
       "      <td>6</td>\n",
       "    </tr>\n",
       "    <tr>\n",
       "      <th>W31108</th>\n",
       "      <td>15Mo</td>\n",
       "      <td>5</td>\n",
       "    </tr>\n",
       "    <tr>\n",
       "      <th>W31109</th>\n",
       "      <td>3Ery</td>\n",
       "      <td>6</td>\n",
       "    </tr>\n",
       "    <tr>\n",
       "      <th>...</th>\n",
       "      <td>...</td>\n",
       "      <td>...</td>\n",
       "    </tr>\n",
       "    <tr>\n",
       "      <th>W39164</th>\n",
       "      <td>2Ery</td>\n",
       "      <td>0</td>\n",
       "    </tr>\n",
       "    <tr>\n",
       "      <th>W39165</th>\n",
       "      <td>13Baso</td>\n",
       "      <td>5</td>\n",
       "    </tr>\n",
       "    <tr>\n",
       "      <th>W39166</th>\n",
       "      <td>7MEP</td>\n",
       "      <td>4</td>\n",
       "    </tr>\n",
       "    <tr>\n",
       "      <th>W39167</th>\n",
       "      <td>15Mo</td>\n",
       "      <td>2</td>\n",
       "    </tr>\n",
       "    <tr>\n",
       "      <th>W39168</th>\n",
       "      <td>3Ery</td>\n",
       "      <td>6</td>\n",
       "    </tr>\n",
       "  </tbody>\n",
       "</table>\n",
       "<p>2730 rows × 2 columns</p>\n",
       "</div>"
      ],
      "text/plain": [
       "       paul15_clusters leiden\n",
       "W31105            7MEP      4\n",
       "W31106            15Mo      5\n",
       "W31107            3Ery      6\n",
       "W31108            15Mo      5\n",
       "W31109            3Ery      6\n",
       "...                ...    ...\n",
       "W39164            2Ery      0\n",
       "W39165          13Baso      5\n",
       "W39166            7MEP      4\n",
       "W39167            15Mo      2\n",
       "W39168            3Ery      6\n",
       "\n",
       "[2730 rows x 2 columns]"
      ]
     },
     "execution_count": 58,
     "metadata": {},
     "output_type": "execute_result"
    }
   ],
   "source": [
    "adata.obs"
   ]
  },
  {
   "cell_type": "code",
   "execution_count": 59,
   "id": "3b3092a0",
   "metadata": {},
   "outputs": [
    {
     "name": "stdout",
     "output_type": "stream",
     "text": [
      "Number of clusters: 19\n"
     ]
    },
    {
     "data": {
      "text/plain": [
       "paul15_clusters\n",
       "1Ery        43\n",
       "2Ery       329\n",
       "3Ery       246\n",
       "4Ery       124\n",
       "5Ery       180\n",
       "6Ery       173\n",
       "7MEP       167\n",
       "8Mk         68\n",
       "9GMP        63\n",
       "10GMP      153\n",
       "11DC        30\n",
       "12Baso      69\n",
       "13Baso     300\n",
       "14Mo       373\n",
       "15Mo       186\n",
       "16Neu      164\n",
       "17Neu       22\n",
       "18Eos        9\n",
       "19Lymph     31\n",
       "Name: count, dtype: int64"
      ]
     },
     "execution_count": 59,
     "metadata": {},
     "output_type": "execute_result"
    }
   ],
   "source": [
    "# How many clusters are there?\n",
    "print(f\"Number of clusters: {len(adata.obs['paul15_clusters'].unique())}\")\n",
    "adata.obs['paul15_clusters'].value_counts().sort_index()\n"
   ]
  },
  {
   "cell_type": "code",
   "execution_count": 60,
   "id": "1f0f146a",
   "metadata": {},
   "outputs": [
    {
     "data": {
      "text/html": [
       "<div>\n",
       "<style scoped>\n",
       "    .dataframe tbody tr th:only-of-type {\n",
       "        vertical-align: middle;\n",
       "    }\n",
       "\n",
       "    .dataframe tbody tr th {\n",
       "        vertical-align: top;\n",
       "    }\n",
       "\n",
       "    .dataframe thead th {\n",
       "        text-align: right;\n",
       "    }\n",
       "</style>\n",
       "<table border=\"1\" class=\"dataframe\">\n",
       "  <thead>\n",
       "    <tr style=\"text-align: right;\">\n",
       "      <th></th>\n",
       "      <th>paul15_clusters</th>\n",
       "      <th>leiden</th>\n",
       "    </tr>\n",
       "  </thead>\n",
       "  <tbody>\n",
       "    <tr>\n",
       "      <th>W31105</th>\n",
       "      <td>7MEP</td>\n",
       "      <td>4</td>\n",
       "    </tr>\n",
       "    <tr>\n",
       "      <th>W31106</th>\n",
       "      <td>15Mo</td>\n",
       "      <td>5</td>\n",
       "    </tr>\n",
       "    <tr>\n",
       "      <th>W31107</th>\n",
       "      <td>3Ery</td>\n",
       "      <td>6</td>\n",
       "    </tr>\n",
       "    <tr>\n",
       "      <th>W31108</th>\n",
       "      <td>15Mo</td>\n",
       "      <td>5</td>\n",
       "    </tr>\n",
       "    <tr>\n",
       "      <th>W31109</th>\n",
       "      <td>3Ery</td>\n",
       "      <td>6</td>\n",
       "    </tr>\n",
       "    <tr>\n",
       "      <th>...</th>\n",
       "      <td>...</td>\n",
       "      <td>...</td>\n",
       "    </tr>\n",
       "    <tr>\n",
       "      <th>W39164</th>\n",
       "      <td>2Ery</td>\n",
       "      <td>0</td>\n",
       "    </tr>\n",
       "    <tr>\n",
       "      <th>W39165</th>\n",
       "      <td>13Baso</td>\n",
       "      <td>5</td>\n",
       "    </tr>\n",
       "    <tr>\n",
       "      <th>W39166</th>\n",
       "      <td>7MEP</td>\n",
       "      <td>4</td>\n",
       "    </tr>\n",
       "    <tr>\n",
       "      <th>W39167</th>\n",
       "      <td>15Mo</td>\n",
       "      <td>2</td>\n",
       "    </tr>\n",
       "    <tr>\n",
       "      <th>W39168</th>\n",
       "      <td>3Ery</td>\n",
       "      <td>6</td>\n",
       "    </tr>\n",
       "  </tbody>\n",
       "</table>\n",
       "<p>2730 rows × 2 columns</p>\n",
       "</div>"
      ],
      "text/plain": [
       "       paul15_clusters leiden\n",
       "W31105            7MEP      4\n",
       "W31106            15Mo      5\n",
       "W31107            3Ery      6\n",
       "W31108            15Mo      5\n",
       "W31109            3Ery      6\n",
       "...                ...    ...\n",
       "W39164            2Ery      0\n",
       "W39165          13Baso      5\n",
       "W39166            7MEP      4\n",
       "W39167            15Mo      2\n",
       "W39168            3Ery      6\n",
       "\n",
       "[2730 rows x 2 columns]"
      ]
     },
     "execution_count": 60,
     "metadata": {},
     "output_type": "execute_result"
    }
   ],
   "source": [
    "# Cluster annotation from original paper \n",
    "adata.obs\n"
   ]
  },
  {
   "cell_type": "markdown",
   "id": "e410f355",
   "metadata": {},
   "source": [
    "### Call the Agent! Run the annotation"
   ]
  },
  {
   "cell_type": "code",
   "execution_count": null,
   "id": "edabe29a",
   "metadata": {},
   "outputs": [
    {
     "name": "stdout",
     "output_type": "stream",
     "text": [
      "Waiting for results for job ID: 753cdc40-7312-41be-8358-fa09d8d7880d\n",
      "View the automatically updating visualization report at: https://nygen-labs-prod--cell-annotation-agent-fastapi-app.modal.run/report/753cdc40-7312-41be-8358-fa09d8d7880d\n"
     ]
    }
   ],
   "source": [
    "# Run annotation\n",
    "adata = annotator.run(\n",
    "    study_context=\"Mouse bone marrow cells undergoing myeloid differentiation\"\n",
    ")\n",
    "\n",
    "# View results\n",
    "#print(adata.obs.cytetype_leiden)"
   ]
  },
  {
   "cell_type": "markdown",
   "id": "83befa5b",
   "metadata": {},
   "source": [
    "### Compare annotation with existing one\n",
    "\n",
    "The original annotation are more granular than the ones from Cytetype, so we manually create a dictionary to make a comparison."
   ]
  },
  {
   "cell_type": "code",
   "execution_count": 39,
   "id": "1a089031",
   "metadata": {},
   "outputs": [
    {
     "name": "stdout",
     "output_type": "stream",
     "text": [
      "W31105                                   \n",
      "W31106    Granulocyte-Monocyte Progenitor\n",
      "W31107                     Erythroid cell\n",
      "W31108                         Neutrophil\n",
      "W31109                     Erythroid cell\n",
      "                       ...               \n",
      "W39164                       Erythroblast\n",
      "W39165                         Neutrophil\n",
      "W39166                                   \n",
      "W39167                         Neutrophil\n",
      "W39168                     Erythroid cell\n",
      "Name: cytetype_leiden, Length: 2730, dtype: category\n",
      "Categories (8, object): ['', 'Dendritic cell', 'Erythroblast', 'Erythroid cell', 'Granulocyte-Monocyte Progenitor', 'Myeloid progenitor cell', 'NK cell', 'Neutrophil']\n"
     ]
    }
   ],
   "source": [
    "print(adata.obs.cytetype_leiden)"
   ]
  },
  {
   "cell_type": "code",
   "execution_count": 40,
   "id": "cbc08091",
   "metadata": {},
   "outputs": [
    {
     "name": "stdout",
     "output_type": "stream",
     "text": [
      "W31105      7MEP\n",
      "W31106      15Mo\n",
      "W31107      3Ery\n",
      "W31108      15Mo\n",
      "W31109      3Ery\n",
      "           ...  \n",
      "W39164      2Ery\n",
      "W39165    13Baso\n",
      "W39166      7MEP\n",
      "W39167      15Mo\n",
      "W39168      3Ery\n",
      "Name: paul15_clusters, Length: 2730, dtype: category\n",
      "Categories (19, object): ['1Ery', '2Ery', '3Ery', '4Ery', ..., '16Neu', '17Neu', '18Eos', '19Lymph']\n"
     ]
    }
   ],
   "source": [
    "print(adata.obs.paul15_clusters)"
   ]
  },
  {
   "cell_type": "code",
   "execution_count": 41,
   "id": "2df79c08",
   "metadata": {},
   "outputs": [],
   "source": [
    "label_map = {\n",
    "    '1Ery': 'Erythroid lineage cell',\n",
    "    '2Ery': 'Erythroid lineage cell',\n",
    "    '3Ery': 'Erythroid lineage cell',\n",
    "    '4Ery': 'Erythroid lineage cell',\n",
    "    '5MEP': 'Hematopoietic progenitor cell',\n",
    "    '6MEP': 'Hematopoietic progenitor cell',\n",
    "    '7MEP': 'Hematopoietic progenitor cell',\n",
    "    '8GMP': 'Hematopoietic progenitor cell',\n",
    "    '9DC': 'Hematopoietic progenitor cell',\n",
    "    '10Baso': 'Hematopoietic progenitor cell',\n",
    "    '11Mo': 'Hematopoietic progenitor cell',\n",
    "    '12Mo': 'Hematopoietic progenitor cell',\n",
    "    '13Baso': 'Hematopoietic progenitor cell',\n",
    "    '14Mo': 'Hematopoietic progenitor cell',\n",
    "    '15Mo': 'Hematopoietic progenitor cell',\n",
    "    '16Neu': 'Neutrophil',\n",
    "    '17Neu': 'Neutrophil',\n",
    "    '18Eos': 'Hematopoietic progenitor cell',\n",
    "    '19Lymph': 'Natural killer cell'  # could be NK/T-cell; best-effort match\n",
    "}\n"
   ]
  },
  {
   "cell_type": "code",
   "execution_count": 42,
   "id": "fb65c71c",
   "metadata": {},
   "outputs": [
    {
     "data": {
      "text/html": [
       "<div>\n",
       "<style scoped>\n",
       "    .dataframe tbody tr th:only-of-type {\n",
       "        vertical-align: middle;\n",
       "    }\n",
       "\n",
       "    .dataframe tbody tr th {\n",
       "        vertical-align: top;\n",
       "    }\n",
       "\n",
       "    .dataframe thead th {\n",
       "        text-align: right;\n",
       "    }\n",
       "</style>\n",
       "<table border=\"1\" class=\"dataframe\">\n",
       "  <thead>\n",
       "    <tr style=\"text-align: right;\">\n",
       "      <th>cytetype_leiden</th>\n",
       "      <th></th>\n",
       "      <th>Erythroblast</th>\n",
       "      <th>Erythroid cell</th>\n",
       "      <th>Granulocyte-Monocyte Progenitor</th>\n",
       "      <th>Myeloid progenitor cell</th>\n",
       "      <th>NK cell</th>\n",
       "      <th>Neutrophil</th>\n",
       "    </tr>\n",
       "    <tr>\n",
       "      <th>true_broad</th>\n",
       "      <th></th>\n",
       "      <th></th>\n",
       "      <th></th>\n",
       "      <th></th>\n",
       "      <th></th>\n",
       "      <th></th>\n",
       "      <th></th>\n",
       "    </tr>\n",
       "  </thead>\n",
       "  <tbody>\n",
       "    <tr>\n",
       "      <th>Erythroid lineage cell</th>\n",
       "      <td>0.017520</td>\n",
       "      <td>0.45283</td>\n",
       "      <td>0.529650</td>\n",
       "      <td>0.000000</td>\n",
       "      <td>0.000000</td>\n",
       "      <td>0.000000</td>\n",
       "      <td>0.000000</td>\n",
       "    </tr>\n",
       "    <tr>\n",
       "      <th>Hematopoietic progenitor cell</th>\n",
       "      <td>0.159420</td>\n",
       "      <td>0.00000</td>\n",
       "      <td>0.004831</td>\n",
       "      <td>0.287923</td>\n",
       "      <td>0.088889</td>\n",
       "      <td>0.000000</td>\n",
       "      <td>0.458937</td>\n",
       "    </tr>\n",
       "    <tr>\n",
       "      <th>Natural killer cell</th>\n",
       "      <td>0.032258</td>\n",
       "      <td>0.00000</td>\n",
       "      <td>0.000000</td>\n",
       "      <td>0.000000</td>\n",
       "      <td>0.000000</td>\n",
       "      <td>0.967742</td>\n",
       "      <td>0.000000</td>\n",
       "    </tr>\n",
       "    <tr>\n",
       "      <th>Neutrophil</th>\n",
       "      <td>0.048387</td>\n",
       "      <td>0.00000</td>\n",
       "      <td>0.000000</td>\n",
       "      <td>0.059140</td>\n",
       "      <td>0.069892</td>\n",
       "      <td>0.000000</td>\n",
       "      <td>0.822581</td>\n",
       "    </tr>\n",
       "  </tbody>\n",
       "</table>\n",
       "</div>"
      ],
      "text/plain": [
       "cytetype_leiden                          Erythroblast  Erythroid cell  \\\n",
       "true_broad                                                              \n",
       "Erythroid lineage cell         0.017520       0.45283        0.529650   \n",
       "Hematopoietic progenitor cell  0.159420       0.00000        0.004831   \n",
       "Natural killer cell            0.032258       0.00000        0.000000   \n",
       "Neutrophil                     0.048387       0.00000        0.000000   \n",
       "\n",
       "cytetype_leiden                Granulocyte-Monocyte Progenitor  \\\n",
       "true_broad                                                       \n",
       "Erythroid lineage cell                                0.000000   \n",
       "Hematopoietic progenitor cell                         0.287923   \n",
       "Natural killer cell                                   0.000000   \n",
       "Neutrophil                                            0.059140   \n",
       "\n",
       "cytetype_leiden                Myeloid progenitor cell   NK cell  Neutrophil  \n",
       "true_broad                                                                    \n",
       "Erythroid lineage cell                        0.000000  0.000000    0.000000  \n",
       "Hematopoietic progenitor cell                 0.088889  0.000000    0.458937  \n",
       "Natural killer cell                           0.000000  0.967742    0.000000  \n",
       "Neutrophil                                    0.069892  0.000000    0.822581  "
      ]
     },
     "execution_count": 42,
     "metadata": {},
     "output_type": "execute_result"
    }
   ],
   "source": [
    "adata.obs[\"true_broad\"] = adata.obs[\"paul15_clusters\"].map(label_map)\n",
    "\n",
    "pd.crosstab(adata.obs[\"true_broad\"], adata.obs[\"cytetype_leiden\"], normalize='index')\n"
   ]
  },
  {
   "cell_type": "code",
   "execution_count": 43,
   "id": "41b84c36",
   "metadata": {},
   "outputs": [
    {
     "data": {
      "image/png": "[encoded data removed]",
      "text/plain": [
       "<Figure size 1000x600 with 2 Axes>"
      ]
     },
     "metadata": {},
     "output_type": "display_data"
    }
   ],
   "source": [
    "# Create normalized confusion matrix\n",
    "conf_mat = pd.crosstab(\n",
    "    adata.obs[\"true_broad\"], \n",
    "    adata.obs[\"cytetype_leiden\"], \n",
    "    normalize='index'\n",
    ")\n",
    "\n",
    "# Plot with seaborn\n",
    "plt.figure(figsize=(10, 6))\n",
    "sns.heatmap(conf_mat, annot=True, cmap=\"Blues\", fmt=\".2f\", cbar=True)\n",
    "plt.title(\"CyteType vs Paul15 Broad Cell Type Mapping\")\n",
    "plt.ylabel(\"True Label (Paul15 Broad)\")\n",
    "plt.xlabel(\"Predicted Label (CyteType)\")\n",
    "plt.tight_layout()\n",
    "plt.show()"
   ]
  },
  {
   "cell_type": "markdown",
   "id": "a797a3f0",
   "metadata": {},
   "source": [
    "## What if we give the wrong description?\n",
    "\n",
    "Let's give a wrong instruction to CyteType, for example by saying that this is a retina dataset in Zebrafish, to see if it still returns good results"
   ]
  },
  {
   "cell_type": "markdown",
   "id": "3dbf2caf",
   "metadata": {},
   "source": []
  },
  {
   "cell_type": "code",
   "execution_count": 45,
   "id": "b788d07e",
   "metadata": {},
   "outputs": [
    {
     "name": "stdout",
     "output_type": "stream",
     "text": [
      "Waiting for results for job ID: b65b1785-0a85-4541-bc40-8b065ba5d686\n",
      "View the automatically updating visualization report at: https://nygen-labs-prod--cell-annotation-agent-fastapi-app.modal.run/report/b65b1785-0a85-4541-bc40-8b065ba5d686\n",
      "250603:2051:06 |INFO| [STARTING WORKFLOWS]: Job ID: b65b1785-0a85-4541-bc40-8b065ba5d686\n",
      "250603:2051:06 |INFO| [WORKFLOW STEP 1/3]: Generating context summary\n",
      "250603:2051:22 |INFO| [WORKFLOW STEP 2/3]: Running cluster contextualization, annotation, review, and ontology assignment\n",
      "250603:2051:25 |INFO| [Cluster: 1] Generating cluster-specific context...\n",
      "250603:2051:27 |INFO| [Cluster: 10] Generating cluster-specific context...\n",
      "250603:2051:30 |INFO| [Cluster: 2] Generating cluster-specific context...\n",
      "250603:2051:32 |INFO| [Cluster: 3] Generating cluster-specific context...\n",
      "250603:2051:35 |INFO| [Cluster: 4] Generating cluster-specific context...\n",
      "250603:2051:41 |INFO| [Cluster: 1] Annotating cluster...\n",
      "250603:2051:44 |INFO| [Cluster: 2] Annotating cluster...\n",
      "250603:2051:49 |INFO| [Cluster: 3] Annotating cluster...\n",
      "250603:2051:58 |INFO| [Cluster: 10] Annotating cluster...\n",
      "250603:2052:12 |INFO| [Cluster: 4] Annotating cluster...\n",
      "250603:2052:16 |INFO| [Cluster: 2] Reviewing cluster annotation...\n",
      "250603:2052:50 |INFO| [Cluster: 2] ReAnnotating using reviewer feedback\n",
      "250603:2053:13 |INFO| [Cluster: 10] Reviewing cluster annotation...\n",
      "250603:2053:13 |INFO| [Cluster: 4] Reviewing cluster annotation...\n",
      "250603:2053:38 |INFO| [Cluster: 10] ReAnnotating using reviewer feedback\n",
      "250603:2053:46 |INFO| [Cluster: 4] ReAnnotating using reviewer feedback\n",
      "250603:2053:49 |INFO| [Cluster: 1] Reviewing cluster annotation...\n",
      "250603:2054:15 |INFO| [Cluster: 1] Finding ontology term for annotation...\n",
      "250603:2054:19 |INFO| [Cluster: 4] Reviewing cluster annotation...\n",
      "250603:2054:34 |INFO| [Cluster: 3] Reviewing cluster annotation...\n",
      "250603:2054:49 |INFO| [Cluster: 3] Finding ontology term for annotation...\n",
      "250603:2054:51 |SUCCESS| [Cluster: 1] Annotation (grok-3-mini-fast-latest) completed in 206.43s\n",
      "250603:2054:51 |INFO| [Cluster: 1] Saving partial result (1/10)\n",
      "250603:2054:57 |INFO| [Cluster: 5] Generating cluster-specific context...\n",
      "250603:2055:09 |INFO| [Cluster: 4] Finding ontology term for annotation...\n",
      "250603:2055:10 |SUCCESS| [Cluster: 3] Annotation (Qwen/Qwen3-235B-A22B) completed in 218.20s\n",
      "250603:2055:10 |INFO| [Cluster: 3] Saving partial result (2/10)\n",
      "250603:2055:18 |INFO| [Cluster: 6] Generating cluster-specific context...\n",
      "250603:2055:22 |SUCCESS| [Cluster: 4] Annotation (o4-mini-2025-04-16) completed in 227.15s\n",
      "250603:2055:22 |INFO| [Cluster: 4] Saving partial result (3/10)\n",
      "250603:2055:27 |INFO| [Cluster: 7] Generating cluster-specific context...\n",
      "250603:2055:27 |INFO| [Cluster: 5] Annotating cluster...\n",
      "250603:2055:31 |INFO| [Cluster: 6] Annotating cluster...\n",
      "250603:2056:10 |INFO| [Cluster: 7] Annotating cluster...\n",
      "250603:2056:11 |INFO| [Cluster: 6] Reviewing cluster annotation...\n",
      "250603:2056:30 |INFO| [Cluster: 6] ReAnnotating using reviewer feedback\n",
      "250603:2056:37 |INFO| [Cluster: 5] Reviewing cluster annotation...\n",
      "250603:2057:04 |INFO| [Cluster: 5] ReAnnotating using reviewer feedback\n",
      "250603:2057:53 |INFO| [Cluster: 6] Reviewing cluster annotation...\n",
      "250603:2057:57 |INFO| [Cluster: 2] Reviewing cluster annotation...\n",
      "250603:2058:16 |INFO| [Cluster: 10] Reviewing cluster annotation...\n",
      "250603:2058:20 |INFO| [Cluster: 6] Finding ontology term for annotation...\n",
      "250603:2058:33 |INFO| [Cluster: 10] Finding ontology term for annotation...\n",
      "250603:2058:38 |SUCCESS| [Cluster: 6] Annotation () completed in 200.06s\n",
      "250603:2058:38 |INFO| [Cluster: 6] Saving partial result (4/10)\n",
      "250603:2058:43 |INFO| [Cluster: 8] Generating cluster-specific context...\n",
      "250603:2058:49 |INFO| [Cluster: 8] Annotating cluster...\n",
      "250603:2058:55 |SUCCESS| [Cluster: 10] Annotation (grok-3-mini-fast-latest) completed in 447.56s\n",
      "250603:2058:55 |INFO| [Cluster: 10] Saving partial result (5/10)\n",
      "250603:2058:59 |INFO| [Cluster: 9] Generating cluster-specific context...\n",
      "250603:2059:17 |INFO| [Cluster: 7] Reviewing cluster annotation...\n",
      "250603:2059:17 |INFO| [Cluster: 9] Annotating cluster...\n",
      "250603:2059:32 |INFO| [Cluster: 7] Finding ontology term for annotation...\n",
      "250603:2059:39 |INFO| [Cluster: 8] Reviewing cluster annotation...\n",
      "250603:2059:40 |INFO| [Cluster: 2] Finding ontology term for annotation...\n",
      "250603:2059:53 |INFO| [Cluster: 8] ReAnnotating using reviewer feedback\n",
      "250603:2100:03 |INFO| [Cluster: 9] Reviewing cluster annotation...\n",
      "250603:2100:11 |SUCCESS| [Cluster: 2] Annotation (grok-3-mini-fast-latest) completed in 521.34s\n",
      "250603:2100:11 |INFO| [Cluster: 2] Saving partial result (6/10)\n",
      "250603:2100:19 |INFO| [Cluster: 9] Finding ontology term for annotation...\n",
      "250603:2100:32 |SUCCESS| [Cluster: 7] Annotation (Qwen/Qwen3-235B-A22B) completed in 304.47s\n",
      "250603:2100:32 |INFO| [Cluster: 7] Saving partial result (7/10)\n",
      "250603:2100:34 |SUCCESS| [Cluster: 9] Annotation () completed in 94.78s\n",
      "250603:2100:34 |INFO| [Cluster: 9] Saving partial result (8/10)\n",
      "250603:2103:02 |INFO| [Cluster: 8] Reviewing cluster annotation...\n",
      "250603:2103:47 |INFO| [Cluster: 8] Finding ontology term for annotation...\n",
      "250603:2103:59 |SUCCESS| [Cluster: 8] Annotation (Qwen/Qwen3-235B-A22B) completed in 315.86s\n",
      "250603:2103:59 |INFO| [Cluster: 8] Saving partial result (9/10)\n",
      "Job b65b1785-0a85-4541-bc40-8b065ba5d686 completed successfully.\n",
      "Annotations successfully added to `adata.obs['cytetype_leiden']` and `adata.uns['cytetype_results']`.\n"
     ]
    }
   ],
   "source": [
    "adata2 = annotator.run(\n",
    "    study_context=\"Zebrafish retina development during embryogenesis\"\n",
    ")\n"
   ]
  },
  {
   "cell_type": "code",
   "execution_count": 50,
   "id": "9b2df583",
   "metadata": {},
   "outputs": [
    {
     "data": {
      "text/html": [
       "<div>\n",
       "<style scoped>\n",
       "    .dataframe tbody tr th:only-of-type {\n",
       "        vertical-align: middle;\n",
       "    }\n",
       "\n",
       "    .dataframe tbody tr th {\n",
       "        vertical-align: top;\n",
       "    }\n",
       "\n",
       "    .dataframe thead th {\n",
       "        text-align: right;\n",
       "    }\n",
       "</style>\n",
       "<table border=\"1\" class=\"dataframe\">\n",
       "  <thead>\n",
       "    <tr style=\"text-align: right;\">\n",
       "      <th>cytetype_leiden</th>\n",
       "      <th></th>\n",
       "      <th>Erythroid cell</th>\n",
       "      <th>Myeloid cell</th>\n",
       "      <th>Neutrophil</th>\n",
       "    </tr>\n",
       "    <tr>\n",
       "      <th>true_broad</th>\n",
       "      <th></th>\n",
       "      <th></th>\n",
       "      <th></th>\n",
       "      <th></th>\n",
       "    </tr>\n",
       "  </thead>\n",
       "  <tbody>\n",
       "    <tr>\n",
       "      <th>Erythroid lineage cell</th>\n",
       "      <td>0.017520</td>\n",
       "      <td>0.982480</td>\n",
       "      <td>0.000000</td>\n",
       "      <td>0.000000</td>\n",
       "    </tr>\n",
       "    <tr>\n",
       "      <th>Hematopoietic progenitor cell</th>\n",
       "      <td>0.447343</td>\n",
       "      <td>0.004831</td>\n",
       "      <td>0.088889</td>\n",
       "      <td>0.458937</td>\n",
       "    </tr>\n",
       "    <tr>\n",
       "      <th>Natural killer cell</th>\n",
       "      <td>1.000000</td>\n",
       "      <td>0.000000</td>\n",
       "      <td>0.000000</td>\n",
       "      <td>0.000000</td>\n",
       "    </tr>\n",
       "    <tr>\n",
       "      <th>Neutrophil</th>\n",
       "      <td>0.107527</td>\n",
       "      <td>0.000000</td>\n",
       "      <td>0.069892</td>\n",
       "      <td>0.822581</td>\n",
       "    </tr>\n",
       "  </tbody>\n",
       "</table>\n",
       "</div>"
      ],
      "text/plain": [
       "cytetype_leiden                          Erythroid cell  Myeloid cell  \\\n",
       "true_broad                                                              \n",
       "Erythroid lineage cell         0.017520        0.982480      0.000000   \n",
       "Hematopoietic progenitor cell  0.447343        0.004831      0.088889   \n",
       "Natural killer cell            1.000000        0.000000      0.000000   \n",
       "Neutrophil                     0.107527        0.000000      0.069892   \n",
       "\n",
       "cytetype_leiden                Neutrophil  \n",
       "true_broad                                 \n",
       "Erythroid lineage cell           0.000000  \n",
       "Hematopoietic progenitor cell    0.458937  \n",
       "Natural killer cell              0.000000  \n",
       "Neutrophil                       0.822581  "
      ]
     },
     "execution_count": 50,
     "metadata": {},
     "output_type": "execute_result"
    }
   ],
   "source": [
    "adata2.obs[\"true_broad\"] = adata2.obs[\"paul15_clusters\"].map(label_map)\n",
    "\n",
    "pd.crosstab(adata2.obs[\"true_broad\"], adata2.obs[\"cytetype_leiden\"], normalize='index')\n"
   ]
  },
  {
   "cell_type": "code",
   "execution_count": 48,
   "id": "29e6f65b",
   "metadata": {},
   "outputs": [
    {
     "data": {
      "image/png": "[encoded data removed]",
      "text/plain": [
       "<Figure size 1000x600 with 2 Axes>"
      ]
     },
     "metadata": {},
     "output_type": "display_data"
    }
   ],
   "source": [
    "# Create normalized confusion matrix\n",
    "conf_mat = pd.crosstab(\n",
    "    adata2.obs[\"true_broad\"], \n",
    "    adata2.obs[\"cytetype_leiden\"], \n",
    "    normalize='index'\n",
    ")\n",
    "\n",
    "# Plot with seaborn\n",
    "plt.figure(figsize=(10, 6))\n",
    "sns.heatmap(conf_mat, annot=True, cmap=\"Blues\", fmt=\".2f\", cbar=True)\n",
    "plt.title(\"CyteType vs Paul15 Broad Cell Type Mapping\")\n",
    "plt.ylabel(\"True Label (Paul15 Broad)\")\n",
    "plt.xlabel(\"Predicted Label (CyteType)\")\n",
    "plt.tight_layout()\n",
    "plt.show()"
   ]
  },
  {
   "cell_type": "code",
   "execution_count": null,
   "id": "d27dd87a",
   "metadata": {},
   "outputs": [],
   "source": []
  },
  {
   "cell_type": "code",
   "execution_count": null,
   "id": "5ed7bcc5",
   "metadata": {},
   "outputs": [],
   "source": []
  }
 ],
 "metadata": {
  "kernelspec": {
   "display_name": "Python 3",
   "language": "python",
   "name": "python3"
  },
  "language_info": {
   "codemirror_mode": {
    "name": "ipython",
    "version": 3
   },
   "file_extension": ".py",
   "mimetype": "text/x-python",
   "name": "python",
   "nbconvert_exporter": "python",
   "pygments_lexer": "ipython3",
   "version": "3.12.10"
  }
 },
 "nbformat": 4,
 "nbformat_minor": 5
}
