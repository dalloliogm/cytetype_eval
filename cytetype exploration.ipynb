{
  "cells": [
    {
      "cell_type": "markdown",
      "id": "8b3a36c3",
      "metadata": {
        "id": "8b3a36c3"
      },
      "source": [
        "# Evaluation of CyteType\n",
        "\n",
        "CyteType is a tool for automatic curation of cell types in single cell, using an LLM Annotator Agent.\n",
        "\n",
        "In this notebook, I try the tool on a few datasets and compare it with other annotation tools."
      ]
    },
    {
      "cell_type": "markdown",
      "id": "7aeb740b",
      "metadata": {
        "id": "7aeb740b"
      },
      "source": [
        "### Install Libraries"
      ]
    },
    {
      "cell_type": "code",
      "execution_count": 1,
      "id": "3743c932",
      "metadata": {
        "id": "3743c932",
        "outputId": "b66aa03d-bb95-4ffc-c411-8ce56140e18c",
        "colab": {
          "base_uri": "https://localhost:8080/"
        }
      },
      "outputs": [
        {
          "output_type": "stream",
          "name": "stdout",
          "text": [
            "\u001b[?25l   \u001b[90m━━━━━━━━━━━━━━━━━━━━━━━━━━━━━━━━━━━━━━━━\u001b[0m \u001b[32m0.0/2.1 MB\u001b[0m \u001b[31m?\u001b[0m eta \u001b[36m-:--:--\u001b[0m\r\u001b[2K   \u001b[91m━━━━━━━━━━━━━━━━━━━━━━━━━━━━━━━━━━━━━━━\u001b[0m\u001b[91m╸\u001b[0m \u001b[32m2.1/2.1 MB\u001b[0m \u001b[31m113.0 MB/s\u001b[0m eta \u001b[36m0:00:01\u001b[0m\r\u001b[2K   \u001b[90m━━━━━━━━━━━━━━━━━━━━━━━━━━━━━━━━━━━━━━━━\u001b[0m \u001b[32m2.1/2.1 MB\u001b[0m \u001b[31m52.0 MB/s\u001b[0m eta \u001b[36m0:00:00\u001b[0m\n",
            "\u001b[?25h\u001b[?25l   \u001b[90m━━━━━━━━━━━━━━━━━━━━━━━━━━━━━━━━━━━━━━━━\u001b[0m \u001b[32m0.0/4.4 MB\u001b[0m \u001b[31m?\u001b[0m eta \u001b[36m-:--:--\u001b[0m\r\u001b[2K   \u001b[91m━━━━━━━━━━━━━━━━━━━━━━━━━━━━━━━━━━━━━━━\u001b[0m\u001b[91m╸\u001b[0m \u001b[32m4.4/4.4 MB\u001b[0m \u001b[31m124.1 MB/s\u001b[0m eta \u001b[36m0:00:01\u001b[0m\r\u001b[2K   \u001b[90m━━━━━━━━━━━━━━━━━━━━━━━━━━━━━━━━━━━━━━━━\u001b[0m \u001b[32m4.4/4.4 MB\u001b[0m \u001b[31m57.1 MB/s\u001b[0m eta \u001b[36m0:00:00\u001b[0m\n",
            "\u001b[2K   \u001b[90m━━━━━━━━━━━━━━━━━━━━━━━━━━━━━━━━━━━━━━━━\u001b[0m \u001b[32m144.5/144.5 kB\u001b[0m \u001b[31m8.9 MB/s\u001b[0m eta \u001b[36m0:00:00\u001b[0m\n",
            "\u001b[2K   \u001b[90m━━━━━━━━━━━━━━━━━━━━━━━━━━━━━━━━━━━━━━━━\u001b[0m \u001b[32m61.6/61.6 kB\u001b[0m \u001b[31m2.5 MB/s\u001b[0m eta \u001b[36m0:00:00\u001b[0m\n",
            "\u001b[2K   \u001b[90m━━━━━━━━━━━━━━━━━━━━━━━━━━━━━━━━━━━━━━━━\u001b[0m \u001b[32m58.2/58.2 kB\u001b[0m \u001b[31m3.0 MB/s\u001b[0m eta \u001b[36m0:00:00\u001b[0m\n",
            "\u001b[2K   \u001b[90m━━━━━━━━━━━━━━━━━━━━━━━━━━━━━━━━━━━━━━━━\u001b[0m \u001b[32m83.6/83.6 kB\u001b[0m \u001b[31m3.2 MB/s\u001b[0m eta \u001b[36m0:00:00\u001b[0m\n",
            "\u001b[?25h"
          ]
        }
      ],
      "source": [
        "!python -m pip install -q cytetype scanpy igraph"
      ]
    },
    {
      "cell_type": "code",
      "execution_count": 2,
      "id": "f52ea36a",
      "metadata": {
        "id": "f52ea36a"
      },
      "outputs": [],
      "source": [
        "import anndata\n",
        "import scanpy as sc\n",
        "import cytetype\n",
        "import pandas as pd\n",
        "import seaborn as sns\n",
        "import matplotlib.pyplot as plt"
      ]
    },
    {
      "cell_type": "markdown",
      "id": "c1e74b79",
      "metadata": {
        "id": "c1e74b79"
      },
      "source": [
        "## Initialize Paul15 dataset\n",
        "\n",
        "The Paul et al 2015 dataset is a small single-cell dataset of myeloid cells, available from scanpy. The Cell types have been manually annotated, meaning we can compare cytetype's predictions against the true values."
      ]
    },
    {
      "cell_type": "code",
      "execution_count": 3,
      "id": "93535096",
      "metadata": {
        "id": "93535096"
      },
      "outputs": [],
      "source": [
        "#adata = sc.datasets.paul15()\n"
      ]
    },
    {
      "cell_type": "code",
      "execution_count": 4,
      "id": "b3db6bcc",
      "metadata": {
        "id": "b3db6bcc",
        "outputId": "056b50b8-fe34-41ac-8bfa-6d8fb690f2ff",
        "colab": {
          "base_uri": "https://localhost:8080/",
          "height": 49,
          "referenced_widgets": [
            "6402dbf5f9e84460b4f098b259567c7d",
            "731b0589ec5b45df8b0966b444571d43",
            "c0a5f6de7dd24c82930b30ba1c177d2c",
            "39093038db434c12ac3077fc1bd02134",
            "465d9e1eddda47dba2e4342e17721b74",
            "1e6768755d2a4e15b273e9b60d01c90d",
            "c141048e430e4078bb775681571c4504",
            "0059a096b06c44898a76374a38bbeea4",
            "fa43a2a0870d4c74a1517c6ecbc7b481",
            "9166ce735f484eff904287525d3b9aaa",
            "f6f8ef0c0e084f4082f65aebae1b7deb"
          ]
        }
      },
      "outputs": [
        {
          "output_type": "display_data",
          "data": {
            "text/plain": [
              "  0%|          | 0.00/9.82M [00:00<?, ?B/s]"
            ],
            "application/vnd.jupyter.widget-view+json": {
              "version_major": 2,
              "version_minor": 0,
              "model_id": "6402dbf5f9e84460b4f098b259567c7d"
            }
          },
          "metadata": {}
        }
      ],
      "source": [
        "import os\n",
        "import scanpy as sc\n",
        "\n",
        "if not os.path.exists(\"paul15_small.h5ad\"):\n",
        "    adata = sc.datasets.paul15()\n",
        "    adata.write(\"paul15_small.h5ad\")\n",
        "else:\n",
        "    adata = sc.read(\"paul15_small.h5ad\")\n"
      ]
    },
    {
      "cell_type": "markdown",
      "id": "c9d2828e",
      "metadata": {
        "id": "c9d2828e"
      },
      "source": [
        "### Process the data - compute clusters, etc"
      ]
    },
    {
      "cell_type": "code",
      "execution_count": 5,
      "id": "0c5233da",
      "metadata": {
        "id": "0c5233da",
        "outputId": "5edb747a-244b-4813-8ccf-2fc51db85fd2",
        "colab": {
          "base_uri": "https://localhost:8080/",
          "height": 458
        }
      },
      "outputs": [
        {
          "output_type": "execute_result",
          "data": {
            "text/plain": [
              "W31105      7MEP\n",
              "W31106      15Mo\n",
              "W31107      3Ery\n",
              "W31108      15Mo\n",
              "W31109      3Ery\n",
              "           ...  \n",
              "W39164      2Ery\n",
              "W39165    13Baso\n",
              "W39166      7MEP\n",
              "W39167      15Mo\n",
              "W39168      3Ery\n",
              "Name: paul15_clusters, Length: 2730, dtype: category\n",
              "Categories (19, object): ['1Ery', '2Ery', '3Ery', '4Ery', ..., '16Neu', '17Neu', '18Eos', '19Lymph']"
            ],
            "text/html": [
              "<div>\n",
              "<style scoped>\n",
              "    .dataframe tbody tr th:only-of-type {\n",
              "        vertical-align: middle;\n",
              "    }\n",
              "\n",
              "    .dataframe tbody tr th {\n",
              "        vertical-align: top;\n",
              "    }\n",
              "\n",
              "    .dataframe thead th {\n",
              "        text-align: right;\n",
              "    }\n",
              "</style>\n",
              "<table border=\"1\" class=\"dataframe\">\n",
              "  <thead>\n",
              "    <tr style=\"text-align: right;\">\n",
              "      <th></th>\n",
              "      <th>paul15_clusters</th>\n",
              "    </tr>\n",
              "  </thead>\n",
              "  <tbody>\n",
              "    <tr>\n",
              "      <th>W31105</th>\n",
              "      <td>7MEP</td>\n",
              "    </tr>\n",
              "    <tr>\n",
              "      <th>W31106</th>\n",
              "      <td>15Mo</td>\n",
              "    </tr>\n",
              "    <tr>\n",
              "      <th>W31107</th>\n",
              "      <td>3Ery</td>\n",
              "    </tr>\n",
              "    <tr>\n",
              "      <th>W31108</th>\n",
              "      <td>15Mo</td>\n",
              "    </tr>\n",
              "    <tr>\n",
              "      <th>W31109</th>\n",
              "      <td>3Ery</td>\n",
              "    </tr>\n",
              "    <tr>\n",
              "      <th>...</th>\n",
              "      <td>...</td>\n",
              "    </tr>\n",
              "    <tr>\n",
              "      <th>W39164</th>\n",
              "      <td>2Ery</td>\n",
              "    </tr>\n",
              "    <tr>\n",
              "      <th>W39165</th>\n",
              "      <td>13Baso</td>\n",
              "    </tr>\n",
              "    <tr>\n",
              "      <th>W39166</th>\n",
              "      <td>7MEP</td>\n",
              "    </tr>\n",
              "    <tr>\n",
              "      <th>W39167</th>\n",
              "      <td>15Mo</td>\n",
              "    </tr>\n",
              "    <tr>\n",
              "      <th>W39168</th>\n",
              "      <td>3Ery</td>\n",
              "    </tr>\n",
              "  </tbody>\n",
              "</table>\n",
              "<p>2730 rows × 1 columns</p>\n",
              "</div><br><label><b>dtype:</b> category</label>"
            ]
          },
          "metadata": {},
          "execution_count": 5
        }
      ],
      "source": [
        "adata.obs[\"paul15_clusters\"]"
      ]
    },
    {
      "cell_type": "code",
      "execution_count": null,
      "id": "77748c7c",
      "metadata": {
        "id": "77748c7c"
      },
      "outputs": [],
      "source": [
        "\n",
        "# Load and preprocess your data\n",
        "adata.var[\"gene_symbols\"] = adata.var_names\n",
        "\n",
        "# We compute the clusters as suggested by the tutorial\n",
        "# However, this produces 10 clusters. We are going to use the 19\n",
        "# clusters from the original paper, which are stored in the `paul15_clusters` column.\n",
        "sc.pp.normalize_total(adata, target_sum=1e4)\n",
        "sc.pp.log1p(adata)\n",
        "sc.pp.pca(adata)\n",
        "sc.pp.neighbors(adata)\n",
        "sc.tl.leiden(adata)\n",
        "sc.tl.rank_genes_groups(adata, groupby='paul15_clusters', method='t-test')\n",
        "\n",
        "# Initialize CyteType (performs data preparation)\n",
        "annotator = cytetype.CyteType(\n",
        "    adata,\n",
        "    group_key='paul15_clusters',           # Required: cluster column name\n",
        "    rank_key='rank_genes_groups',          # DE results key (default)\n",
        "    gene_symbols_column='gene_symbols',    # Gene symbols column (default)\n",
        "    n_top_genes=50,                        # Top marker genes per cluster\n",
        "    results_prefix='cytetype'              # Prefix for result columns\n",
        ")"
      ]
    },
    {
      "cell_type": "code",
      "execution_count": null,
      "id": "3e638c78",
      "metadata": {
        "id": "3e638c78"
      },
      "outputs": [],
      "source": [
        "adata.obs"
      ]
    },
    {
      "cell_type": "code",
      "execution_count": null,
      "id": "3b3092a0",
      "metadata": {
        "id": "3b3092a0"
      },
      "outputs": [],
      "source": [
        "# How many clusters are there?\n",
        "print(f\"Number of clusters: {len(adata.obs['paul15_clusters'].unique())}\")\n",
        "adata.obs['paul15_clusters'].value_counts().sort_index()\n"
      ]
    },
    {
      "cell_type": "code",
      "execution_count": null,
      "id": "1f0f146a",
      "metadata": {
        "id": "1f0f146a"
      },
      "outputs": [],
      "source": [
        "# Cluster annotation from original paper\n",
        "adata.obs\n"
      ]
    },
    {
      "cell_type": "markdown",
      "id": "e410f355",
      "metadata": {
        "id": "e410f355"
      },
      "source": [
        "### Call the Agent! Run the annotation"
      ]
    },
    {
      "cell_type": "code",
      "execution_count": null,
      "id": "edabe29a",
      "metadata": {
        "id": "edabe29a"
      },
      "outputs": [],
      "source": [
        "# Run annotation\n",
        "adata = annotator.run(\n",
        "    study_context=\"Mouse bone marrow cells undergoing myeloid differentiation\"\n",
        ")\n",
        "\n",
        "# View results\n",
        "#print(adata.obs.cytetype_leiden)"
      ]
    },
    {
      "cell_type": "markdown",
      "id": "83befa5b",
      "metadata": {
        "id": "83befa5b"
      },
      "source": [
        "### Compare annotation with existing one\n",
        "\n",
        "The original annotation are more granular than the ones from Cytetype, so we manually create a dictionary to make a comparison."
      ]
    },
    {
      "cell_type": "code",
      "execution_count": null,
      "id": "1a089031",
      "metadata": {
        "id": "1a089031"
      },
      "outputs": [],
      "source": [
        "print(adata.obs.cytetype_paul15_clusters.unique().to_list())"
      ]
    },
    {
      "cell_type": "code",
      "execution_count": null,
      "id": "cbc08091",
      "metadata": {
        "id": "cbc08091"
      },
      "outputs": [],
      "source": [
        "print(adata.obs.paul15_clusters.unique().to_list())"
      ]
    },
    {
      "cell_type": "code",
      "execution_count": null,
      "id": "2df79c08",
      "metadata": {
        "id": "2df79c08"
      },
      "outputs": [],
      "source": [
        "label_map = {\n",
        "    '1Ery': 'Erythroblast',\n",
        "    '2Ery': 'Erythroid precursor',\n",
        "    '3Ery': 'Erythroblast',\n",
        "    '4Ery': 'Erythroid precursor',\n",
        "    '5Ery': 'Erythroid cell',\n",
        "    '6Ery': 'Erythroid progenitor',\n",
        "\n",
        "    '7MEP': 'Myeloid progenitor cell',\n",
        "    '8Mk': 'Megakaryocyte',\n",
        "    '9GMP': 'Hematopoietic progenitor cell',\n",
        "    '10GMP': 'Hematopoietic progenitor cell',\n",
        "\n",
        "    '11DC': 'Antigen-presenting myeloid cell',\n",
        "    '12Baso': 'Mast cell',\n",
        "    '13Baso': 'Mast cell',\n",
        "\n",
        "    '14Mo': 'Neutrophil promyelocyte',\n",
        "    '15Mo': 'Neutrophil promyelocyte',\n",
        "\n",
        "    '16Neu': 'Neutrophil',\n",
        "    '17Neu': 'Neutrophil',\n",
        "\n",
        "    '18Eos': 'Eosinophil',\n",
        "    '19Lymph': 'Natural Killer (NK) cell'\n",
        "}\n"
      ]
    },
    {
      "cell_type": "code",
      "execution_count": null,
      "id": "89678451",
      "metadata": {
        "id": "89678451"
      },
      "outputs": [],
      "source": [
        "adata.obs"
      ]
    },
    {
      "cell_type": "code",
      "execution_count": null,
      "id": "fb65c71c",
      "metadata": {
        "id": "fb65c71c"
      },
      "outputs": [],
      "source": [
        "adata.obs[\"true_broad\"] = adata.obs[\"paul15_clusters\"].map(label_map)\n",
        "\n",
        "conf_mat = pd.crosstab(adata.obs[\"true_broad\"], adata.obs[\"cytetype_paul15_clusters\"], normalize='index')\n",
        "conf_mat"
      ]
    },
    {
      "cell_type": "code",
      "execution_count": null,
      "id": "41b84c36",
      "metadata": {
        "id": "41b84c36"
      },
      "outputs": [],
      "source": [
        "# Plot Confusion matrix\n",
        "plt.figure(figsize=(10, 6))\n",
        "sns.heatmap(conf_mat, annot=True, cmap=\"Blues\", fmt=\".2f\", cbar=True)\n",
        "plt.title(\"CyteType vs Paul15 Broad Cell Type Mapping\")\n",
        "plt.ylabel(\"True Label (Paul15 Broad)\")\n",
        "plt.xlabel(\"Predicted Label (CyteType)\")\n",
        "plt.tight_layout()\n",
        "plt.show()"
      ]
    },
    {
      "cell_type": "markdown",
      "id": "44bbf14e",
      "metadata": {
        "id": "44bbf14e"
      },
      "source": [
        "## Repeating the confusion matrix, using the original labels\n",
        "\n",
        "\n",
        "In the code above we had to manually match the Paul 15 labels with the ones generated by cytetype. Here we use the original lables, although we expand them to make it more readable, and we keep the original values.\n"
      ]
    },
    {
      "cell_type": "code",
      "execution_count": null,
      "id": "73a1e879",
      "metadata": {
        "id": "73a1e879"
      },
      "outputs": [],
      "source": [
        "import pandas as pd\n",
        "\n",
        "# Step 1: Mapping from cluster ID to full name\n",
        "paul15_label_fullname = {\n",
        "    '1Ery': '1Ery - Early erythroid progenitors',\n",
        "    '2Ery': '2Ery - Intermediate erythroid stage',\n",
        "    '3Ery': '3Ery - Late erythroid / erythroblast',\n",
        "    '4Ery': '4Ery - Terminally differentiating erythrocytes',\n",
        "    '5MEP': '5MEP - Megakaryocyte-Erythroid Progenitor',\n",
        "    '6MEP': '6MEP - Megakaryocyte-Erythroid Progenitor (more mature)',\n",
        "    '7MEP': '7MEP - Megakaryocyte-Erythroid Progenitor (late stage)',\n",
        "    '8GMP': '8GMP Granulocyte–monocyte progenitor',\n",
        "    '9DC':  '9DC - Dendritic cell progenitors',\n",
        "    '10Baso': '10Baso - Basophil progenitors',\n",
        "    '11Mo': '11Mo - Monocyte progenitors',\n",
        "    '12Mo': '12Mo - Differentiated monocyte progenitors',\n",
        "    '13Baso': '13Baso - Mature basophil progenitors',\n",
        "    '14Mo': '14Mo - Late-stage monocytes',\n",
        "    '15Mo': '15Mo - Mature monocytes',\n",
        "    '16Neu': '16Neu - Neutrophil progenitors',\n",
        "    '17Neu': '17Neu - Late-stage neutrophils',\n",
        "    '18Eos': '18Eos - Eosinophil progenitors',\n",
        "    '19Lymph': '19Lymph - Lymphoid-like cells (NK/T precursors or contaminants)',\n",
        "}\n",
        "\n",
        "# Step 2: Map full names into obs\n",
        "adata.obs[\"paul15_fullname\"] = adata.obs[\"paul15_clusters\"].map(paul15_label_fullname)\n",
        "adata.obs.head()\n"
      ]
    },
    {
      "cell_type": "code",
      "execution_count": null,
      "id": "bfb3926e",
      "metadata": {
        "id": "bfb3926e"
      },
      "outputs": [],
      "source": [
        "adata.obs.cytetype_paul15_clusters.value_counts()"
      ]
    },
    {
      "cell_type": "code",
      "execution_count": null,
      "id": "32386375",
      "metadata": {
        "id": "32386375"
      },
      "outputs": [],
      "source": [
        "\n",
        "# Step 3: Define full-name order\n",
        "manual_order_full = list(paul15_label_fullname.values())\n",
        "\n",
        "\n",
        "# Step 4: Create and reorder confusion matrix\n",
        "conf_mat_full = pd.crosstab(\n",
        "    adata.obs[\"paul15_fullname\"],\n",
        "    adata.obs[\"cytetype_paul15_clusters\"],\n",
        "    normalize='index'\n",
        ")\n",
        "# Only keep labels that exist in the confusion matrix\n",
        "existing_labels = [label for label in manual_order_full if label in conf_mat_full.index]\n",
        "\n",
        "# Reorder based on existing labels only\n",
        "conf_mat_ordered = conf_mat_full.loc[existing_labels]\n",
        "\n",
        "# Optional: reorder columns if matching set\n",
        "if all(label in conf_mat_ordered.columns for label in manual_order_full):\n",
        "    conf_mat_ordered = conf_mat_ordered[manual_order_full]"
      ]
    },
    {
      "cell_type": "code",
      "execution_count": null,
      "id": "b1553429",
      "metadata": {
        "id": "b1553429"
      },
      "outputs": [],
      "source": [
        "import seaborn as sns\n",
        "import matplotlib.pyplot as plt\n",
        "\n",
        "plt.figure(figsize=(12, 10))\n",
        "sns.heatmap(conf_mat_ordered, annot=True, fmt=\".2f\", cmap=\"Blues\", cbar=True)\n",
        "\n",
        "plt.title(\"Confusion Matrix (Original Cluster Names, Ordered by Manual Mapping)\")\n",
        "plt.xlabel(\"Predicted Label\")\n",
        "plt.ylabel(\"Original Cluster\")\n",
        "plt.xticks(rotation=90)\n",
        "plt.yticks(rotation=0)\n",
        "plt.tight_layout()\n",
        "plt.show()\n"
      ]
    },
    {
      "cell_type": "code",
      "execution_count": null,
      "id": "974e4433",
      "metadata": {
        "id": "974e4433"
      },
      "outputs": [],
      "source": [
        "adata.obs.cytetype_paul15_clusters.value_counts()"
      ]
    },
    {
      "cell_type": "markdown",
      "id": "a797a3f0",
      "metadata": {
        "id": "a797a3f0"
      },
      "source": [
        "## What if we give the wrong description?\n",
        "\n",
        "Let's give a wrong instruction to CyteType, for example by saying that this is a retina dataset in Zebrafish, to see if it still returns good results"
      ]
    },
    {
      "cell_type": "markdown",
      "id": "3dbf2caf",
      "metadata": {
        "id": "3dbf2caf"
      },
      "source": []
    },
    {
      "cell_type": "code",
      "execution_count": null,
      "id": "97b86b95",
      "metadata": {
        "id": "97b86b95"
      },
      "outputs": [],
      "source": [
        "adata2 = adata.copy()\n",
        "# Initialize CyteType (performs data preparation)\n",
        "annotator = cytetype.CyteType(\n",
        "    adata2,\n",
        "    group_key='paul15_clusters',\n",
        "    rank_key='rank_genes_groups',\n",
        "    gene_symbols_column='gene_symbols',\n",
        "    n_top_genes=50,\n",
        "    results_prefix='cytetype'\n",
        ")"
      ]
    },
    {
      "cell_type": "code",
      "execution_count": null,
      "id": "b788d07e",
      "metadata": {
        "id": "b788d07e"
      },
      "outputs": [],
      "source": [
        "adata2 = annotator.run(\n",
        "    study_context=\"Zebrafish retina development during embryogenesis\"\n",
        ")\n"
      ]
    },
    {
      "cell_type": "code",
      "execution_count": null,
      "id": "9b2df583",
      "metadata": {
        "id": "9b2df583"
      },
      "outputs": [],
      "source": [
        "adata2.obs[\"true_broad\"] = adata2.obs[\"paul15_clusters\"].map(label_map)\n",
        "\n",
        "pd.crosstab(adata2.obs[\"true_broad\"], adata2.obs[\"cytetype_paul15_clusters\"], normalize='index')\n"
      ]
    },
    {
      "cell_type": "code",
      "execution_count": null,
      "id": "0a7e3aa2",
      "metadata": {
        "id": "0a7e3aa2"
      },
      "outputs": [],
      "source": [
        "adata2.obs[\"paul15_fullname\"] = adata2.obs[\"paul15_clusters\"].map(paul15_label_fullname)\n"
      ]
    },
    {
      "cell_type": "code",
      "execution_count": null,
      "id": "29e6f65b",
      "metadata": {
        "id": "29e6f65b"
      },
      "outputs": [],
      "source": [
        "# Create normalized confusion matrix\n",
        "conf_mat = pd.crosstab(\n",
        "    adata2.obs[\"true_broad\"],\n",
        "    adata2.obs[\"cytetype_paul15_clusters\"],\n",
        "    normalize='index'\n",
        ")\n",
        "\n",
        "# Plot with seaborn\n",
        "plt.figure(figsize=(10, 6))\n",
        "sns.heatmap(conf_mat, annot=True, cmap=\"Blues\", fmt=\".2f\", cbar=True)\n",
        "plt.title(\"CyteType vs Paul15 Broad Cell Type Mapping\")\n",
        "plt.ylabel(\"True Label (Paul15 Broad)\")\n",
        "plt.xlabel(\"Predicted Label (CyteType)\")\n",
        "plt.tight_layout()\n",
        "plt.show()"
      ]
    },
    {
      "cell_type": "code",
      "execution_count": null,
      "id": "d27dd87a",
      "metadata": {
        "id": "d27dd87a"
      },
      "outputs": [],
      "source": [
        "# Let's also look at the Confusion matrix with the original cluster names\n",
        "conf_mat_original = pd.crosstab(adata2.obs[\"paul15_clusters\"], adata2.obs[\"cytetype_paul15_clusters\"], normalize='index')\n",
        "conf_mat_original\n",
        "\n",
        "\n",
        "\n",
        "# Step 3: Define full-name order\n",
        "manual_order_full = list(paul15_label_fullname.values())\n",
        "\n",
        "\n",
        "# Step 4: Create and reorder confusion matrix\n",
        "conf_mat_full = pd.crosstab(\n",
        "    adata2.obs[\"paul15_fullname\"],\n",
        "    adata2.obs[\"cytetype_paul15_clusters\"],\n",
        "    normalize='index'\n",
        ")\n",
        "# Only keep labels that exist in the confusion matrix\n",
        "existing_labels = [label for label in manual_order_full if label in conf_mat_full.index]\n",
        "\n",
        "# Reorder based on existing labels only\n",
        "conf_mat_ordered = conf_mat_full.loc[existing_labels]\n",
        "\n",
        "# Optional: reorder columns if matching set\n",
        "if all(label in conf_mat_ordered.columns for label in manual_order_full):\n",
        "    conf_mat_ordered = conf_mat_ordered[manual_order_full]"
      ]
    },
    {
      "cell_type": "code",
      "execution_count": null,
      "id": "5ed7bcc5",
      "metadata": {
        "id": "5ed7bcc5"
      },
      "outputs": [],
      "source": [
        "import seaborn as sns\n",
        "import matplotlib.pyplot as plt\n",
        "\n",
        "plt.figure(figsize=(12, 10))\n",
        "sns.heatmap(conf_mat_ordered, annot=True, fmt=\".2f\", cmap=\"Blues\", cbar=True)\n",
        "\n",
        "plt.title(\"Confusion Matrix (Original Cluster Names, Ordered by Manual Mapping) - using a wrong study context\")\n",
        "plt.xlabel(\"Predicted Label\")\n",
        "plt.ylabel(\"Original Cluster\")\n",
        "plt.xticks(rotation=90)\n",
        "plt.yticks(rotation=0)\n",
        "plt.tight_layout()\n",
        "plt.show()\n"
      ]
    }
  ],
  "metadata": {
    "kernelspec": {
      "display_name": "Python 3",
      "language": "python",
      "name": "python3"
    },
    "language_info": {
      "codemirror_mode": {
        "name": "ipython",
        "version": 3
      },
      "file_extension": ".py",
      "mimetype": "text/x-python",
      "name": "python",
      "nbconvert_exporter": "python",
      "pygments_lexer": "ipython3",
      "version": "3.12.10"
    },
    "colab": {
      "provenance": []
    },
    "widgets": {
      "application/vnd.jupyter.widget-state+json": {
        "6402dbf5f9e84460b4f098b259567c7d": {
          "model_module": "@jupyter-widgets/controls",
          "model_name": "HBoxModel",
          "model_module_version": "1.5.0",
          "state": {
            "_dom_classes": [],
            "_model_module": "@jupyter-widgets/controls",
            "_model_module_version": "1.5.0",
            "_model_name": "HBoxModel",
            "_view_count": null,
            "_view_module": "@jupyter-widgets/controls",
            "_view_module_version": "1.5.0",
            "_view_name": "HBoxView",
            "box_style": "",
            "children": [
              "IPY_MODEL_731b0589ec5b45df8b0966b444571d43",
              "IPY_MODEL_c0a5f6de7dd24c82930b30ba1c177d2c",
              "IPY_MODEL_39093038db434c12ac3077fc1bd02134"
            ],
            "layout": "IPY_MODEL_465d9e1eddda47dba2e4342e17721b74"
          }
        },
        "731b0589ec5b45df8b0966b444571d43": {
          "model_module": "@jupyter-widgets/controls",
          "model_name": "HTMLModel",
          "model_module_version": "1.5.0",
          "state": {
            "_dom_classes": [],
            "_model_module": "@jupyter-widgets/controls",
            "_model_module_version": "1.5.0",
            "_model_name": "HTMLModel",
            "_view_count": null,
            "_view_module": "@jupyter-widgets/controls",
            "_view_module_version": "1.5.0",
            "_view_name": "HTMLView",
            "description": "",
            "description_tooltip": null,
            "layout": "IPY_MODEL_1e6768755d2a4e15b273e9b60d01c90d",
            "placeholder": "​",
            "style": "IPY_MODEL_c141048e430e4078bb775681571c4504",
            "value": "100%"
          }
        },
        "c0a5f6de7dd24c82930b30ba1c177d2c": {
          "model_module": "@jupyter-widgets/controls",
          "model_name": "FloatProgressModel",
          "model_module_version": "1.5.0",
          "state": {
            "_dom_classes": [],
            "_model_module": "@jupyter-widgets/controls",
            "_model_module_version": "1.5.0",
            "_model_name": "FloatProgressModel",
            "_view_count": null,
            "_view_module": "@jupyter-widgets/controls",
            "_view_module_version": "1.5.0",
            "_view_name": "ProgressView",
            "bar_style": "success",
            "description": "",
            "description_tooltip": null,
            "layout": "IPY_MODEL_0059a096b06c44898a76374a38bbeea4",
            "max": 10297693,
            "min": 0,
            "orientation": "horizontal",
            "style": "IPY_MODEL_fa43a2a0870d4c74a1517c6ecbc7b481",
            "value": 10297693
          }
        },
        "39093038db434c12ac3077fc1bd02134": {
          "model_module": "@jupyter-widgets/controls",
          "model_name": "HTMLModel",
          "model_module_version": "1.5.0",
          "state": {
            "_dom_classes": [],
            "_model_module": "@jupyter-widgets/controls",
            "_model_module_version": "1.5.0",
            "_model_name": "HTMLModel",
            "_view_count": null,
            "_view_module": "@jupyter-widgets/controls",
            "_view_module_version": "1.5.0",
            "_view_name": "HTMLView",
            "description": "",
            "description_tooltip": null,
            "layout": "IPY_MODEL_9166ce735f484eff904287525d3b9aaa",
            "placeholder": "​",
            "style": "IPY_MODEL_f6f8ef0c0e084f4082f65aebae1b7deb",
            "value": " 9.82M/9.82M [00:01&lt;00:00, 17.1MB/s]"
          }
        },
        "465d9e1eddda47dba2e4342e17721b74": {
          "model_module": "@jupyter-widgets/base",
          "model_name": "LayoutModel",
          "model_module_version": "1.2.0",
          "state": {
            "_model_module": "@jupyter-widgets/base",
            "_model_module_version": "1.2.0",
            "_model_name": "LayoutModel",
            "_view_count": null,
            "_view_module": "@jupyter-widgets/base",
            "_view_module_version": "1.2.0",
            "_view_name": "LayoutView",
            "align_content": null,
            "align_items": null,
            "align_self": null,
            "border": null,
            "bottom": null,
            "display": null,
            "flex": null,
            "flex_flow": null,
            "grid_area": null,
            "grid_auto_columns": null,
            "grid_auto_flow": null,
            "grid_auto_rows": null,
            "grid_column": null,
            "grid_gap": null,
            "grid_row": null,
            "grid_template_areas": null,
            "grid_template_columns": null,
            "grid_template_rows": null,
            "height": null,
            "justify_content": null,
            "justify_items": null,
            "left": null,
            "margin": null,
            "max_height": null,
            "max_width": null,
            "min_height": null,
            "min_width": null,
            "object_fit": null,
            "object_position": null,
            "order": null,
            "overflow": null,
            "overflow_x": null,
            "overflow_y": null,
            "padding": null,
            "right": null,
            "top": null,
            "visibility": null,
            "width": null
          }
        },
        "1e6768755d2a4e15b273e9b60d01c90d": {
          "model_module": "@jupyter-widgets/base",
          "model_name": "LayoutModel",
          "model_module_version": "1.2.0",
          "state": {
            "_model_module": "@jupyter-widgets/base",
            "_model_module_version": "1.2.0",
            "_model_name": "LayoutModel",
            "_view_count": null,
            "_view_module": "@jupyter-widgets/base",
            "_view_module_version": "1.2.0",
            "_view_name": "LayoutView",
            "align_content": null,
            "align_items": null,
            "align_self": null,
            "border": null,
            "bottom": null,
            "display": null,
            "flex": null,
            "flex_flow": null,
            "grid_area": null,
            "grid_auto_columns": null,
            "grid_auto_flow": null,
            "grid_auto_rows": null,
            "grid_column": null,
            "grid_gap": null,
            "grid_row": null,
            "grid_template_areas": null,
            "grid_template_columns": null,
            "grid_template_rows": null,
            "height": null,
            "justify_content": null,
            "justify_items": null,
            "left": null,
            "margin": null,
            "max_height": null,
            "max_width": null,
            "min_height": null,
            "min_width": null,
            "object_fit": null,
            "object_position": null,
            "order": null,
            "overflow": null,
            "overflow_x": null,
            "overflow_y": null,
            "padding": null,
            "right": null,
            "top": null,
            "visibility": null,
            "width": null
          }
        },
        "c141048e430e4078bb775681571c4504": {
          "model_module": "@jupyter-widgets/controls",
          "model_name": "DescriptionStyleModel",
          "model_module_version": "1.5.0",
          "state": {
            "_model_module": "@jupyter-widgets/controls",
            "_model_module_version": "1.5.0",
            "_model_name": "DescriptionStyleModel",
            "_view_count": null,
            "_view_module": "@jupyter-widgets/base",
            "_view_module_version": "1.2.0",
            "_view_name": "StyleView",
            "description_width": ""
          }
        },
        "0059a096b06c44898a76374a38bbeea4": {
          "model_module": "@jupyter-widgets/base",
          "model_name": "LayoutModel",
          "model_module_version": "1.2.0",
          "state": {
            "_model_module": "@jupyter-widgets/base",
            "_model_module_version": "1.2.0",
            "_model_name": "LayoutModel",
            "_view_count": null,
            "_view_module": "@jupyter-widgets/base",
            "_view_module_version": "1.2.0",
            "_view_name": "LayoutView",
            "align_content": null,
            "align_items": null,
            "align_self": null,
            "border": null,
            "bottom": null,
            "display": null,
            "flex": null,
            "flex_flow": null,
            "grid_area": null,
            "grid_auto_columns": null,
            "grid_auto_flow": null,
            "grid_auto_rows": null,
            "grid_column": null,
            "grid_gap": null,
            "grid_row": null,
            "grid_template_areas": null,
            "grid_template_columns": null,
            "grid_template_rows": null,
            "height": null,
            "justify_content": null,
            "justify_items": null,
            "left": null,
            "margin": null,
            "max_height": null,
            "max_width": null,
            "min_height": null,
            "min_width": null,
            "object_fit": null,
            "object_position": null,
            "order": null,
            "overflow": null,
            "overflow_x": null,
            "overflow_y": null,
            "padding": null,
            "right": null,
            "top": null,
            "visibility": null,
            "width": null
          }
        },
        "fa43a2a0870d4c74a1517c6ecbc7b481": {
          "model_module": "@jupyter-widgets/controls",
          "model_name": "ProgressStyleModel",
          "model_module_version": "1.5.0",
          "state": {
            "_model_module": "@jupyter-widgets/controls",
            "_model_module_version": "1.5.0",
            "_model_name": "ProgressStyleModel",
            "_view_count": null,
            "_view_module": "@jupyter-widgets/base",
            "_view_module_version": "1.2.0",
            "_view_name": "StyleView",
            "bar_color": null,
            "description_width": ""
          }
        },
        "9166ce735f484eff904287525d3b9aaa": {
          "model_module": "@jupyter-widgets/base",
          "model_name": "LayoutModel",
          "model_module_version": "1.2.0",
          "state": {
            "_model_module": "@jupyter-widgets/base",
            "_model_module_version": "1.2.0",
            "_model_name": "LayoutModel",
            "_view_count": null,
            "_view_module": "@jupyter-widgets/base",
            "_view_module_version": "1.2.0",
            "_view_name": "LayoutView",
            "align_content": null,
            "align_items": null,
            "align_self": null,
            "border": null,
            "bottom": null,
            "display": null,
            "flex": null,
            "flex_flow": null,
            "grid_area": null,
            "grid_auto_columns": null,
            "grid_auto_flow": null,
            "grid_auto_rows": null,
            "grid_column": null,
            "grid_gap": null,
            "grid_row": null,
            "grid_template_areas": null,
            "grid_template_columns": null,
            "grid_template_rows": null,
            "height": null,
            "justify_content": null,
            "justify_items": null,
            "left": null,
            "margin": null,
            "max_height": null,
            "max_width": null,
            "min_height": null,
            "min_width": null,
            "object_fit": null,
            "object_position": null,
            "order": null,
            "overflow": null,
            "overflow_x": null,
            "overflow_y": null,
            "padding": null,
            "right": null,
            "top": null,
            "visibility": null,
            "width": null
          }
        },
        "f6f8ef0c0e084f4082f65aebae1b7deb": {
          "model_module": "@jupyter-widgets/controls",
          "model_name": "DescriptionStyleModel",
          "model_module_version": "1.5.0",
          "state": {
            "_model_module": "@jupyter-widgets/controls",
            "_model_module_version": "1.5.0",
            "_model_name": "DescriptionStyleModel",
            "_view_count": null,
            "_view_module": "@jupyter-widgets/base",
            "_view_module_version": "1.2.0",
            "_view_name": "StyleView",
            "description_width": ""
          }
        }
      }
    }
  },
  "nbformat": 4,
  "nbformat_minor": 5
}